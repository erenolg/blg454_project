{
 "cells": [
  {
   "cell_type": "code",
   "execution_count": 1,
   "id": "0041870f",
   "metadata": {},
   "outputs": [],
   "source": [
    "import pandas as pd\n",
    "import numpy as np\n",
    "import matplotlib.pyplot as plt\n",
    "from tensorflow.keras.datasets import cifar10\n",
    "\n",
    "import tensorflow as tf\n",
    "import tensorflow_hub as hub\n",
    "import random"
   ]
  },
  {
   "cell_type": "markdown",
   "id": "f250f2a5",
   "metadata": {},
   "source": [
    "# DATA PREPARATION"
   ]
  },
  {
   "cell_type": "code",
   "execution_count": 2,
   "id": "0f71e43c",
   "metadata": {},
   "outputs": [],
   "source": [
    "(X_train, y_train), (X_test, y_test) = cifar10.load_data()\n",
    "\n",
    "X_train, X_test = X_train/255, X_test/255"
   ]
  },
  {
   "cell_type": "code",
   "execution_count": 3,
   "id": "4bbcf0ed",
   "metadata": {},
   "outputs": [],
   "source": [
    "class_order = ['airplane', 'automobile', 'bird', 'cat', 'deer', 'dog', 'frog', 'horse', 'ship', 'truck']\n",
    "\n",
    "# Create a list to store the ordered training items\n",
    "ordered_train_images = []\n",
    "ordered_train_labels = []\n",
    "\n",
    "# Iterate over the class order and extract the corresponding training items\n",
    "for i in range(len(class_order)):\n",
    "    class_name = class_order[i]\n",
    "    class_index = i\n",
    "    class_indices = np.where(y_train == class_index)[0]\n",
    "    class_images = X_train[class_indices]\n",
    "    class_labels = y_train[class_indices]\n",
    "    ordered_train_images.extend(class_images)\n",
    "    ordered_train_labels.extend(class_labels)\n",
    "# Convert the ordered training items back to numpy arrays\n",
    "X_train = np.array(ordered_train_images)\n",
    "y_train = np.array(ordered_train_labels)"
   ]
  },
  {
   "cell_type": "code",
   "execution_count": 4,
   "id": "b4d50658",
   "metadata": {},
   "outputs": [],
   "source": [
    "X_train = np.concatenate([X_train[:1000], X_train[5000:6000],\n",
    "                          X_train[10000:11000], X_train[15000:16000],\n",
    "                          X_train[20000:21000], X_train[25000:26000],\n",
    "                          X_train[30000:31000], X_train[35000:36000],\n",
    "                          X_train[40000:41000], X_train[45000:46000]])\n",
    "y_train = np.concatenate([y_train[:1000], y_train[5000:6000],\n",
    "                          y_train[10000:11000], y_train[15000:16000],\n",
    "                          y_train[20000:21000], y_train[25000:26000],\n",
    "                          y_train[30000:31000], y_train[35000:36000],\n",
    "                          y_train[40000:41000], y_train[45000:46000]])"
   ]
  },
  {
   "cell_type": "markdown",
   "id": "b8be4a16",
   "metadata": {},
   "source": [
    "# step2"
   ]
  },
  {
   "cell_type": "code",
   "execution_count": 5,
   "id": "893e67c3",
   "metadata": {},
   "outputs": [],
   "source": [
    "model = hub.load('https://tfhub.dev/google/magenta/arbitrary-image-stylization-v1-256/2')"
   ]
  },
  {
   "cell_type": "code",
   "execution_count": 6,
   "id": "d11f95f3",
   "metadata": {},
   "outputs": [],
   "source": [
    "def load_image(img_path):\n",
    "    img = tf.io.read_file(img_path)\n",
    "    img = tf.image.decode_image(img, channels=3)\n",
    "    img = tf.image.convert_image_dtype(img, tf.float32)\n",
    "    img = img[tf.newaxis, :]\n",
    "    return img\n",
    "\n",
    "style_images = [load_image(\"4.jpeg\"), load_image(\"frida.jpg\"), load_image(\"1.jpg\")]"
   ]
  },
  {
   "cell_type": "code",
   "execution_count": 7,
   "id": "878e60ac",
   "metadata": {},
   "outputs": [],
   "source": [
    "content_images = []\n",
    "\n",
    "for i in range(20):\n",
    "    content = tf.image.convert_image_dtype(X_train[i], tf.float32)\n",
    "    content = content[tf.newaxis, :]\n",
    "    content_images.append(content)"
   ]
  },
  {
   "cell_type": "code",
   "execution_count": 8,
   "id": "b77c7c64",
   "metadata": {},
   "outputs": [],
   "source": [
    "def generate_samples(content_images, style_images, style_transfer_model):\n",
    "    \n",
    "    positive_samples = []\n",
    "    negative_samples = []\n",
    "    \n",
    "    # Generate positive samples\n",
    "    for content in content_images:\n",
    "        for style in style_images:\n",
    "            stylized_image = style_transfer_model(tf.constant(content), tf.constant(style))[0]\n",
    "            positive_samples.append((content, stylized_image))\n",
    "    \n",
    "    # Generate negative samples\n",
    "    for content1 in content_images:\n",
    "        for content2 in content_images:\n",
    "            if  not (np.array_equal(content1, content2)):\n",
    "                random_style = style_images[np.random.randint(0, len(style_images)-1)]\n",
    "                stylized_image = style_transfer_model(tf.constant(content1), tf.constant(random_style))[0]\n",
    "                negative_samples.append((content1, stylized_image))\n",
    "    \n",
    "    return positive_samples, negative_samples"
   ]
  },
  {
   "cell_type": "code",
   "execution_count": 9,
   "id": "8a2b93f6",
   "metadata": {},
   "outputs": [],
   "source": [
    "import tensorflow as tf\n",
    "from tensorflow.keras import layers\n",
    "\n",
    "# Define the contrastive model architecture\n",
    "def create_contrastive_model(input_shape_content, input_shape_style, embedding_dim):\n",
    "    input_content = tf.keras.Input(shape=input_shape_content)\n",
    "    input_style = tf.keras.Input(shape=input_shape_style)\n",
    "    \n",
    "    # Content branch\n",
    "    x_content = layers.Conv2D(32, (3, 3), activation='relu')(input_content)\n",
    "    x_content = layers.MaxPooling2D((2, 2))(x_content)\n",
    "    x_content = layers.Conv2D(64, (3, 3), activation='relu')(x_content)\n",
    "    x_content = layers.MaxPooling2D((2, 2))(x_content)\n",
    "    x_content = layers.Flatten()(x_content)\n",
    "    x_content = layers.Dense(embedding_dim, activation='relu')(x_content)\n",
    "    \n",
    "    # Style branch\n",
    "    x_style = layers.Conv2D(32, (3, 3), activation='relu')(input_style)\n",
    "    x_style = layers.MaxPooling2D((2, 2))(x_style)\n",
    "    x_style = layers.Conv2D(64, (3, 3), activation='relu')(x_style)\n",
    "    x_style = layers.MaxPooling2D((2, 2))(x_style)\n",
    "    x_style = layers.Flatten()(x_style)\n",
    "    x_style = layers.Dense(embedding_dim, activation='relu')(x_style)\n",
    "    \n",
    "    # Concatenate content and style embeddings\n",
    "    concatenated = layers.Concatenate()([x_content, x_style])\n",
    "    \n",
    "    # Normalize the concatenated embeddings\n",
    "    normalized = layers.Lambda(lambda x: tf.math.l2_normalize(x, axis=1))(concatenated)\n",
    "    \n",
    "    # Create the model with inputs and outputs\n",
    "    model = tf.keras.Model(inputs=[input_content, input_style], outputs=normalized)\n",
    "    return model\n",
    "\n",
    "\n",
    "def contrastive_loss(y_true, y_pred, margin=1.0):\n",
    "    square_pred = tf.square(1 - y_pred)\n",
    "    margin_square = tf.square(tf.maximum(margin - y_pred, 0))\n",
    "    return tf.reduce_mean(y_true * square_pred + (1 - y_true) * margin_square)"
   ]
  },
  {
   "cell_type": "code",
   "execution_count": 10,
   "id": "3d77b9a4",
   "metadata": {},
   "outputs": [],
   "source": [
    "positive_samples, negative_samples = generate_samples(content_images, style_images, model)"
   ]
  },
  {
   "cell_type": "code",
   "execution_count": 11,
   "id": "a1dfb4ff",
   "metadata": {},
   "outputs": [],
   "source": [
    "contrastive_model = create_contrastive_model(input_shape_content=(32, 32, 3),\n",
    "                                             input_shape_style=(32, 32, 3),\n",
    "                                             embedding_dim=128)"
   ]
  },
  {
   "cell_type": "code",
   "execution_count": 12,
   "id": "7fe86932",
   "metadata": {},
   "outputs": [],
   "source": [
    "positive_samples = np.array(positive_samples)\n",
    "negative_samples = np.array(negative_samples)"
   ]
  },
  {
   "cell_type": "code",
   "execution_count": 13,
   "id": "eb3c40d4",
   "metadata": {},
   "outputs": [
    {
     "name": "stdout",
     "output_type": "stream",
     "text": [
      "p:60 | n: 380\n"
     ]
    }
   ],
   "source": [
    "print(f\"p:{len(positive_samples)} | n: {len(negative_samples)}\")"
   ]
  },
  {
   "cell_type": "code",
   "execution_count": 14,
   "id": "b22b6e75",
   "metadata": {},
   "outputs": [],
   "source": [
    "content_images_positive = positive_samples[:, 0]\n",
    "stylized_images_positive = positive_samples[:, 1]\n",
    "content_images_negative = negative_samples[:, 0]\n",
    "stylized_images_negative = negative_samples[:, 1]"
   ]
  },
  {
   "cell_type": "code",
   "execution_count": 15,
   "id": "731bd14b",
   "metadata": {},
   "outputs": [],
   "source": [
    "positive_labels = np.ones(len(positive_samples))\n",
    "negative_labels = np.zeros(len(negative_samples))"
   ]
  },
  {
   "cell_type": "code",
   "execution_count": 16,
   "id": "629f8d80",
   "metadata": {},
   "outputs": [],
   "source": [
    "train_images_content = np.concatenate((content_images_positive, content_images_negative))\n",
    "train_images_style = np.concatenate((stylized_images_positive, stylized_images_negative))\n",
    "train_labels_content = np.concatenate((positive_labels, negative_labels))\n",
    "\n",
    "train_images_content = np.squeeze(train_images_content, axis=1)\n",
    "train_images_style = np.squeeze(train_images_style, axis=1)\n",
    "# Shuffle the data\n",
    "indices = np.random.permutation(len(train_images_content))\n",
    "train_images_content = train_images_content[indices]\n",
    "train_images_style = train_images_style[indices]\n",
    "train_labels_content = train_labels_content[indices]\n",
    "\n",
    "# Prepare the training data\n",
    "train_data = ([train_images_content, train_images_style], train_labels_content)\n",
    "\n",
    "# Split the train_data into content and style inputs\n",
    "train_content_images = train_data[0][0]\n",
    "train_style_images = train_data[0][1]\n",
    "train_labels = train_data[1]\n"
   ]
  },
  {
   "cell_type": "code",
   "execution_count": 17,
   "id": "e0473c26",
   "metadata": {
    "scrolled": false
   },
   "outputs": [
    {
     "name": "stdout",
     "output_type": "stream",
     "text": [
      "Epoch 1/10\n",
      "14/14 [==============================] - 1s 23ms/step - loss: 0.8995\n",
      "Epoch 2/10\n",
      "14/14 [==============================] - 0s 26ms/step - loss: 0.8912\n",
      "Epoch 3/10\n",
      "14/14 [==============================] - 0s 24ms/step - loss: 0.8905\n",
      "Epoch 4/10\n",
      "14/14 [==============================] - 0s 18ms/step - loss: 0.8902\n",
      "Epoch 5/10\n",
      "14/14 [==============================] - 0s 28ms/step - loss: 0.8901\n",
      "Epoch 6/10\n",
      "14/14 [==============================] - 0s 21ms/step - loss: 0.8901\n",
      "Epoch 7/10\n",
      "14/14 [==============================] - 0s 18ms/step - loss: 0.8900\n",
      "Epoch 8/10\n",
      "14/14 [==============================] - 0s 20ms/step - loss: 0.8900\n",
      "Epoch 9/10\n",
      "14/14 [==============================] - 0s 24ms/step - loss: 0.8900\n",
      "Epoch 10/10\n",
      "14/14 [==============================] - 0s 24ms/step - loss: 0.8898\n"
     ]
    },
    {
     "data": {
      "text/plain": [
       "<keras.callbacks.History at 0x283b303a1a0>"
      ]
     },
     "execution_count": 17,
     "metadata": {},
     "output_type": "execute_result"
    }
   ],
   "source": [
    "contrastive_model.compile(optimizer='adam', loss=contrastive_loss)\n",
    "contrastive_model.fit([train_content_images, train_style_images], train_labels, epochs=10, batch_size=32)"
   ]
  },
  {
   "cell_type": "code",
   "execution_count": 25,
   "id": "b8adff41",
   "metadata": {
    "scrolled": false
   },
   "outputs": [
    {
     "data": {
      "text/plain": [
       "TensorShape([3, 3, 3, 32])"
      ]
     },
     "execution_count": 25,
     "metadata": {},
     "output_type": "execute_result"
    }
   ],
   "source": [
    "contrastive_model.weights[0].shape"
   ]
  },
  {
   "cell_type": "code",
   "execution_count": 26,
   "id": "58fb4e87",
   "metadata": {},
   "outputs": [
    {
     "ename": "AssertionError",
     "evalue": "Exception encountered when calling layer \"model\" (type Functional).\n\nCould not compute output KerasTensor(type_spec=TensorSpec(shape=(None, 256), dtype=tf.float32, name=None), name='lambda/l2_normalize:0', description=\"created by layer 'lambda'\")\n\nCall arguments received by layer \"model\" (type Functional):\n  • inputs=tf.Tensor(shape=(None, 32, 32, 3), dtype=float32)\n  • training=None\n  • mask=None",
     "output_type": "error",
     "traceback": [
      "\u001b[1;31m---------------------------------------------------------------------------\u001b[0m",
      "\u001b[1;31mAssertionError\u001b[0m                            Traceback (most recent call last)",
      "Cell \u001b[1;32mIn[26], line 4\u001b[0m\n\u001b[0;32m      1\u001b[0m contrastive_model\u001b[38;5;241m.\u001b[39mtrainable \u001b[38;5;241m=\u001b[39m \u001b[38;5;28;01mFalse\u001b[39;00m\n\u001b[0;32m      3\u001b[0m \u001b[38;5;66;03m# Train a linear classifier on top of the trained model\u001b[39;00m\n\u001b[1;32m----> 4\u001b[0m linear_classifier \u001b[38;5;241m=\u001b[39m \u001b[43mtf\u001b[49m\u001b[38;5;241;43m.\u001b[39;49m\u001b[43mkeras\u001b[49m\u001b[38;5;241;43m.\u001b[39;49m\u001b[43mSequential\u001b[49m\u001b[43m(\u001b[49m\u001b[43m[\u001b[49m\n\u001b[0;32m      5\u001b[0m \u001b[43m    \u001b[49m\u001b[43mcontrastive_model\u001b[49m\u001b[43m,\u001b[49m\n\u001b[0;32m      6\u001b[0m \u001b[43m    \u001b[49m\u001b[43mtf\u001b[49m\u001b[38;5;241;43m.\u001b[39;49m\u001b[43mkeras\u001b[49m\u001b[38;5;241;43m.\u001b[39;49m\u001b[43mlayers\u001b[49m\u001b[38;5;241;43m.\u001b[39;49m\u001b[43mDense\u001b[49m\u001b[43m(\u001b[49m\u001b[38;5;241;43m10\u001b[39;49m\u001b[43m,\u001b[49m\u001b[43m \u001b[49m\u001b[43mactivation\u001b[49m\u001b[38;5;241;43m=\u001b[39;49m\u001b[38;5;124;43m'\u001b[39;49m\u001b[38;5;124;43msoftmax\u001b[39;49m\u001b[38;5;124;43m'\u001b[39;49m\u001b[43m)\u001b[49m\n\u001b[0;32m      7\u001b[0m \u001b[43m]\u001b[49m\u001b[43m)\u001b[49m\n",
      "File \u001b[1;32m~\\anaconda3\\lib\\site-packages\\tensorflow\\python\\trackable\\base.py:205\u001b[0m, in \u001b[0;36mno_automatic_dependency_tracking.<locals>._method_wrapper\u001b[1;34m(self, *args, **kwargs)\u001b[0m\n\u001b[0;32m    203\u001b[0m \u001b[38;5;28mself\u001b[39m\u001b[38;5;241m.\u001b[39m_self_setattr_tracking \u001b[38;5;241m=\u001b[39m \u001b[38;5;28;01mFalse\u001b[39;00m  \u001b[38;5;66;03m# pylint: disable=protected-access\u001b[39;00m\n\u001b[0;32m    204\u001b[0m \u001b[38;5;28;01mtry\u001b[39;00m:\n\u001b[1;32m--> 205\u001b[0m   result \u001b[38;5;241m=\u001b[39m method(\u001b[38;5;28mself\u001b[39m, \u001b[38;5;241m*\u001b[39margs, \u001b[38;5;241m*\u001b[39m\u001b[38;5;241m*\u001b[39mkwargs)\n\u001b[0;32m    206\u001b[0m \u001b[38;5;28;01mfinally\u001b[39;00m:\n\u001b[0;32m    207\u001b[0m   \u001b[38;5;28mself\u001b[39m\u001b[38;5;241m.\u001b[39m_self_setattr_tracking \u001b[38;5;241m=\u001b[39m previous_value  \u001b[38;5;66;03m# pylint: disable=protected-access\u001b[39;00m\n",
      "File \u001b[1;32m~\\anaconda3\\lib\\site-packages\\keras\\utils\\traceback_utils.py:70\u001b[0m, in \u001b[0;36mfilter_traceback.<locals>.error_handler\u001b[1;34m(*args, **kwargs)\u001b[0m\n\u001b[0;32m     67\u001b[0m     filtered_tb \u001b[38;5;241m=\u001b[39m _process_traceback_frames(e\u001b[38;5;241m.\u001b[39m__traceback__)\n\u001b[0;32m     68\u001b[0m     \u001b[38;5;66;03m# To get the full stack trace, call:\u001b[39;00m\n\u001b[0;32m     69\u001b[0m     \u001b[38;5;66;03m# `tf.debugging.disable_traceback_filtering()`\u001b[39;00m\n\u001b[1;32m---> 70\u001b[0m     \u001b[38;5;28;01mraise\u001b[39;00m e\u001b[38;5;241m.\u001b[39mwith_traceback(filtered_tb) \u001b[38;5;28;01mfrom\u001b[39;00m \u001b[38;5;28mNone\u001b[39m\n\u001b[0;32m     71\u001b[0m \u001b[38;5;28;01mfinally\u001b[39;00m:\n\u001b[0;32m     72\u001b[0m     \u001b[38;5;28;01mdel\u001b[39;00m filtered_tb\n",
      "File \u001b[1;32m~\\anaconda3\\lib\\site-packages\\keras\\engine\\functional.py:678\u001b[0m, in \u001b[0;36mFunctional._run_internal_graph\u001b[1;34m(self, inputs, training, mask)\u001b[0m\n\u001b[0;32m    676\u001b[0m \u001b[38;5;28;01mfor\u001b[39;00m x \u001b[38;5;129;01min\u001b[39;00m \u001b[38;5;28mself\u001b[39m\u001b[38;5;241m.\u001b[39moutputs:\n\u001b[0;32m    677\u001b[0m     x_id \u001b[38;5;241m=\u001b[39m \u001b[38;5;28mstr\u001b[39m(\u001b[38;5;28mid\u001b[39m(x))\n\u001b[1;32m--> 678\u001b[0m     \u001b[38;5;28;01massert\u001b[39;00m x_id \u001b[38;5;129;01min\u001b[39;00m tensor_dict, \u001b[38;5;124m\"\u001b[39m\u001b[38;5;124mCould not compute output \u001b[39m\u001b[38;5;124m\"\u001b[39m \u001b[38;5;241m+\u001b[39m \u001b[38;5;28mstr\u001b[39m(x)\n\u001b[0;32m    679\u001b[0m     output_tensors\u001b[38;5;241m.\u001b[39mappend(tensor_dict[x_id]\u001b[38;5;241m.\u001b[39mpop())\n\u001b[0;32m    681\u001b[0m \u001b[38;5;28;01mreturn\u001b[39;00m tf\u001b[38;5;241m.\u001b[39mnest\u001b[38;5;241m.\u001b[39mpack_sequence_as(\u001b[38;5;28mself\u001b[39m\u001b[38;5;241m.\u001b[39m_nested_outputs, output_tensors)\n",
      "\u001b[1;31mAssertionError\u001b[0m: Exception encountered when calling layer \"model\" (type Functional).\n\nCould not compute output KerasTensor(type_spec=TensorSpec(shape=(None, 256), dtype=tf.float32, name=None), name='lambda/l2_normalize:0', description=\"created by layer 'lambda'\")\n\nCall arguments received by layer \"model\" (type Functional):\n  • inputs=tf.Tensor(shape=(None, 32, 32, 3), dtype=float32)\n  • training=None\n  • mask=None"
     ]
    }
   ],
   "source": [
    "contrastive_model.trainable = False\n",
    "\n",
    "# Train a linear classifier on top of the trained model\n",
    "linear_classifier = tf.keras.Sequential([\n",
    "    contrastive_model,\n",
    "    tf.keras.layers.Dense(10, activation='softmax')\n",
    "])"
   ]
  },
  {
   "cell_type": "code",
   "execution_count": 18,
   "id": "f03ce815",
   "metadata": {},
   "outputs": [
    {
     "ename": "AssertionError",
     "evalue": "Exception encountered when calling layer \"model\" (type Functional).\n\nCould not compute output KerasTensor(type_spec=TensorSpec(shape=(None, 256), dtype=tf.float32, name=None), name='lambda/l2_normalize:0', description=\"created by layer 'lambda'\")\n\nCall arguments received by layer \"model\" (type Functional):\n  • inputs=tf.Tensor(shape=(None, 32, 32, 3), dtype=float32)\n  • training=None\n  • mask=None",
     "output_type": "error",
     "traceback": [
      "\u001b[1;31m---------------------------------------------------------------------------\u001b[0m",
      "\u001b[1;31mAssertionError\u001b[0m                            Traceback (most recent call last)",
      "Cell \u001b[1;32mIn[18], line 4\u001b[0m\n\u001b[0;32m      1\u001b[0m contrastive_model\u001b[38;5;241m.\u001b[39mtrainable \u001b[38;5;241m=\u001b[39m \u001b[38;5;28;01mFalse\u001b[39;00m\n\u001b[0;32m      3\u001b[0m \u001b[38;5;66;03m# Train a linear classifier on top of the trained model\u001b[39;00m\n\u001b[1;32m----> 4\u001b[0m linear_classifier \u001b[38;5;241m=\u001b[39m \u001b[43mtf\u001b[49m\u001b[38;5;241;43m.\u001b[39;49m\u001b[43mkeras\u001b[49m\u001b[38;5;241;43m.\u001b[39;49m\u001b[43mSequential\u001b[49m\u001b[43m(\u001b[49m\u001b[43m[\u001b[49m\n\u001b[0;32m      5\u001b[0m \u001b[43m    \u001b[49m\u001b[43mcontrastive_model\u001b[49m\u001b[43m,\u001b[49m\n\u001b[0;32m      6\u001b[0m \u001b[43m    \u001b[49m\u001b[43mtf\u001b[49m\u001b[38;5;241;43m.\u001b[39;49m\u001b[43mkeras\u001b[49m\u001b[38;5;241;43m.\u001b[39;49m\u001b[43mlayers\u001b[49m\u001b[38;5;241;43m.\u001b[39;49m\u001b[43mDense\u001b[49m\u001b[43m(\u001b[49m\u001b[38;5;241;43m10\u001b[39;49m\u001b[43m,\u001b[49m\u001b[43m \u001b[49m\u001b[43mactivation\u001b[49m\u001b[38;5;241;43m=\u001b[39;49m\u001b[38;5;124;43m'\u001b[39;49m\u001b[38;5;124;43msoftmax\u001b[39;49m\u001b[38;5;124;43m'\u001b[39;49m\u001b[43m)\u001b[49m\n\u001b[0;32m      7\u001b[0m \u001b[43m]\u001b[49m\u001b[43m)\u001b[49m\n\u001b[0;32m      9\u001b[0m \u001b[38;5;66;03m# Compile and train the linear classifier\u001b[39;00m\n\u001b[0;32m     10\u001b[0m linear_classifier\u001b[38;5;241m.\u001b[39mcompile(optimizer\u001b[38;5;241m=\u001b[39m\u001b[38;5;124m'\u001b[39m\u001b[38;5;124madam\u001b[39m\u001b[38;5;124m'\u001b[39m, loss\u001b[38;5;241m=\u001b[39m\u001b[38;5;124m'\u001b[39m\u001b[38;5;124msparse_categorical_crossentropy\u001b[39m\u001b[38;5;124m'\u001b[39m, metrics\u001b[38;5;241m=\u001b[39m[\u001b[38;5;124m'\u001b[39m\u001b[38;5;124maccuracy\u001b[39m\u001b[38;5;124m'\u001b[39m])\n",
      "File \u001b[1;32m~\\anaconda3\\lib\\site-packages\\tensorflow\\python\\trackable\\base.py:205\u001b[0m, in \u001b[0;36mno_automatic_dependency_tracking.<locals>._method_wrapper\u001b[1;34m(self, *args, **kwargs)\u001b[0m\n\u001b[0;32m    203\u001b[0m \u001b[38;5;28mself\u001b[39m\u001b[38;5;241m.\u001b[39m_self_setattr_tracking \u001b[38;5;241m=\u001b[39m \u001b[38;5;28;01mFalse\u001b[39;00m  \u001b[38;5;66;03m# pylint: disable=protected-access\u001b[39;00m\n\u001b[0;32m    204\u001b[0m \u001b[38;5;28;01mtry\u001b[39;00m:\n\u001b[1;32m--> 205\u001b[0m   result \u001b[38;5;241m=\u001b[39m method(\u001b[38;5;28mself\u001b[39m, \u001b[38;5;241m*\u001b[39margs, \u001b[38;5;241m*\u001b[39m\u001b[38;5;241m*\u001b[39mkwargs)\n\u001b[0;32m    206\u001b[0m \u001b[38;5;28;01mfinally\u001b[39;00m:\n\u001b[0;32m    207\u001b[0m   \u001b[38;5;28mself\u001b[39m\u001b[38;5;241m.\u001b[39m_self_setattr_tracking \u001b[38;5;241m=\u001b[39m previous_value  \u001b[38;5;66;03m# pylint: disable=protected-access\u001b[39;00m\n",
      "File \u001b[1;32m~\\anaconda3\\lib\\site-packages\\keras\\utils\\traceback_utils.py:70\u001b[0m, in \u001b[0;36mfilter_traceback.<locals>.error_handler\u001b[1;34m(*args, **kwargs)\u001b[0m\n\u001b[0;32m     67\u001b[0m     filtered_tb \u001b[38;5;241m=\u001b[39m _process_traceback_frames(e\u001b[38;5;241m.\u001b[39m__traceback__)\n\u001b[0;32m     68\u001b[0m     \u001b[38;5;66;03m# To get the full stack trace, call:\u001b[39;00m\n\u001b[0;32m     69\u001b[0m     \u001b[38;5;66;03m# `tf.debugging.disable_traceback_filtering()`\u001b[39;00m\n\u001b[1;32m---> 70\u001b[0m     \u001b[38;5;28;01mraise\u001b[39;00m e\u001b[38;5;241m.\u001b[39mwith_traceback(filtered_tb) \u001b[38;5;28;01mfrom\u001b[39;00m \u001b[38;5;28mNone\u001b[39m\n\u001b[0;32m     71\u001b[0m \u001b[38;5;28;01mfinally\u001b[39;00m:\n\u001b[0;32m     72\u001b[0m     \u001b[38;5;28;01mdel\u001b[39;00m filtered_tb\n",
      "File \u001b[1;32m~\\anaconda3\\lib\\site-packages\\keras\\engine\\functional.py:678\u001b[0m, in \u001b[0;36mFunctional._run_internal_graph\u001b[1;34m(self, inputs, training, mask)\u001b[0m\n\u001b[0;32m    676\u001b[0m \u001b[38;5;28;01mfor\u001b[39;00m x \u001b[38;5;129;01min\u001b[39;00m \u001b[38;5;28mself\u001b[39m\u001b[38;5;241m.\u001b[39moutputs:\n\u001b[0;32m    677\u001b[0m     x_id \u001b[38;5;241m=\u001b[39m \u001b[38;5;28mstr\u001b[39m(\u001b[38;5;28mid\u001b[39m(x))\n\u001b[1;32m--> 678\u001b[0m     \u001b[38;5;28;01massert\u001b[39;00m x_id \u001b[38;5;129;01min\u001b[39;00m tensor_dict, \u001b[38;5;124m\"\u001b[39m\u001b[38;5;124mCould not compute output \u001b[39m\u001b[38;5;124m\"\u001b[39m \u001b[38;5;241m+\u001b[39m \u001b[38;5;28mstr\u001b[39m(x)\n\u001b[0;32m    679\u001b[0m     output_tensors\u001b[38;5;241m.\u001b[39mappend(tensor_dict[x_id]\u001b[38;5;241m.\u001b[39mpop())\n\u001b[0;32m    681\u001b[0m \u001b[38;5;28;01mreturn\u001b[39;00m tf\u001b[38;5;241m.\u001b[39mnest\u001b[38;5;241m.\u001b[39mpack_sequence_as(\u001b[38;5;28mself\u001b[39m\u001b[38;5;241m.\u001b[39m_nested_outputs, output_tensors)\n",
      "\u001b[1;31mAssertionError\u001b[0m: Exception encountered when calling layer \"model\" (type Functional).\n\nCould not compute output KerasTensor(type_spec=TensorSpec(shape=(None, 256), dtype=tf.float32, name=None), name='lambda/l2_normalize:0', description=\"created by layer 'lambda'\")\n\nCall arguments received by layer \"model\" (type Functional):\n  • inputs=tf.Tensor(shape=(None, 32, 32, 3), dtype=float32)\n  • training=None\n  • mask=None"
     ]
    }
   ],
   "source": [
    "contrastive_model.trainable = False\n",
    "\n",
    "# Train a linear classifier on top of the trained model\n",
    "linear_classifier = tf.keras.Sequential([\n",
    "    contrastive_model,\n",
    "    tf.keras.layers.Dense(10, activation='softmax')\n",
    "])\n",
    "\n",
    "# Compile and train the linear classifier\n",
    "linear_classifier.compile(optimizer='adam', loss='sparse_categorical_crossentropy', metrics=['accuracy'])\n",
    "linear_classifier.fit(X_train, y_train, epochs=10, batch_size=32)\n",
    "\n",
    "# Evaluate the linear classifier\n",
    "test_loss, test_acc = linear_classifier.evaluate(X_test, y_test)\n",
    "print('Test accuracy:', test_acc)"
   ]
  },
  {
   "cell_type": "code",
   "execution_count": null,
   "id": "de9301aa",
   "metadata": {},
   "outputs": [],
   "source": []
  },
  {
   "cell_type": "code",
   "execution_count": null,
   "id": "34819701",
   "metadata": {},
   "outputs": [],
   "source": []
  },
  {
   "cell_type": "code",
   "execution_count": null,
   "id": "b253f7bb",
   "metadata": {},
   "outputs": [],
   "source": []
  },
  {
   "cell_type": "code",
   "execution_count": null,
   "id": "a8f12ada",
   "metadata": {},
   "outputs": [],
   "source": []
  },
  {
   "cell_type": "code",
   "execution_count": 87,
   "id": "0bb124a8",
   "metadata": {},
   "outputs": [
    {
     "ename": "ValueError",
     "evalue": "Dimension -1 must be >= 0",
     "output_type": "error",
     "traceback": [
      "\u001b[1;31m---------------------------------------------------------------------------\u001b[0m",
      "\u001b[1;31mValueError\u001b[0m                                Traceback (most recent call last)",
      "Cell \u001b[1;32mIn[87], line 39\u001b[0m\n\u001b[0;32m     36\u001b[0m train_labels, val_labels \u001b[38;5;241m=\u001b[39m labels[:train_size], labels[train_size:]\n\u001b[0;32m     38\u001b[0m \u001b[38;5;66;03m# Reshape the samples to remove the extra dimension\u001b[39;00m\n\u001b[1;32m---> 39\u001b[0m train_samples \u001b[38;5;241m=\u001b[39m tf\u001b[38;5;241m.\u001b[39mreshape(train_samples, \u001b[43m(\u001b[49m\u001b[38;5;241;43m-\u001b[39;49m\u001b[38;5;241;43m1\u001b[39;49m\u001b[43m,\u001b[49m\u001b[43m)\u001b[49m\u001b[43m \u001b[49m\u001b[38;5;241;43m+\u001b[39;49m\u001b[43m \u001b[49m\u001b[43mtrain_samples\u001b[49m\u001b[38;5;241;43m.\u001b[39;49m\u001b[43mshape\u001b[49m\u001b[43m[\u001b[49m\u001b[38;5;241;43m2\u001b[39;49m\u001b[43m:\u001b[49m\u001b[43m]\u001b[49m)\n\u001b[0;32m     40\u001b[0m val_samples \u001b[38;5;241m=\u001b[39m tf\u001b[38;5;241m.\u001b[39mreshape(val_samples, (\u001b[38;5;241m-\u001b[39m\u001b[38;5;241m1\u001b[39m,) \u001b[38;5;241m+\u001b[39m val_samples\u001b[38;5;241m.\u001b[39mshape[\u001b[38;5;241m2\u001b[39m:])\n\u001b[0;32m     42\u001b[0m \u001b[38;5;66;03m# Create the contrastive model\u001b[39;00m\n",
      "File \u001b[1;32m~\\anaconda3\\lib\\site-packages\\tensorflow\\python\\framework\\tensor_shape.py:1003\u001b[0m, in \u001b[0;36mTensorShape.__radd__\u001b[1;34m(self, other)\u001b[0m\n\u001b[0;32m   1001\u001b[0m \u001b[38;5;28;01mdef\u001b[39;00m \u001b[38;5;21m__radd__\u001b[39m(\u001b[38;5;28mself\u001b[39m, other):\n\u001b[0;32m   1002\u001b[0m   \u001b[38;5;28;01mif\u001b[39;00m \u001b[38;5;129;01mnot\u001b[39;00m \u001b[38;5;28misinstance\u001b[39m(other, TensorShape):\n\u001b[1;32m-> 1003\u001b[0m     other \u001b[38;5;241m=\u001b[39m \u001b[43mTensorShape\u001b[49m\u001b[43m(\u001b[49m\u001b[43mother\u001b[49m\u001b[43m)\u001b[49m\n\u001b[0;32m   1004\u001b[0m   \u001b[38;5;28;01mreturn\u001b[39;00m other\u001b[38;5;241m.\u001b[39mconcatenate(\u001b[38;5;28mself\u001b[39m)\n",
      "File \u001b[1;32m~\\anaconda3\\lib\\site-packages\\tensorflow\\python\\framework\\tensor_shape.py:776\u001b[0m, in \u001b[0;36mTensorShape.__init__\u001b[1;34m(self, dims)\u001b[0m\n\u001b[0;32m    767\u001b[0m \u001b[38;5;124;03m\"\"\"Creates a new TensorShape with the given dimensions.\u001b[39;00m\n\u001b[0;32m    768\u001b[0m \n\u001b[0;32m    769\u001b[0m \u001b[38;5;124;03mArgs:\u001b[39;00m\n\u001b[1;32m   (...)\u001b[0m\n\u001b[0;32m    773\u001b[0m \u001b[38;5;124;03m  TypeError: If dims cannot be converted to a list of dimensions.\u001b[39;00m\n\u001b[0;32m    774\u001b[0m \u001b[38;5;124;03m\"\"\"\u001b[39;00m\n\u001b[0;32m    775\u001b[0m \u001b[38;5;28;01mif\u001b[39;00m \u001b[38;5;28misinstance\u001b[39m(dims, (\u001b[38;5;28mtuple\u001b[39m, \u001b[38;5;28mlist\u001b[39m)):  \u001b[38;5;66;03m# Most common case.\u001b[39;00m\n\u001b[1;32m--> 776\u001b[0m   \u001b[38;5;28mself\u001b[39m\u001b[38;5;241m.\u001b[39m_dims \u001b[38;5;241m=\u001b[39m \u001b[38;5;28;43mtuple\u001b[39;49m\u001b[43m(\u001b[49m\u001b[43mas_dimension\u001b[49m\u001b[43m(\u001b[49m\u001b[43md\u001b[49m\u001b[43m)\u001b[49m\u001b[38;5;241;43m.\u001b[39;49m\u001b[43mvalue\u001b[49m\u001b[43m \u001b[49m\u001b[38;5;28;43;01mfor\u001b[39;49;00m\u001b[43m \u001b[49m\u001b[43md\u001b[49m\u001b[43m \u001b[49m\u001b[38;5;129;43;01min\u001b[39;49;00m\u001b[43m \u001b[49m\u001b[43mdims\u001b[49m\u001b[43m)\u001b[49m\n\u001b[0;32m    777\u001b[0m \u001b[38;5;28;01melif\u001b[39;00m dims \u001b[38;5;129;01mis\u001b[39;00m \u001b[38;5;28;01mNone\u001b[39;00m:\n\u001b[0;32m    778\u001b[0m   \u001b[38;5;28mself\u001b[39m\u001b[38;5;241m.\u001b[39m_dims \u001b[38;5;241m=\u001b[39m \u001b[38;5;28;01mNone\u001b[39;00m\n",
      "File \u001b[1;32m~\\anaconda3\\lib\\site-packages\\tensorflow\\python\\framework\\tensor_shape.py:776\u001b[0m, in \u001b[0;36m<genexpr>\u001b[1;34m(.0)\u001b[0m\n\u001b[0;32m    767\u001b[0m \u001b[38;5;124;03m\"\"\"Creates a new TensorShape with the given dimensions.\u001b[39;00m\n\u001b[0;32m    768\u001b[0m \n\u001b[0;32m    769\u001b[0m \u001b[38;5;124;03mArgs:\u001b[39;00m\n\u001b[1;32m   (...)\u001b[0m\n\u001b[0;32m    773\u001b[0m \u001b[38;5;124;03m  TypeError: If dims cannot be converted to a list of dimensions.\u001b[39;00m\n\u001b[0;32m    774\u001b[0m \u001b[38;5;124;03m\"\"\"\u001b[39;00m\n\u001b[0;32m    775\u001b[0m \u001b[38;5;28;01mif\u001b[39;00m \u001b[38;5;28misinstance\u001b[39m(dims, (\u001b[38;5;28mtuple\u001b[39m, \u001b[38;5;28mlist\u001b[39m)):  \u001b[38;5;66;03m# Most common case.\u001b[39;00m\n\u001b[1;32m--> 776\u001b[0m   \u001b[38;5;28mself\u001b[39m\u001b[38;5;241m.\u001b[39m_dims \u001b[38;5;241m=\u001b[39m \u001b[38;5;28mtuple\u001b[39m(\u001b[43mas_dimension\u001b[49m\u001b[43m(\u001b[49m\u001b[43md\u001b[49m\u001b[43m)\u001b[49m\u001b[38;5;241m.\u001b[39mvalue \u001b[38;5;28;01mfor\u001b[39;00m d \u001b[38;5;129;01min\u001b[39;00m dims)\n\u001b[0;32m    777\u001b[0m \u001b[38;5;28;01melif\u001b[39;00m dims \u001b[38;5;129;01mis\u001b[39;00m \u001b[38;5;28;01mNone\u001b[39;00m:\n\u001b[0;32m    778\u001b[0m   \u001b[38;5;28mself\u001b[39m\u001b[38;5;241m.\u001b[39m_dims \u001b[38;5;241m=\u001b[39m \u001b[38;5;28;01mNone\u001b[39;00m\n",
      "File \u001b[1;32m~\\anaconda3\\lib\\site-packages\\tensorflow\\python\\framework\\tensor_shape.py:740\u001b[0m, in \u001b[0;36mas_dimension\u001b[1;34m(value)\u001b[0m\n\u001b[0;32m    738\u001b[0m   \u001b[38;5;28;01mreturn\u001b[39;00m value\n\u001b[0;32m    739\u001b[0m \u001b[38;5;28;01melse\u001b[39;00m:\n\u001b[1;32m--> 740\u001b[0m   \u001b[38;5;28;01mreturn\u001b[39;00m \u001b[43mDimension\u001b[49m\u001b[43m(\u001b[49m\u001b[43mvalue\u001b[49m\u001b[43m)\u001b[49m\n",
      "File \u001b[1;32m~\\anaconda3\\lib\\site-packages\\tensorflow\\python\\framework\\tensor_shape.py:204\u001b[0m, in \u001b[0;36mDimension.__init__\u001b[1;34m(self, value)\u001b[0m\n\u001b[0;32m    202\u001b[0m \u001b[38;5;28;01mif\u001b[39;00m \u001b[38;5;28misinstance\u001b[39m(value, \u001b[38;5;28mint\u001b[39m):  \u001b[38;5;66;03m# Most common case.\u001b[39;00m\n\u001b[0;32m    203\u001b[0m   \u001b[38;5;28;01mif\u001b[39;00m value \u001b[38;5;241m<\u001b[39m \u001b[38;5;241m0\u001b[39m:\n\u001b[1;32m--> 204\u001b[0m     \u001b[38;5;28;01mraise\u001b[39;00m \u001b[38;5;167;01mValueError\u001b[39;00m(\u001b[38;5;124m\"\u001b[39m\u001b[38;5;124mDimension \u001b[39m\u001b[38;5;132;01m%d\u001b[39;00m\u001b[38;5;124m must be >= 0\u001b[39m\u001b[38;5;124m\"\u001b[39m \u001b[38;5;241m%\u001b[39m value)\n\u001b[0;32m    205\u001b[0m   \u001b[38;5;28mself\u001b[39m\u001b[38;5;241m.\u001b[39m_value \u001b[38;5;241m=\u001b[39m value\n\u001b[0;32m    206\u001b[0m \u001b[38;5;28;01melif\u001b[39;00m value \u001b[38;5;129;01mis\u001b[39;00m \u001b[38;5;28;01mNone\u001b[39;00m:\n",
      "\u001b[1;31mValueError\u001b[0m: Dimension -1 must be >= 0"
     ]
    }
   ],
   "source": [
    "import tensorflow as tf\n",
    "from tensorflow.keras import layers\n",
    "\n",
    "# Define the contrastive model architecture\n",
    "def create_contrastive_model(input_shape, embedding_dim):\n",
    "    inputs = tf.keras.Input(shape=input_shape)\n",
    "    x = layers.Conv2D(32, (3, 3), activation='relu')(inputs)\n",
    "    x = layers.MaxPooling2D((2, 2))(x)\n",
    "    x = layers.Conv2D(64, (3, 3), activation='relu')(x)\n",
    "    x = layers.MaxPooling2D((2, 2))(x)\n",
    "    x = layers.Flatten()(x)\n",
    "    x = layers.Dense(embedding_dim, activation='relu')(x)\n",
    "    outputs = layers.Lambda(lambda x: tf.math.l2_normalize(x, axis=1))(x)\n",
    "    model = tf.keras.Model(inputs=inputs, outputs=outputs)\n",
    "    return model\n",
    "\n",
    "# Generate positive and negative samples\n",
    "positive_samples, negative_samples = generate_samples(a, style_images, model)\n",
    "\n",
    "# Combine positive and negative samples\n",
    "all_samples = positive_samples + negative_samples\n",
    "labels = [1] * len(positive_samples) + [0] * len(negative_samples)\n",
    "\n",
    "# Shuffle the samples and labels in the same order\n",
    "combined = list(zip(all_samples, labels))\n",
    "random.shuffle(combined)\n",
    "all_samples, labels = zip(*combined)\n",
    "\n",
    "# Convert samples and labels to TensorFlow tensors\n",
    "all_samples = tf.convert_to_tensor(all_samples)\n",
    "labels = tf.convert_to_tensor(labels)\n",
    "\n",
    "# Split the data into training and validation sets\n",
    "train_size = int(0.8 * len(all_samples))\n",
    "train_samples, val_samples = all_samples[:train_size], all_samples[train_size:]\n",
    "train_labels, val_labels = labels[:train_size], labels[train_size:]\n",
    "\n",
    "# Reshape the samples to remove the extra dimension\n",
    "train_samples = tf.reshape(train_samples, (-1,) + train_samples.shape[2:])\n",
    "val_samples = tf.reshape(val_samples, (-1,) + val_samples.shape[2:])\n",
    "\n",
    "# Create the contrastive model\n",
    "input_shape = (1,32, 32, 3)  # Modify according to your image shape\n",
    "embedding_dim = 128  # Modify according to your desired embedding dimension\n",
    "contrastive_model = create_contrastive_model(input_shape, embedding_dim)\n",
    "\n",
    "# Define the contrastive loss function\n",
    "def contrastive_loss(y_true, y_pred, margin=1.0):\n",
    "    square_pred = tf.square(1 - y_pred)\n",
    "    margin_square = tf.square(tf.maximum(margin - y_pred, 0))\n",
    "    return tf.reduce_mean(y_true * square_pred + (1 - y_true) * margin_square)\n",
    "\n",
    "# Compile the model\n",
    "contrastive_model.compile(optimizer='adam', loss=contrastive_loss)\n",
    "\n",
    "# Train the contrastive model\n",
    "contrastive_model.fit(train_samples, train_labels, validation_data=(val_samples, val_labels), epochs=10)"
   ]
  },
  {
   "cell_type": "code",
   "execution_count": 55,
   "id": "001509f5",
   "metadata": {},
   "outputs": [],
   "source": [
    "positive_samples, negative_samples = generate_samples(a, style_images, model)"
   ]
  },
  {
   "cell_type": "markdown",
   "id": "2d75aea6",
   "metadata": {},
   "source": [
    "from tensorflow.keras.models import Model\n",
    "from tensorflow.keras.layers import Dense, GlobalAveragePooling2D\n",
    "from sklearn.preprocessing import LabelEncoder\n",
    "from sklearn.model_selection import train_test_split\n",
    "\n",
    "# Define base model for feature extraction (MobilenetV2 is used here)\n",
    "base_model = tf.keras.applications.MobileNetV2(\n",
    "    include_top=False, weights='imagenet', input_shape=(32, 32, 3), pooling='avg'\n",
    ")\n",
    "\n",
    "# Add a new projection head for contrastive learning\n",
    "projection_head = Dense(128, activation='relu')(base_model.output)\n",
    "\n",
    "# Define the projection model\n",
    "projection_model = Model(base_model.input, projection_head)\n",
    "\n",
    "# Define the encoder model\n",
    "encoder_model = Model(base_model.input, base_model.output)\n",
    "\n",
    "# Define the contrastive learning model\n",
    "contrastive_model = Model(base_model.input, projection_head)\n",
    "\n",
    "def contrastive_loss(y_true, embeddings_normalized, embeddings_projected):\n",
    "    # Expand the dimensions of y_true\n",
    "    y_true_expanded = tf.tile(tf.expand_dims(1 - y_true, axis=1), [1, embeddings_normalized.shape[1]])\n",
    "    \n",
    "    # Compute the contrastive loss\n",
    "    margin = 1.0\n",
    "    contrastive_loss = tf.reduce_mean(y_true_expanded * tf.square(embeddings_normalized - embeddings_projected) +\n",
    "                                      (1 - y_true_expanded) * tf.square(tf.maximum(margin - tf.norm(embeddings_normalized - embeddings_projected, axis=-1), 0)))\n",
    "    return contrastive_loss\n",
    "\n",
    "\n",
    "\n",
    "# Load and preprocess the data\n",
    "(X_train, y_train), (X_test, y_test) = tf.keras.datasets.cifar10.load_data()\n",
    "X_train = X_train / 255.0\n",
    "X_test = X_test / 255.0\n",
    "y_train = y_train.flatten()\n",
    "y_test = y_test.flatten()\n",
    "\n",
    "# Split the data into training and validation sets\n",
    "X_train, X_val, y_train, y_val = train_test_split(X_train, y_train, test_size=0.2, random_state=42)\n",
    "\n",
    "# Prepare the labels for contrastive learning\n",
    "labels_train_contrastive = tf.concat([tf.ones_like(y_train, dtype=tf.float32),\n",
    "                                      tf.zeros_like(y_train, dtype=tf.float32)], axis=0)\n",
    "labels_val_contrastive = tf.concat([tf.ones_like(y_val, dtype=tf.float32),\n",
    "                                    tf.zeros_like(y_val, dtype=tf.float32)], axis=0)\n",
    "\n",
    "# Encode the labels for classification\n",
    "label_encoder = LabelEncoder()\n",
    "y_train_encoded = label_encoder.fit_transform(y_train)\n",
    "y_val_encoded = label_encoder.transform(y_val)\n",
    "y_test_encoded = label_encoder.transform(y_test)\n",
    "\n",
    "# Define the contrastive learning optimizer\n",
    "contrastive_optimizer = tf.keras.optimizers.Adam()\n",
    "\n",
    "# Training loop for contrastive learning\n",
    "num_epochs_contrastive = 10\n",
    "batch_size_contrastive = 32\n",
    "num_steps_contrastive = len(X_train) // batch_size_contrastive\n",
    "\n",
    "for epoch in range(num_epochs_contrastive):\n",
    "    epoch_loss = 0.0\n",
    "\n",
    "    for step in range(num_steps_contrastive):\n",
    "        start = step * batch_size_contrastive\n",
    "        end = (step + 1) * batch_size_contrastive\n",
    "\n",
    "        batch_images = X_train[start:end]\n",
    "        batch_labels = labels_train_contrastive[start:end]\n",
    "\n",
    "        with tf.GradientTape() as tape:\n",
    "            embeddings_normalized = contrastive_model(batch_images, training=True)\n",
    "            embeddings_projected = projection_model(batch_images, training=True)\n",
    "            loss = contrastive_loss(batch_labels, embeddings_normalized, embeddings_projected)\n",
    "        \n",
    "        gradients = tape.gradient(loss, contrastive_model.trainable_variables + projection_model.trainable_variables)\n",
    "        contrastive_optimizer.apply_gradients(zip(gradients, contrastive_model.trainable_variables + projection_model.trainable_variables))\n",
    "\n",
    "        epoch_loss += loss.numpy()\n",
    "\n",
    "    avg_loss = epoch_loss / num_steps_contrastive\n",
    "    print(f\"Contrastive Learning - Epoch {epoch+1}/{num_epochs_contrastive}, Loss: {avg_loss}\")\n",
    "\n",
    "# Freeze the encoder model\n",
    "encoder_model.trainable = False\n",
    "\n",
    "# Add a new classifier layer\n",
    "output_layer = Dense(10, activation='softmax')(encoder_model.output)\n",
    "\n",
    "# Define the new model for classification\n",
    "classification_model = Model(encoder_model.input, output_layer)\n",
    "\n",
    "# Compile the classification model\n",
    "classification_model.compile(optimizer='adam', loss='sparse_categorical_crossentropy', metrics=['accuracy'])\n",
    "\n",
    "# Train the classification model\n",
    "classification_model.fit(X_train, y_train_encoded, epochs=10, validation_data=(X_val, y_val_encoded))\n",
    "\n",
    "# Evaluate the performance of the classification model\n",
    "test_loss, test_accuracy = classification_model.evaluate(X_test, y_test_encoded, verbose=2)\n",
    "print(f\"Classification Model - Test Loss: {test_loss}, Test Accuracy: {test_accuracy}\")"
   ]
  },
  {
   "cell_type": "code",
   "execution_count": null,
   "id": "ad6245f7",
   "metadata": {},
   "outputs": [],
   "source": []
  },
  {
   "cell_type": "code",
   "execution_count": null,
   "id": "cc2300be",
   "metadata": {},
   "outputs": [],
   "source": []
  }
 ],
 "metadata": {
  "kernelspec": {
   "display_name": "Python 3 (ipykernel)",
   "language": "python",
   "name": "python3"
  },
  "language_info": {
   "codemirror_mode": {
    "name": "ipython",
    "version": 3
   },
   "file_extension": ".py",
   "mimetype": "text/x-python",
   "name": "python",
   "nbconvert_exporter": "python",
   "pygments_lexer": "ipython3",
   "version": "3.10.9"
  }
 },
 "nbformat": 4,
 "nbformat_minor": 5
}
