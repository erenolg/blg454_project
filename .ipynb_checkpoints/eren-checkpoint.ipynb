{
 "cells": [
  {
   "cell_type": "code",
   "execution_count": 1,
   "id": "0041870f",
   "metadata": {},
   "outputs": [],
   "source": [
    "import pandas as pd\n",
    "import numpy as np\n",
    "import matplotlib.pyplot as plt\n",
    "from tensorflow.keras.datasets import cifar10\n",
    "\n",
    "import tensorflow as tf\n",
    "import tensorflow_hub as hub"
   ]
  },
  {
   "cell_type": "markdown",
   "id": "f250f2a5",
   "metadata": {},
   "source": [
    "# DATA PREPARATION"
   ]
  },
  {
   "cell_type": "code",
   "execution_count": 2,
   "id": "0f71e43c",
   "metadata": {},
   "outputs": [],
   "source": [
    "(X_train, y_train), (X_test, y_test) = cifar10.load_data()\n",
    "\n",
    "X_train, X_test = X_train/255, X_test/255"
   ]
  },
  {
   "cell_type": "code",
   "execution_count": 3,
   "id": "4bbcf0ed",
   "metadata": {},
   "outputs": [],
   "source": [
    "class_order = ['airplane', 'automobile', 'bird', 'cat', 'deer', 'dog', 'frog', 'horse', 'ship', 'truck']\n",
    "\n",
    "# Create a list to store the ordered training items\n",
    "ordered_train_images = []\n",
    "ordered_train_labels = []\n",
    "\n",
    "# Iterate over the class order and extract the corresponding training items\n",
    "for i in range(len(class_order)):\n",
    "    class_name = class_order[i]\n",
    "    class_index = i\n",
    "    class_indices = np.where(y_train == class_index)[0]\n",
    "    class_images = X_train[class_indices]\n",
    "    class_labels = y_train[class_indices]\n",
    "    ordered_train_images.extend(class_images)\n",
    "    ordered_train_labels.extend(class_labels)\n",
    "# Convert the ordered training items back to numpy arrays\n",
    "X_train = np.array(ordered_train_images)\n",
    "y_train = np.array(ordered_train_labels)"
   ]
  },
  {
   "cell_type": "code",
   "execution_count": 4,
   "id": "b4d50658",
   "metadata": {},
   "outputs": [],
   "source": [
    "X_train = np.concatenate([X_train[:1000], X_train[5000:6000],\n",
    "                          X_train[10000:11000], X_train[15000:16000],\n",
    "                          X_train[20000:21000], X_train[25000:26000],\n",
    "                          X_train[30000:31000], X_train[35000:36000],\n",
    "                          X_train[40000:41000], X_train[45000:46000]])\n",
    "y_train = np.concatenate([y_train[:1000], y_train[5000:6000],\n",
    "                          y_train[10000:11000], y_train[15000:16000],\n",
    "                          y_train[20000:21000], y_train[25000:26000],\n",
    "                          y_train[30000:31000], y_train[35000:36000],\n",
    "                          y_train[40000:41000], y_train[45000:46000]])"
   ]
  },
  {
   "cell_type": "code",
   "execution_count": null,
   "id": "6597e2a9",
   "metadata": {},
   "outputs": [],
   "source": []
  },
  {
   "cell_type": "markdown",
   "id": "b8be4a16",
   "metadata": {},
   "source": [
    "# step2"
   ]
  },
  {
   "cell_type": "code",
   "execution_count": 5,
   "id": "893e67c3",
   "metadata": {},
   "outputs": [],
   "source": [
    "model = hub.load('https://tfhub.dev/google/magenta/arbitrary-image-stylization-v1-256/2')"
   ]
  },
  {
   "cell_type": "code",
   "execution_count": null,
   "id": "dd6bcb90",
   "metadata": {},
   "outputs": [],
   "source": []
  },
  {
   "cell_type": "code",
   "execution_count": 7,
   "id": "d11f95f3",
   "metadata": {},
   "outputs": [],
   "source": [
    "def load_image(img_path):\n",
    "    img = tf.io.read_file(img_path)\n",
    "    img = tf.image.decode_image(img, channels=3)\n",
    "    img = tf.image.convert_image_dtype(img, tf.float32)\n",
    "    img = img[tf.newaxis, :]\n",
    "    return img\n",
    "\n",
    "style = load_image(\"frida.jpg\")"
   ]
  },
  {
   "cell_type": "code",
   "execution_count": 16,
   "id": "878e60ac",
   "metadata": {},
   "outputs": [],
   "source": [
    "a = []\n",
    "\n",
    "for i in range(100):\n",
    "    content = tf.image.convert_image_dtype(X_train[i], tf.float32)\n",
    "    content = content[tf.newaxis, :]\n",
    "    stylized_image = model(tf.constant(content), tf.constant(style))[0]\n",
    "    a.append(stylized_image)"
   ]
  },
  {
   "cell_type": "code",
   "execution_count": 20,
   "id": "21f88ec9",
   "metadata": {},
   "outputs": [
    {
     "data": {
      "text/plain": [
       "TensorShape([1, 32, 32, 3])"
      ]
     },
     "execution_count": 20,
     "metadata": {},
     "output_type": "execute_result"
    }
   ],
   "source": [
    "a[0].shape"
   ]
  },
  {
   "cell_type": "code",
   "execution_count": 22,
   "id": "fe90ccdb",
   "metadata": {},
   "outputs": [
    {
     "data": {
      "image/png": "[encoded data removed]",
      "text/plain": [
       "<Figure size 640x480 with 1 Axes>"
      ]
     },
     "metadata": {},
     "output_type": "display_data"
    }
   ],
   "source": [
    "plt.imshow(np.squeeze(a[5]))\n",
    "plt.show()"
   ]
  },
  {
   "cell_type": "code",
   "execution_count": null,
   "id": "3650d799",
   "metadata": {},
   "outputs": [],
   "source": []
  }
 ],
 "metadata": {
  "kernelspec": {
   "display_name": "Python 3 (ipykernel)",
   "language": "python",
   "name": "python3"
  },
  "language_info": {
   "codemirror_mode": {
    "name": "ipython",
    "version": 3
   },
   "file_extension": ".py",
   "mimetype": "text/x-python",
   "name": "python",
   "nbconvert_exporter": "python",
   "pygments_lexer": "ipython3",
   "version": "3.10.9"
  }
 },
 "nbformat": 4,
 "nbformat_minor": 5
}
