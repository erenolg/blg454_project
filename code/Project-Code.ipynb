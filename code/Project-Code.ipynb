{
 "cells": [
  {
   "attachments": {},
   "cell_type": "markdown",
   "id": "6f750bc5",
   "metadata": {},
   "source": [
    "Import necessary libraries"
   ]
  },
  {
   "cell_type": "code",
   "execution_count": 1,
   "id": "36191d84",
   "metadata": {},
   "outputs": [],
   "source": [
    "import pandas as pd\n",
    "import numpy as np\n",
    "import matplotlib.pyplot as plt\n",
    "import random\n",
    "import seaborn as sns\n",
    "\n",
    "import tensorflow as tf\n",
    "import tensorflow_hub as hub\n",
    "\n",
    "from tensorflow.keras.datasets import cifar10\n",
    "from tensorflow.keras import layers\n",
    "from tensorflow.keras.models import Model\n",
    "\n",
    "sns.set()"
   ]
  },
  {
   "attachments": {},
   "cell_type": "markdown",
   "id": "d1318637",
   "metadata": {},
   "source": [
    "# Data Preparation"
   ]
  },
  {
   "attachments": {},
   "cell_type": "markdown",
   "id": "d0641e3b",
   "metadata": {},
   "source": [
    "Load the dataset"
   ]
  },
  {
   "cell_type": "code",
   "execution_count": 2,
   "id": "e14bda4b",
   "metadata": {},
   "outputs": [],
   "source": [
    "(X_train, y_train), (X_test, y_test) = cifar10.load_data()"
   ]
  },
  {
   "attachments": {},
   "cell_type": "markdown",
   "id": "7d48fd4a",
   "metadata": {},
   "source": [
    "Since we have no much computational power, we used only 3 classes instead of 10"
   ]
  },
  {
   "cell_type": "code",
   "execution_count": 3,
   "id": "4f0d9aed",
   "metadata": {},
   "outputs": [],
   "source": [
    "labels_to_keep = [i for i in range(3)]  # Replace with the labels you want to keep\n",
    "\n",
    "# Filter the training set\n",
    "train_mask = np.isin(y_train, labels_to_keep)\n",
    "X_train = X_train[train_mask.flatten()]\n",
    "y_train = y_train[train_mask]\n",
    "\n",
    "# Filter the test set\n",
    "test_mask = np.isin(y_test, labels_to_keep)\n",
    "X_test = X_test[test_mask.flatten()]\n",
    "y_test = y_test[test_mask]"
   ]
  },
  {
   "attachments": {},
   "cell_type": "markdown",
   "id": "b262ca71",
   "metadata": {},
   "source": [
    "Normalize data"
   ]
  },
  {
   "cell_type": "code",
   "execution_count": 4,
   "id": "120a3828",
   "metadata": {},
   "outputs": [],
   "source": [
    "X_train, X_test = X_train/255, X_test/255"
   ]
  },
  {
   "attachments": {},
   "cell_type": "markdown",
   "id": "061bbe8a",
   "metadata": {},
   "source": [
    "Select Samples"
   ]
  },
  {
   "attachments": {},
   "cell_type": "markdown",
   "id": "b8d903f7",
   "metadata": {},
   "source": [
    "# Apply Style Transfer"
   ]
  },
  {
   "attachments": {},
   "cell_type": "markdown",
   "id": "4ade9a8a",
   "metadata": {},
   "source": [
    "Load the Style Transfer Model"
   ]
  },
  {
   "cell_type": "code",
   "execution_count": 5,
   "id": "f35da45b",
   "metadata": {},
   "outputs": [],
   "source": [
    "model = hub.load('https://tfhub.dev/google/magenta/arbitrary-image-stylization-v1-256/2')"
   ]
  },
  {
   "attachments": {},
   "cell_type": "markdown",
   "id": "75173197",
   "metadata": {},
   "source": [
    "Load Style Images"
   ]
  },
  {
   "cell_type": "code",
   "execution_count": 6,
   "id": "ff607a6b",
   "metadata": {},
   "outputs": [],
   "source": [
    "def load_image(img_path):\n",
    "    img = tf.io.read_file(img_path)\n",
    "    img = tf.image.decode_image(img, channels=3)\n",
    "    img = tf.image.convert_image_dtype(img, tf.float32)\n",
    "    img = img[tf.newaxis, :]\n",
    "    return img"
   ]
  },
  {
   "cell_type": "code",
   "execution_count": 7,
   "id": "0714c2f0",
   "metadata": {},
   "outputs": [],
   "source": [
    "style_images = []\n",
    "styles = [\"cola1.png\",\"Michael-Jackson.jpeg\",\"mumya.jpg\",\"Starry-Night.jpeg\", \"110.jpg\", \"farmers.jpeg\", \"Frida.jpeg\", \"monroe.png\", \"p4.jpg\", \"ss2.jpg\", \"tomato.png\",\"yellow-flowers.jpeg\"]\n",
    "for style in styles:\n",
    "    style_images.append(load_image(f\"../resized_styles//{style}\"))"
   ]
  },
  {
   "attachments": {},
   "cell_type": "markdown",
   "id": "8ff83593",
   "metadata": {},
   "source": [
    "Convert Images to TensorFlow Type"
   ]
  },
  {
   "cell_type": "code",
   "execution_count": 8,
   "id": "c7d158f6",
   "metadata": {},
   "outputs": [],
   "source": [
    "# Select how many content you want to use to generate samples\n",
    "content_images = []\n",
    "\n",
    "for i in range(20):\n",
    "    content = tf.image.convert_image_dtype(X_train[i], tf.float32)\n",
    "    content = content[tf.newaxis, :]\n",
    "    content_images.append(content)"
   ]
  },
  {
   "attachments": {},
   "cell_type": "markdown",
   "id": "32dfa1f2",
   "metadata": {},
   "source": [
    "## Generate Positive and Negative Samples"
   ]
  },
  {
   "cell_type": "code",
   "execution_count": 9,
   "id": "a9a2de81",
   "metadata": {},
   "outputs": [],
   "source": [
    "def generate_samples(content_images, style_images, style_transfer_model):\n",
    "    negative_samples = []\n",
    "    positive_samples = []\n",
    "    # Generate positive samples\n",
    "    for content in content_images:\n",
    "        for style1 in style_images:\n",
    "            stylized_image1 = style_transfer_model(tf.constant(content), tf.constant(style1))[0]\n",
    "            for style2 in style_images:\n",
    "                if  not (np.array_equal(style1, style2)):\n",
    "                    stylized_image2 = style_transfer_model(tf.constant(content), tf.constant(style2))[0]\n",
    "                    positive_samples.append((stylized_image1, stylized_image2))\n",
    "    \n",
    "    # Generate negative samples\n",
    "    for content1 in content_images:\n",
    "        if random.choice([0,1]) == 0:\n",
    "            for content2 in content_images:\n",
    "                if  not (np.array_equal(content1, content2)):\n",
    "                    for style1 in style_images:\n",
    "                        stylized_image1 = style_transfer_model(tf.constant(content1), tf.constant(style1))[0]\n",
    "                        for style2 in style_images:\n",
    "                            stylized_image2 = style_transfer_model(tf.constant(content2), tf.constant(style2))[0]\n",
    "                            negative_samples.append((stylized_image1, stylized_image2))\n",
    "    \n",
    "    return positive_samples, negative_samples"
   ]
  },
  {
   "attachments": {},
   "cell_type": "markdown",
   "id": "4461d4fb",
   "metadata": {},
   "source": [
    "## Upload Saved Samples (Once you saved the samples, you don't need to run again)"
   ]
  },
  {
   "cell_type": "code",
   "execution_count": 10,
   "id": "9635b635",
   "metadata": {},
   "outputs": [],
   "source": [
    "positive_samples, negative_samples = generate_samples(content_images, style_images, model)\n",
    "\n",
    "#np.save('positive_samples.npy', positive_samples)\n",
    "#np.save('negative_samples.npy', negative_samples)"
   ]
  },
  {
   "cell_type": "code",
   "execution_count": 11,
   "id": "b9c80022",
   "metadata": {},
   "outputs": [],
   "source": [
    "# # Load samples\n",
    "# positive_samples = np.load('positive_samples.npy')\n",
    "# negative_samples = np.load('negative_samples.npy')"
   ]
  },
  {
   "cell_type": "code",
   "execution_count": 12,
   "id": "553a9f97",
   "metadata": {},
   "outputs": [
    {
     "name": "stdout",
     "output_type": "stream",
     "text": [
      "Number of positive samples: 2640\n",
      "Number of negative samples: 16416\n"
     ]
    }
   ],
   "source": [
    "print(f\"Number of positive samples: {positive_samples.shape[0]}\")\n",
    "print(f\"Number of negative samples: {negative_samples.shape[0]}\")"
   ]
  },
  {
   "attachments": {},
   "cell_type": "markdown",
   "id": "870a7f89",
   "metadata": {},
   "source": [
    "## VISUALIZATION"
   ]
  },
  {
   "cell_type": "code",
   "execution_count": 13,
   "id": "f7f888de",
   "metadata": {},
   "outputs": [],
   "source": [
    "def plot_images_side_by_side(images):\n",
    "    fig, axs = plt.subplots(1, 2, figsize=(10, 5))\n",
    "    axs[0].imshow(images[0][0])\n",
    "    axs[0].axis('off')\n",
    "    axs[0].set_title('Image 1')\n",
    "    axs[1].imshow(images[1][0])\n",
    "    axs[1].axis('off')\n",
    "    axs[1].set_title('Image 2')\n",
    "    plt.show()"
   ]
  },
  {
   "attachments": {},
   "cell_type": "markdown",
   "id": "23cc6c25",
   "metadata": {},
   "source": [
    "#### Positive Pair Example"
   ]
  },
  {
   "cell_type": "code",
   "execution_count": 14,
   "id": "04ac33ce",
   "metadata": {},
   "outputs": [
    {
     "data": {
      "image/png": "[encoded data removed]",
      "text/plain": [
       "<Figure size 1000x500 with 2 Axes>"
      ]
     },
     "metadata": {},
     "output_type": "display_data"
    }
   ],
   "source": [
    "plot_images_side_by_side(positive_samples[500])"
   ]
  },
  {
   "attachments": {},
   "cell_type": "markdown",
   "id": "5a979605",
   "metadata": {},
   "source": [
    "#### Negative Pair Example"
   ]
  },
  {
   "cell_type": "code",
   "execution_count": 15,
   "id": "004cbd91",
   "metadata": {},
   "outputs": [
    {
     "data": {
      "image/png": "[encoded data removed]",
      "text/plain": [
       "<Figure size 1000x500 with 2 Axes>"
      ]
     },
     "metadata": {},
     "output_type": "display_data"
    }
   ],
   "source": [
    "plot_images_side_by_side(negative_samples[50])"
   ]
  },
  {
   "attachments": {},
   "cell_type": "markdown",
   "id": "1090ff3b",
   "metadata": {},
   "source": [
    "# Contrastive Model"
   ]
  },
  {
   "cell_type": "code",
   "execution_count": 16,
   "id": "de37f74c",
   "metadata": {},
   "outputs": [],
   "source": [
    "# Define the contrastive model architecture\n",
    "def create_contrastive_model(input_shape_content, input_shape_style, embedding_dim):\n",
    "    input_content = tf.keras.Input(shape=input_shape_content)\n",
    "    input_style = tf.keras.Input(shape=input_shape_style)\n",
    "    \n",
    "    # Content branch\n",
    "    x_content = layers.Conv2D(32, (3, 3), activation='relu')(input_content)\n",
    "    x_content = layers.MaxPooling2D((2, 2))(x_content)\n",
    "    x_content = layers.Conv2D(64, (3, 3), activation='relu')(x_content)\n",
    "    x_content = layers.MaxPooling2D((2, 2))(x_content)\n",
    "    x_content = layers.Flatten()(x_content)\n",
    "    x_content = layers.Dense(embedding_dim, activation='relu')(x_content)\n",
    "    \n",
    "    # Style branch\n",
    "    x_style = layers.Conv2D(32, (3, 3), activation='relu')(input_style)\n",
    "    x_style = layers.MaxPooling2D((2, 2))(x_style)\n",
    "    x_style = layers.Conv2D(64, (3, 3), activation='relu')(x_style)\n",
    "    x_style = layers.MaxPooling2D((2, 2))(x_style)\n",
    "    x_style = layers.Flatten()(x_style)\n",
    "    x_style = layers.Dense(embedding_dim, activation='relu')(x_style)\n",
    "    \n",
    "    # Concatenate content and style embeddings\n",
    "    concatenated = layers.Concatenate()([x_content, x_style])\n",
    "    \n",
    "    flattened = layers.Flatten()(concatenated)\n",
    "    # Normalize the concatenated embeddings\n",
    "    normalized = layers.Lambda(lambda x: tf.math.l2_normalize(x, axis=1))(concatenated)\n",
    "    \n",
    "    # Create the model with inputs and outputs\n",
    "    model = tf.keras.Model(inputs=[input_content, input_style], outputs=normalized)\n",
    "    return model\n",
    "\n",
    "\n",
    "# \n",
    "def contrastive_loss(y_true, y_pred, margin=0.5):\n",
    "    square_pred = tf.square(1 - y_pred)\n",
    "    margin_square = tf.square(tf.maximum(margin - y_pred, 0))\n",
    "    return tf.reduce_mean(y_true * square_pred + (1 - y_true) * margin_square) "
   ]
  },
  {
   "attachments": {},
   "cell_type": "markdown",
   "id": "d01d609a",
   "metadata": {},
   "source": [
    "Create Contrastive Model"
   ]
  },
  {
   "cell_type": "code",
   "execution_count": 17,
   "id": "12b509ab",
   "metadata": {},
   "outputs": [],
   "source": [
    "contrastive_model = create_contrastive_model(input_shape_content=(32, 32, 3),\n",
    "                                             input_shape_style=(32, 32, 3),\n",
    "                                             embedding_dim=128)"
   ]
  },
  {
   "cell_type": "code",
   "execution_count": 18,
   "id": "5146897f",
   "metadata": {},
   "outputs": [],
   "source": [
    "positive_samples = np.array(positive_samples)\n",
    "negative_samples = np.array(negative_samples)"
   ]
  },
  {
   "cell_type": "code",
   "execution_count": 19,
   "id": "e0656b72",
   "metadata": {},
   "outputs": [],
   "source": [
    "content_images_positive = positive_samples[:, 0]\n",
    "stylized_images_positive = positive_samples[:, 1]\n",
    "content_images_negative = negative_samples[:, 0]\n",
    "stylized_images_negative = negative_samples[:, 1]\n",
    "positive_labels = np.ones(len(positive_samples))\n",
    "negative_labels = np.zeros(len(negative_samples))\n",
    "train_images_content = np.concatenate((content_images_positive, content_images_negative))\n",
    "train_images_style = np.concatenate((stylized_images_positive, stylized_images_negative))\n",
    "train_labels_content = np.concatenate((positive_labels, negative_labels))\n",
    "\n",
    "train_images_content = np.squeeze(train_images_content, axis=1)\n",
    "train_images_style = np.squeeze(train_images_style, axis=1)\n",
    "\n",
    "# Shuffle the data\n",
    "indices = np.random.permutation(len(train_images_content))\n",
    "train_images_content = train_images_content[indices]\n",
    "train_images_style = train_images_style[indices]\n",
    "train_labels_content = train_labels_content[indices]\n",
    "\n",
    "# Select random samples for test data\n",
    "num_test_samples = min(len(positive_samples) + len(negative_samples), len(X_test))\n",
    "test_indices = np.random.choice(len(train_images_content), size=num_test_samples, replace=False)\n",
    "test_images_content = train_images_content[test_indices]\n",
    "test_images_style = train_images_style[test_indices]\n",
    "test_labels_content = train_labels_content[test_indices]\n",
    "\n",
    "# Remove the selected test samples from the training set\n",
    "train_images_content = np.delete(train_images_content, test_indices, axis=0)\n",
    "train_images_style = np.delete(train_images_style, test_indices, axis=0)\n",
    "train_labels_content = np.delete(train_labels_content, test_indices)\n",
    "\n",
    "# Prepare the training data\n",
    "train_data = ([train_images_content, train_images_style], train_labels_content)\n",
    "\n",
    "# Prepare the test data\n",
    "test_data = ([test_images_content, test_images_style], test_labels_content)\n",
    "\n",
    "# Split the train_data into content and style inputs\n",
    "train_content_images = train_data[0][0]\n",
    "train_style_images = train_data[0][1]\n",
    "train_labels = train_data[1]\n",
    "\n",
    "test_content_images = test_data[0][0]\n",
    "test_style_images = test_data[0][1]\n",
    "test_labels = test_data[1]"
   ]
  },
  {
   "attachments": {},
   "cell_type": "markdown",
   "id": "514bce84",
   "metadata": {},
   "source": [
    "# TEST"
   ]
  },
  {
   "cell_type": "code",
   "execution_count": 20,
   "id": "9db15782",
   "metadata": {},
   "outputs": [
    {
     "name": "stdout",
     "output_type": "stream",
     "text": [
      "Epoch 1/10\n",
      "502/502 [==============================] - 14s 27ms/step - loss: 0.2907\n",
      "Epoch 2/10\n",
      "502/502 [==============================] - 13s 27ms/step - loss: 0.2904\n",
      "Epoch 3/10\n",
      "502/502 [==============================] - 13s 27ms/step - loss: 0.2904\n",
      "Epoch 4/10\n",
      "502/502 [==============================] - 13s 27ms/step - loss: 0.2904\n",
      "Epoch 5/10\n",
      "502/502 [==============================] - 14s 27ms/step - loss: 0.2904\n",
      "Epoch 6/10\n",
      "502/502 [==============================] - 14s 27ms/step - loss: 0.2904\n",
      "Epoch 7/10\n",
      "502/502 [==============================] - 13s 27ms/step - loss: 0.2904\n",
      "Epoch 8/10\n",
      "502/502 [==============================] - 13s 27ms/step - loss: 0.2904\n",
      "Epoch 9/10\n",
      "502/502 [==============================] - 14s 27ms/step - loss: 0.2904\n",
      "Epoch 10/10\n",
      "502/502 [==============================] - 14s 28ms/step - loss: 0.2904\n"
     ]
    },
    {
     "data": {
      "text/plain": [
       "<keras.callbacks.History at 0x2310e212cd0>"
      ]
     },
     "execution_count": 20,
     "metadata": {},
     "output_type": "execute_result"
    }
   ],
   "source": [
    "contrastive_model.compile(optimizer='adam', loss=contrastive_loss)\n",
    "contrastive_model.fit([train_content_images, train_style_images], train_labels, epochs=10)"
   ]
  },
  {
   "cell_type": "code",
   "execution_count": 21,
   "id": "91cef0c5",
   "metadata": {},
   "outputs": [
    {
     "name": "stdout",
     "output_type": "stream",
     "text": [
      "Epoch 1/10\n",
      "750/750 [==============================] - 1s 1ms/step - loss: 0.8583 - accuracy: 0.6343 - val_loss: 0.7873 - val_accuracy: 0.6663\n",
      "Epoch 2/10\n",
      "750/750 [==============================] - 1s 1ms/step - loss: 0.7935 - accuracy: 0.6703 - val_loss: 0.9418 - val_accuracy: 0.6257\n",
      "Epoch 3/10\n",
      "750/750 [==============================] - 1s 1ms/step - loss: 0.7714 - accuracy: 0.6833 - val_loss: 0.7291 - val_accuracy: 0.7060\n",
      "Epoch 4/10\n",
      "750/750 [==============================] - 1s 1ms/step - loss: 0.7747 - accuracy: 0.6809 - val_loss: 0.7034 - val_accuracy: 0.7170\n",
      "Epoch 5/10\n",
      "750/750 [==============================] - 1s 1ms/step - loss: 0.7595 - accuracy: 0.6874 - val_loss: 0.7500 - val_accuracy: 0.6980\n",
      "Epoch 6/10\n",
      "750/750 [==============================] - 1s 1ms/step - loss: 0.7480 - accuracy: 0.6977 - val_loss: 0.8531 - val_accuracy: 0.6473\n",
      "Epoch 7/10\n",
      "750/750 [==============================] - 1s 1ms/step - loss: 0.7435 - accuracy: 0.6992 - val_loss: 0.7388 - val_accuracy: 0.6900\n",
      "Epoch 8/10\n",
      "750/750 [==============================] - 1s 1ms/step - loss: 0.7385 - accuracy: 0.6995 - val_loss: 0.7301 - val_accuracy: 0.6923\n",
      "Epoch 9/10\n",
      "750/750 [==============================] - 1s 1ms/step - loss: 0.7385 - accuracy: 0.7021 - val_loss: 0.7064 - val_accuracy: 0.7210\n",
      "Epoch 10/10\n",
      "750/750 [==============================] - 1s 1ms/step - loss: 0.7381 - accuracy: 0.7051 - val_loss: 0.8026 - val_accuracy: 0.6497\n"
     ]
    }
   ],
   "source": [
    "from keras.layers import Flatten\n",
    "from keras.layers import Dense\n",
    "from keras.utils import to_categorical\n",
    "\n",
    "base_model = contrastive_model.layers[0]\n",
    "\n",
    "# Add a new Flatten layer to our base model\n",
    "flattened = Flatten()(base_model.output)\n",
    "\n",
    "# Add a new classification layer to the flattened output\n",
    "output_layer = Dense(3, activation='softmax')(flattened)\n",
    "\n",
    "# Create a new classification model\n",
    "classification_model = Model(inputs=base_model.input, outputs=output_layer)\n",
    "y_train = to_categorical(y_train, num_classes=3)\n",
    "y_test = to_categorical(y_test, num_classes=3)\n",
    "# Now we can compile and train this model\n",
    "classification_model.compile(optimizer='adam', loss='categorical_crossentropy', metrics=['accuracy'])\n",
    "history = classification_model.fit(X_train, y_train, epochs=10, validation_data=(X_test,y_test), batch_size=20)"
   ]
  },
  {
   "attachments": {},
   "cell_type": "markdown",
   "id": "a2d435f5",
   "metadata": {},
   "source": [
    "## VISUALIZATION"
   ]
  },
  {
   "cell_type": "code",
   "execution_count": 22,
   "id": "d3f6ff84",
   "metadata": {},
   "outputs": [
    {
     "data": {
      "image/png": "[encoded data removed]",
      "text/plain": [
       "<Figure size 1200x600 with 2 Axes>"
      ]
     },
     "metadata": {},
     "output_type": "display_data"
    }
   ],
   "source": [
    "def plot_history(history):\n",
    "    train_loss = history.history['loss']\n",
    "    train_accuracy = history.history['accuracy']\n",
    "\n",
    "    # Create a figure with two subplots\n",
    "    fig, (ax1, ax2) = plt.subplots(1, 2, figsize=(12, 6))\n",
    "\n",
    "    # Plot the training loss curve\n",
    "    ax1.plot(train_loss, label='Training Loss', c=\"blue\")\n",
    "    ax1.set_xlabel('Epochs')\n",
    "    ax1.set_ylabel('Loss')\n",
    "    ax1.set_title('Training Loss')\n",
    "    ax1.legend()\n",
    "\n",
    "    # Plot the training accuracy curve\n",
    "    ax2.plot(train_accuracy, label='Training Accuracy', c=\"orange\")\n",
    "    ax2.set_xlabel('Epochs')\n",
    "    ax2.set_ylabel('Accuracy')\n",
    "    ax2.set_title('Training Accuracy')\n",
    "    ax2.legend()\n",
    "\n",
    "    # Adjust the spacing between subplots\n",
    "    plt.tight_layout()\n",
    "\n",
    "    # Show the plot\n",
    "    plt.show()\n",
    "    \n",
    "plot_history(history)"
   ]
  },
  {
   "attachments": {},
   "cell_type": "markdown",
   "id": "33631a7e",
   "metadata": {},
   "source": [
    "## Testing on Test Data"
   ]
  },
  {
   "cell_type": "code",
   "execution_count": 23,
   "id": "0c947f45",
   "metadata": {},
   "outputs": [
    {
     "name": "stdout",
     "output_type": "stream",
     "text": [
      "Accuracy: 0.6496666666666666\n"
     ]
    }
   ],
   "source": [
    "preds = classification_model.predict(X_test, verbose=0) # Model predictions\n",
    "pred_labels = np.argmax(preds, axis=1) # Prediction Labels\n",
    "\n",
    "y_test_labels = np.argmax(y_test, axis=1) # y_test labels\n",
    "\n",
    "accuracy = np.mean(pred_labels == y_test_labels)\n",
    "\n",
    "print(f\"Accuracy: {accuracy}\")"
   ]
  }
 ],
 "metadata": {
  "kernelspec": {
   "display_name": "Python 3 (ipykernel)",
   "language": "python",
   "name": "python3"
  },
  "language_info": {
   "codemirror_mode": {
    "name": "ipython",
    "version": 3
   },
   "file_extension": ".py",
   "mimetype": "text/x-python",
   "name": "python",
   "nbconvert_exporter": "python",
   "pygments_lexer": "ipython3",
   "version": "3.9.7"
  }
 },
 "nbformat": 4,
 "nbformat_minor": 5
}
