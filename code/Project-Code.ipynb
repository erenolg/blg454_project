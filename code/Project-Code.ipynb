{
 "cells": [
  {
   "attachments": {},
   "cell_type": "markdown",
   "id": "6f750bc5",
   "metadata": {},
   "source": [
    "Import necessary libraries"
   ]
  },
  {
   "cell_type": "code",
   "execution_count": 3,
   "id": "36191d84",
   "metadata": {},
   "outputs": [],
   "source": [
    "import pandas as pd\n",
    "import numpy as np\n",
    "import matplotlib.pyplot as plt\n",
    "import random\n",
    "\n",
    "import tensorflow as tf\n",
    "import tensorflow_hub as hub\n",
    "\n",
    "from tensorflow.keras.datasets import cifar10\n",
    "from tensorflow.keras import layers\n",
    "from tensorflow.keras.models import Model"
   ]
  },
  {
   "attachments": {},
   "cell_type": "markdown",
   "id": "d1318637",
   "metadata": {},
   "source": [
    "# Data Preparation"
   ]
  },
  {
   "attachments": {},
   "cell_type": "markdown",
   "id": "d0641e3b",
   "metadata": {},
   "source": [
    "Load the dataset"
   ]
  },
  {
   "cell_type": "code",
   "execution_count": 4,
   "id": "e14bda4b",
   "metadata": {},
   "outputs": [],
   "source": [
    "(X_train, y_train), (X_test, y_test) = cifar10.load_data()"
   ]
  },
  {
<<<<<<< Updated upstream
   "attachments": {},
=======
   "cell_type": "code",
   "execution_count": 5,
   "id": "3b460e40",
   "metadata": {},
   "outputs": [],
   "source": [
    "labels_to_keep = [i for i in range(3)]  # Replace with the labels you want to keep\n",
    "\n",
    "# Filter the training set\n",
    "train_mask = np.isin(y_train, labels_to_keep)\n",
    "X_train = X_train[train_mask.flatten()]\n",
    "y_train = y_train[train_mask]\n",
    "\n",
    "# Filter the test set\n",
    "test_mask = np.isin(y_test, labels_to_keep)\n",
    "X_test = X_test[test_mask.flatten()]\n",
    "y_test = y_test[test_mask]"
   ]
  },
  {
>>>>>>> Stashed changes
   "cell_type": "markdown",
   "id": "b262ca71",
   "metadata": {},
   "source": [
    "Normalize data"
   ]
  },
  {
   "cell_type": "code",
   "execution_count": 6,
   "id": "120a3828",
   "metadata": {},
   "outputs": [],
   "source": [
    "X_train, X_test = X_train/255, X_test/255"
   ]
  },
  {
   "attachments": {},
   "cell_type": "markdown",
   "id": "061bbe8a",
   "metadata": {},
   "source": [
    "Select Samples"
   ]
  },
  {
   "attachments": {},
   "cell_type": "markdown",
   "id": "b8d903f7",
   "metadata": {},
   "source": [
    "# Apply Style Transfer"
   ]
  },
  {
   "attachments": {},
   "cell_type": "markdown",
   "id": "4ade9a8a",
   "metadata": {},
   "source": [
    "Load the Style Transfer Model"
   ]
  },
  {
   "cell_type": "code",
   "execution_count": 7,
   "id": "f35da45b",
   "metadata": {},
   "outputs": [],
   "source": [
    "model = hub.load('https://tfhub.dev/google/magenta/arbitrary-image-stylization-v1-256/2')"
   ]
  },
  {
   "attachments": {},
   "cell_type": "markdown",
   "id": "75173197",
   "metadata": {},
   "source": [
    "Load Style Images"
   ]
  },
  {
   "cell_type": "code",
   "execution_count": 8,
   "id": "ff607a6b",
   "metadata": {},
   "outputs": [],
   "source": [
    "def load_image(img_path):\n",
    "    img = tf.io.read_file(img_path)\n",
    "    img = tf.image.decode_image(img, channels=3)\n",
    "    img = tf.image.convert_image_dtype(img, tf.float32)\n",
    "    img = img[tf.newaxis, :]\n",
    "    return img"
   ]
  },
  {
   "cell_type": "code",
   "execution_count": 9,
   "id": "0714c2f0",
   "metadata": {},
   "outputs": [],
   "source": [
    "style_images = []\n",
    "# ,\"Starry-Night.jpeg\", \"mumya.jpg\"\n",
    "styles = [\"Frida.jpeg\",\"Michael-Jackson.jpeg\"]\n",
    "for style in styles:\n",
    "    style_images.append(load_image(f\"../styles/{style}\"))"
   ]
  },
  {
   "attachments": {},
   "cell_type": "markdown",
   "id": "8ff83593",
   "metadata": {},
   "source": [
    "Convert Images to TensorFlow Type"
   ]
  },
  {
   "cell_type": "code",
   "execution_count": 10,
   "id": "c7d158f6",
   "metadata": {},
   "outputs": [],
   "source": [
    "content_images = []\n",
    "\n",
<<<<<<< Updated upstream
    "for i in range(50):\n",
=======
    "for i in range(7):\n",
>>>>>>> Stashed changes
    "    content = tf.image.convert_image_dtype(X_train[i], tf.float32)\n",
    "    content = content[tf.newaxis, :]\n",
    "    content_images.append(content)"
   ]
  },
  {
   "attachments": {},
   "cell_type": "markdown",
   "id": "32dfa1f2",
   "metadata": {},
   "source": [
    "Generate Positive and Negative Samples"
   ]
  },
  {
   "cell_type": "code",
   "execution_count": 11,
   "id": "a9a2de81",
   "metadata": {},
   "outputs": [],
   "source": [
    "def generate_samples(content_images, style_images, style_transfer_model):\n",
    "    negative_samples = []\n",
    "    positive_samples = []\n",
    "    # Generate positive samples\n",
    "    for content in content_images:\n",
    "        for style1 in style_images:\n",
    "            stylized_image1 = style_transfer_model(tf.constant(content), tf.constant(style1))[0]\n",
    "            for style2 in style_images:\n",
    "                if  not (np.array_equal(style1, style2)):\n",
    "                    stylized_image2 = style_transfer_model(tf.constant(content), tf.constant(style2))[0]\n",
    "                    positive_samples.append((stylized_image1, stylized_image2))\n",
    "    \n",
    "    # Generate negative samples\n",
    "    for content1 in content_images:\n",
    "        for content2 in content_images:\n",
    "            if  not (np.array_equal(content1, content2)):\n",
    "                for style1 in style_images:\n",
    "                    stylized_image1 = style_transfer_model(tf.constant(content1), tf.constant(style1))[0]\n",
    "                    for style2 in style_images:\n",
    "                        stylized_image2 = style_transfer_model(tf.constant(content2), tf.constant(style2))[0]\n",
    "                        negative_samples.append((stylized_image1, stylized_image2))\n",
    "    \n",
    "    return positive_samples, negative_samples"
   ]
  },
  {
<<<<<<< Updated upstream
   "attachments": {},
=======
   "cell_type": "code",
   "execution_count": 27,
   "id": "d76109bf",
   "metadata": {},
   "outputs": [
    {
     "data": {
      "text/plain": [
       "array([[[[0.24090354, 0.3207011 , 0.42633283],\n",
       "         [0.20448034, 0.35313895, 0.4612346 ],\n",
       "         [0.18023509, 0.33575726, 0.44741195],\n",
       "         ...,\n",
       "         [0.5163815 , 0.70879346, 0.49338186],\n",
       "         [0.5748404 , 0.7259788 , 0.51534617],\n",
       "         [0.57145464, 0.6742277 , 0.48938408]],\n",
       "\n",
       "        [[0.25431296, 0.34276497, 0.4533716 ],\n",
       "         [0.22125162, 0.38173434, 0.49714857],\n",
       "         [0.19648792, 0.3600389 , 0.48195812],\n",
       "         ...,\n",
       "         [0.59788173, 0.74882406, 0.5476728 ],\n",
       "         [0.6557505 , 0.76899225, 0.5635777 ],\n",
       "         [0.68560076, 0.7606247 , 0.5683089 ]],\n",
       "\n",
       "        [[0.24468848, 0.36906984, 0.4899383 ],\n",
       "         [0.21976078, 0.4035422 , 0.5321005 ],\n",
       "         [0.19235723, 0.37568256, 0.5012881 ],\n",
       "         ...,\n",
       "         [0.64438117, 0.791072  , 0.57655257],\n",
       "         [0.6997183 , 0.81331277, 0.5917282 ],\n",
       "         [0.73177534, 0.8206895 , 0.6095551 ]],\n",
       "\n",
       "        ...,\n",
       "\n",
       "        [[0.77583486, 0.5842516 , 0.48727506],\n",
       "         [0.881844  , 0.7231644 , 0.63946176],\n",
       "         [0.83831245, 0.63466114, 0.5389659 ],\n",
       "         ...,\n",
       "         [0.54907703, 0.7173382 , 0.7861669 ],\n",
       "         [0.5436223 , 0.71158767, 0.7931198 ],\n",
       "         [0.5337972 , 0.7090228 , 0.79919773]],\n",
       "\n",
       "        [[0.7705114 , 0.5595361 , 0.5034998 ],\n",
       "         [0.8814561 , 0.70721924, 0.65587395],\n",
       "         [0.8518131 , 0.6448525 , 0.5654011 ],\n",
       "         ...,\n",
       "         [0.56226975, 0.7216705 , 0.7992012 ],\n",
       "         [0.58093953, 0.7404037 , 0.8218813 ],\n",
       "         [0.56301945, 0.7311487 , 0.81892896]],\n",
       "\n",
       "        [[0.7965726 , 0.5592442 , 0.52920645],\n",
       "         [0.8961348 , 0.7111828 , 0.6745282 ],\n",
       "         [0.8683371 , 0.6636407 , 0.5921477 ],\n",
       "         ...,\n",
       "         [0.57154274, 0.7195035 , 0.8102688 ],\n",
       "         [0.6039131 , 0.7532414 , 0.83247197],\n",
       "         [0.58065325, 0.74810004, 0.82477087]]]], dtype=float32)"
      ]
     },
     "execution_count": 27,
     "metadata": {},
     "output_type": "execute_result"
    }
   ],
   "source": [
    "negative_samples[0][1]"
   ]
  },
  {
   "cell_type": "code",
   "execution_count": 28,
   "id": "d90f5b18",
   "metadata": {},
   "outputs": [
    {
     "data": {
      "text/plain": [
       "array([[[[0.51351786, 0.69978005, 0.8372017 ],\n",
       "         [0.42226523, 0.6521286 , 0.78805256],\n",
       "         [0.5064973 , 0.74866813, 0.8600212 ],\n",
       "         ...,\n",
       "         [0.48446918, 0.6815076 , 0.65796757],\n",
       "         [0.5099343 , 0.7133446 , 0.6860871 ],\n",
       "         [0.48319525, 0.6899792 , 0.65956676]],\n",
       "\n",
       "        [[0.5554942 , 0.7131417 , 0.84375405],\n",
       "         [0.46808097, 0.67278713, 0.80528873],\n",
       "         [0.50951344, 0.7394113 , 0.85720384],\n",
       "         ...,\n",
       "         [0.47060052, 0.68228763, 0.64664316],\n",
       "         [0.49408466, 0.70790863, 0.6719217 ],\n",
       "         [0.48731852, 0.69992924, 0.67220837]],\n",
       "\n",
       "        [[0.46294087, 0.6575608 , 0.78429264],\n",
       "         [0.38519454, 0.60083044, 0.74422383],\n",
       "         [0.38216814, 0.633505  , 0.77194023],\n",
       "         ...,\n",
       "         [0.48261404, 0.6838124 , 0.6529244 ],\n",
       "         [0.49088672, 0.6862004 , 0.66942525],\n",
       "         [0.48349714, 0.67738396, 0.67384374]],\n",
       "\n",
       "        ...,\n",
       "\n",
       "        [[0.6788908 , 0.43233007, 0.41303182],\n",
       "         [0.6574957 , 0.41912967, 0.4029799 ],\n",
       "         [0.7463002 , 0.54651326, 0.54529196],\n",
       "         ...,\n",
       "         [0.63947254, 0.6695113 , 0.7065867 ],\n",
       "         [0.62717414, 0.6366368 , 0.68921745],\n",
       "         [0.6225058 , 0.61762965, 0.6795807 ]],\n",
       "\n",
       "        [[0.71670884, 0.45791715, 0.47449365],\n",
       "         [0.67768425, 0.42489582, 0.4435093 ],\n",
       "         [0.76105285, 0.54106283, 0.5815872 ],\n",
       "         ...,\n",
       "         [0.7118358 , 0.7081724 , 0.7792685 ],\n",
       "         [0.6677474 , 0.65424955, 0.7454532 ],\n",
       "         [0.66592544, 0.641314  , 0.75100327]],\n",
       "\n",
       "        [[0.72289044, 0.4616274 , 0.47863117],\n",
       "         [0.69328505, 0.426885  , 0.4617325 ],\n",
       "         [0.77703434, 0.5742422 , 0.59225386],\n",
       "         ...,\n",
       "         [0.72781324, 0.7131779 , 0.8029228 ],\n",
       "         [0.690094  , 0.6715016 , 0.76937956],\n",
       "         [0.68634176, 0.6649626 , 0.7715016 ]]]], dtype=float32)"
      ]
     },
     "execution_count": 28,
     "metadata": {},
     "output_type": "execute_result"
    }
   ],
   "source": [
    "negative_samples[0][0]"
   ]
  },
  {
>>>>>>> Stashed changes
   "cell_type": "markdown",
   "id": "1090ff3b",
   "metadata": {},
   "source": [
    "# Contrastive Model"
   ]
  },
  {
   "cell_type": "code",
   "execution_count": 12,
   "id": "de37f74c",
   "metadata": {},
   "outputs": [],
   "source": [
    "# Define the contrastive model architecture\n",
    "def create_contrastive_model(input_shape_content, input_shape_style, embedding_dim):\n",
    "    input_content = tf.keras.Input(shape=input_shape_content)\n",
    "    input_style = tf.keras.Input(shape=input_shape_style)\n",
    "    \n",
    "    # Content branch\n",
    "    x_content = layers.Conv2D(32, (3, 3), activation='relu')(input_content)\n",
    "    x_content = layers.MaxPooling2D((2, 2))(x_content)\n",
    "    x_content = layers.Conv2D(64, (3, 3), activation='relu')(x_content)\n",
    "    x_content = layers.MaxPooling2D((2, 2))(x_content)\n",
    "    x_content = layers.Flatten()(x_content)\n",
    "    x_content = layers.Dense(embedding_dim, activation='relu')(x_content)\n",
    "    \n",
    "    # Style branch\n",
    "    x_style = layers.Conv2D(32, (3, 3), activation='relu')(input_style)\n",
    "    x_style = layers.MaxPooling2D((2, 2))(x_style)\n",
    "    x_style = layers.Conv2D(64, (3, 3), activation='relu')(x_style)\n",
    "    x_style = layers.MaxPooling2D((2, 2))(x_style)\n",
    "    x_style = layers.Flatten()(x_style)\n",
    "    x_style = layers.Dense(embedding_dim, activation='relu')(x_style)\n",
    "    \n",
    "    # Concatenate content and style embeddings\n",
    "    concatenated = layers.Concatenate()([x_content, x_style])\n",
    "    \n",
    "    flattened = layers.Flatten()(concatenated)\n",
    "    # Normalize the concatenated embeddings\n",
    "    normalized = layers.Lambda(lambda x: tf.math.l2_normalize(x, axis=1))(concatenated)\n",
    "    \n",
    "    # Create the model with inputs and outputs\n",
    "    model = tf.keras.Model(inputs=[input_content, input_style], outputs=normalized)\n",
    "    return model\n",
    "\n",
    "\n",
    "def contrastive_loss(y_true, y_pred, margin=1.0):\n",
    "    square_pred = tf.square(1 - y_pred)\n",
    "    margin_square = tf.square(tf.maximum(margin - y_pred, 0))\n",
    "    return tf.reduce_mean(y_true * square_pred + (1 - y_true) * margin_square)"
   ]
  },
  {
   "attachments": {},
   "cell_type": "markdown",
   "id": "de2c01a9",
   "metadata": {},
   "source": [
    "Generate Samples"
   ]
  },
  {
   "cell_type": "code",
   "execution_count": 13,
   "id": "d9137981",
   "metadata": {},
   "outputs": [],
   "source": [
    "positive_samples, negative_samples = generate_samples(content_images, style_images, model)"
   ]
  },
  {
   "attachments": {},
   "cell_type": "markdown",
   "id": "d01d609a",
   "metadata": {},
   "source": [
    "Create Contrastive Model"
   ]
  },
  {
   "cell_type": "code",
   "execution_count": 14,
   "id": "12b509ab",
   "metadata": {},
   "outputs": [],
   "source": [
    "contrastive_model = create_contrastive_model(input_shape_content=(32, 32, 3),\n",
    "                                             input_shape_style=(32, 32, 3),\n",
    "                                             embedding_dim=128)"
   ]
  },
  {
   "cell_type": "code",
   "execution_count": 15,
   "id": "5146897f",
   "metadata": {},
   "outputs": [],
   "source": [
    "positive_samples = np.array(positive_samples)\n",
    "negative_samples = np.array(negative_samples)"
   ]
  },
  {
   "cell_type": "code",
   "execution_count": 16,
   "id": "737558b1",
   "metadata": {},
   "outputs": [
    {
     "name": "stdout",
     "output_type": "stream",
     "text": [
<<<<<<< Updated upstream
      "p:200 | n: 2450\n"
=======
      "p:84 | n: 672\n"
>>>>>>> Stashed changes
     ]
    }
   ],
   "source": [
    "print(f\"p:{len(positive_samples)} | n: {len(negative_samples)}\")"
   ]
  },
  {
   "cell_type": "code",
   "execution_count": 17,
   "id": "e0656b72",
   "metadata": {},
   "outputs": [],
   "source": [
    "content_images_positive = positive_samples[:, 0]\n",
    "stylized_images_positive = positive_samples[:, 1]\n",
    "content_images_negative = negative_samples[:, 0]\n",
    "stylized_images_negative = negative_samples[:, 1]\n",
    "positive_labels = np.ones(len(positive_samples))\n",
    "negative_labels = np.zeros(len(negative_samples))\n",
    "train_images_content = np.concatenate((content_images_positive, content_images_negative))\n",
    "train_images_style = np.concatenate((stylized_images_positive, stylized_images_negative))\n",
    "train_labels_content = np.concatenate((positive_labels, negative_labels))\n",
    "\n",
    "train_images_content = np.squeeze(train_images_content, axis=1)\n",
    "train_images_style = np.squeeze(train_images_style, axis=1)\n",
    "\n",
    "# Shuffle the data\n",
    "indices = np.random.permutation(len(train_images_content))\n",
    "train_images_content = train_images_content[indices]\n",
    "train_images_style = train_images_style[indices]\n",
    "train_labels_content = train_labels_content[indices]\n",
    "\n",
    "# Select random samples for test data\n",
    "num_test_samples = 50\n",
    "test_indices = np.random.choice(len(train_images_content), size=num_test_samples, replace=False)\n",
    "test_images_content = train_images_content[test_indices]\n",
    "test_images_style = train_images_style[test_indices]\n",
    "test_labels_content = train_labels_content[test_indices]\n",
    "\n",
    "# Remove the selected test samples from the training set\n",
    "train_images_content = np.delete(train_images_content, test_indices, axis=0)\n",
    "train_images_style = np.delete(train_images_style, test_indices, axis=0)\n",
    "train_labels_content = np.delete(train_labels_content, test_indices)\n",
    "\n",
    "# Prepare the training data\n",
    "train_data = ([train_images_content, train_images_style], train_labels_content)\n",
    "\n",
    "# Prepare the test data\n",
    "test_data = ([test_images_content, test_images_style], test_labels_content)\n",
    "\n",
    "# Split the train_data into content and style inputs\n",
    "train_content_images = train_data[0][0]\n",
    "train_style_images = train_data[0][1]\n",
    "train_labels = train_data[1]\n",
    "\n",
    "test_content_images = test_data[0][0]\n",
    "test_style_images = test_data[0][1]\n",
    "test_labels = test_data[1]"
   ]
  },
  {
   "attachments": {},
   "cell_type": "markdown",
   "id": "514bce84",
   "metadata": {},
   "source": [
    "# TEST"
   ]
  },
  {
   "cell_type": "code",
   "execution_count": 18,
   "id": "9db15782",
   "metadata": {},
   "outputs": [
    {
     "name": "stdout",
     "output_type": "stream",
     "text": [
      "Epoch 1/10\n",
<<<<<<< Updated upstream
      "82/82 [==============================] - 4s 37ms/step - loss: 0.8959\n",
      "Epoch 2/10\n",
      "82/82 [==============================] - 2s 28ms/step - loss: 0.8938\n",
      "Epoch 3/10\n",
      "82/82 [==============================] - 2s 23ms/step - loss: 0.8938\n",
      "Epoch 4/10\n",
      "82/82 [==============================] - 2s 28ms/step - loss: 0.8937\n",
      "Epoch 5/10\n",
      "82/82 [==============================] - 2s 21ms/step - loss: 0.8937\n",
      "Epoch 6/10\n",
      "82/82 [==============================] - 3s 38ms/step - loss: 0.8937\n",
      "Epoch 7/10\n",
      "82/82 [==============================] - 2s 23ms/step - loss: 0.8937\n",
      "Epoch 8/10\n",
      "82/82 [==============================] - 2s 22ms/step - loss: 0.8937\n",
      "Epoch 9/10\n",
      "82/82 [==============================] - 2s 23ms/step - loss: 0.8937\n",
      "Epoch 10/10\n",
      "82/82 [==============================] - 2s 25ms/step - loss: 0.8937\n"
=======
      "23/23 [==============================] - 5s 73ms/step - loss: 0.8975\n",
      "Epoch 2/10\n",
      "23/23 [==============================] - 2s 69ms/step - loss: 0.8929\n",
      "Epoch 3/10\n",
      "23/23 [==============================] - 2s 78ms/step - loss: 0.8928\n",
      "Epoch 4/10\n",
      "23/23 [==============================] - 1s 63ms/step - loss: 0.8927\n",
      "Epoch 5/10\n",
      "23/23 [==============================] - 1s 55ms/step - loss: 0.8927\n",
      "Epoch 6/10\n",
      "23/23 [==============================] - 1s 57ms/step - loss: 0.8927\n",
      "Epoch 7/10\n",
      "23/23 [==============================] - 1s 59ms/step - loss: 0.8927\n",
      "Epoch 8/10\n",
      "23/23 [==============================] - 1s 57ms/step - loss: 0.8927\n",
      "Epoch 9/10\n",
      "23/23 [==============================] - 2s 67ms/step - loss: 0.8926\n",
      "Epoch 10/10\n",
      "23/23 [==============================] - 1s 60ms/step - loss: 0.8926\n"
>>>>>>> Stashed changes
     ]
    },
    {
     "data": {
      "text/plain": [
<<<<<<< Updated upstream
       "<keras.callbacks.History at 0x1bfb0181ff0>"
=======
       "<keras.callbacks.History at 0x1c2411ec2b0>"
>>>>>>> Stashed changes
      ]
     },
     "execution_count": 18,
     "metadata": {},
     "output_type": "execute_result"
    }
   ],
   "source": [
    "contrastive_model.compile(optimizer='adam', loss=contrastive_loss)\n",
    "contrastive_model.fit([train_content_images, train_style_images], train_labels, epochs=10)"
   ]
  },
  {
   "cell_type": "code",
   "execution_count": 19,
   "id": "c329b2a0",
   "metadata": {},
   "outputs": [],
   "source": [
    "from keras.layers import Dense"
   ]
  },
  {
   "cell_type": "code",
<<<<<<< Updated upstream
   "execution_count": 17,
   "id": "e58dcf4e",
=======
   "execution_count": 21,
   "id": "24320dc0",
>>>>>>> Stashed changes
   "metadata": {},
   "outputs": [
    {
     "name": "stdout",
     "output_type": "stream",
     "text": [
      "Epoch 1/10\n",
<<<<<<< Updated upstream
      "1563/1563 [==============================] - 49s 29ms/step - loss: 2.2391 - accuracy: 0.1616 - val_loss: 2.1922 - val_accuracy: 0.1735\n",
      "Epoch 2/10\n",
      "1563/1563 [==============================] - 32s 21ms/step - loss: 2.2203 - accuracy: 0.1697 - val_loss: 2.2149 - val_accuracy: 0.1770\n",
      "Epoch 3/10\n",
      "1563/1563 [==============================] - 34s 22ms/step - loss: 2.2145 - accuracy: 0.1723 - val_loss: 2.1951 - val_accuracy: 0.1632\n",
      "Epoch 4/10\n",
      "1563/1563 [==============================] - 34s 22ms/step - loss: 2.2067 - accuracy: 0.1768 - val_loss: 2.2138 - val_accuracy: 0.1749\n",
      "Epoch 5/10\n",
      "1563/1563 [==============================] - 37s 23ms/step - loss: 2.2028 - accuracy: 0.1801 - val_loss: 2.1868 - val_accuracy: 0.2024\n",
      "Epoch 6/10\n",
      "1563/1563 [==============================] - 32s 20ms/step - loss: 2.1979 - accuracy: 0.1811 - val_loss: 2.1902 - val_accuracy: 0.1729\n",
      "Epoch 7/10\n",
      "1563/1563 [==============================] - 38s 24ms/step - loss: 2.1915 - accuracy: 0.1848 - val_loss: 2.1930 - val_accuracy: 0.1754\n",
      "Epoch 8/10\n",
      "1563/1563 [==============================] - 40s 25ms/step - loss: 2.1862 - accuracy: 0.1889 - val_loss: 2.1743 - val_accuracy: 0.1776\n",
      "Epoch 9/10\n",
      "1563/1563 [==============================] - 38s 24ms/step - loss: 2.1802 - accuracy: 0.1924 - val_loss: 2.1636 - val_accuracy: 0.1819\n",
      "Epoch 10/10\n",
      "1563/1563 [==============================] - 35s 22ms/step - loss: 2.1792 - accuracy: 0.1930 - val_loss: 2.1510 - val_accuracy: 0.1902\n"
=======
      "469/469 [==============================] - 11s 22ms/step - loss: 1.1002 - accuracy: 0.3584 - val_loss: 1.1132 - val_accuracy: 0.3603\n",
      "Epoch 2/10\n",
      "469/469 [==============================] - 9s 20ms/step - loss: 1.0691 - accuracy: 0.4179 - val_loss: 1.0453 - val_accuracy: 0.4923\n",
      "Epoch 3/10\n",
      "469/469 [==============================] - 10s 21ms/step - loss: 1.0410 - accuracy: 0.4644 - val_loss: 1.0325 - val_accuracy: 0.4300\n",
      "Epoch 4/10\n",
      "469/469 [==============================] - 10s 22ms/step - loss: 1.0218 - accuracy: 0.4886 - val_loss: 0.9963 - val_accuracy: 0.5443\n",
      "Epoch 5/10\n",
      "469/469 [==============================] - 10s 22ms/step - loss: 1.0012 - accuracy: 0.5239 - val_loss: 0.9876 - val_accuracy: 0.5280\n",
      "Epoch 6/10\n",
      "469/469 [==============================] - 9s 20ms/step - loss: 0.9878 - accuracy: 0.5288 - val_loss: 1.0087 - val_accuracy: 0.4907\n",
      "Epoch 7/10\n",
      "469/469 [==============================] - 10s 22ms/step - loss: 0.9771 - accuracy: 0.5368 - val_loss: 1.0066 - val_accuracy: 0.4537\n",
      "Epoch 8/10\n",
      "469/469 [==============================] - 11s 23ms/step - loss: 0.9625 - accuracy: 0.5573 - val_loss: 0.9474 - val_accuracy: 0.5830\n",
      "Epoch 9/10\n",
      "469/469 [==============================] - 12s 25ms/step - loss: 0.9556 - accuracy: 0.5657 - val_loss: 0.9326 - val_accuracy: 0.5967\n",
      "Epoch 10/10\n",
      "469/469 [==============================] - 11s 24ms/step - loss: 0.9522 - accuracy: 0.5631 - val_loss: 0.9323 - val_accuracy: 0.5977\n"
>>>>>>> Stashed changes
     ]
    },
    {
     "data": {
      "text/plain": [
<<<<<<< Updated upstream
       "<keras.callbacks.History at 0x1bfadd8b640>"
      ]
     },
     "execution_count": 17,
=======
       "<keras.callbacks.History at 0x1c241183c40>"
      ]
     },
     "execution_count": 21,
>>>>>>> Stashed changes
     "metadata": {},
     "output_type": "execute_result"
    }
   ],
   "source": [
    "# # Freeze the contrastive model\n",
    "# for layer in contrastive_model.layers:\n",
    "#     layer.trainable = False\n",
    "\n",
    "# # Remove the last layer (Lambda layer for l2 normalization)\n",
    "# contrastive_model = tf.keras.Model(contrastive_model.input, contrastive_model.layers[-2].output)\n",
    "\n",
    "# # Add a new classifier layer\n",
    "# output_layer = tf.keras.layers.Dense(3, activation='softmax')(contrastive_model.output)\n",
    "\n",
    "# # Define the new model for classification\n",
    "# classification_model = tf.keras.Model(contrastive_model.input, output_layer)\n",
    "\n",
    "# classification_model.compile(optimizer='adam', loss='sparse_categorical_crossentropy', metrics=['accuracy'])\n",
    "\n",
    "\n",
    "# # Train the classification model\n",
    "# classification_model.fit([X_train, X_train], y_train, epochs=10,validation_data=([X_test, X_test], y_test))"
   ]
  },
  {
   "cell_type": "code",
<<<<<<< Updated upstream
   "execution_count": 18,
=======
   "execution_count": 23,
>>>>>>> Stashed changes
   "id": "91cef0c5",
   "metadata": {},
   "outputs": [
    {
     "name": "stdout",
     "output_type": "stream",
     "text": [
      "Epoch 1/10\n",
      "750/750 [==============================] - 3s 3ms/step - loss: 0.8558 - accuracy: 0.6334 - val_loss: 0.8620 - val_accuracy: 0.6560\n",
      "Epoch 2/10\n",
      "750/750 [==============================] - 2s 3ms/step - loss: 0.8084 - accuracy: 0.6593 - val_loss: 0.7544 - val_accuracy: 0.6757\n",
      "Epoch 3/10\n",
      "750/750 [==============================] - 2s 3ms/step - loss: 0.7757 - accuracy: 0.6826 - val_loss: 0.7456 - val_accuracy: 0.6807\n",
      "Epoch 4/10\n",
      "750/750 [==============================] - 2s 3ms/step - loss: 0.7618 - accuracy: 0.6909 - val_loss: 0.7203 - val_accuracy: 0.7003\n",
      "Epoch 5/10\n",
      "750/750 [==============================] - 2s 3ms/step - loss: 0.7602 - accuracy: 0.6918 - val_loss: 0.7083 - val_accuracy: 0.7147\n",
      "Epoch 6/10\n",
      "750/750 [==============================] - 2s 3ms/step - loss: 0.7536 - accuracy: 0.6933 - val_loss: 0.7192 - val_accuracy: 0.7090\n",
      "Epoch 7/10\n",
      "750/750 [==============================] - 3s 4ms/step - loss: 0.7371 - accuracy: 0.6983 - val_loss: 0.7706 - val_accuracy: 0.6887\n",
      "Epoch 8/10\n",
      "750/750 [==============================] - 2s 3ms/step - loss: 0.7334 - accuracy: 0.7042 - val_loss: 0.7324 - val_accuracy: 0.7053\n",
      "Epoch 9/10\n",
      "750/750 [==============================] - 2s 3ms/step - loss: 0.7264 - accuracy: 0.7052 - val_loss: 0.7542 - val_accuracy: 0.6957\n",
      "Epoch 10/10\n",
      "750/750 [==============================] - 2s 3ms/step - loss: 0.7292 - accuracy: 0.7052 - val_loss: 0.7015 - val_accuracy: 0.7233\n"
     ]
    },
    {
     "data": {
      "text/plain": [
       "<keras.callbacks.History at 0x1c26425f280>"
      ]
     },
     "execution_count": 23,
     "metadata": {},
     "output_type": "execute_result"
    }
   ],
   "source": [
    "from keras.layers import Flatten\n",
    "from keras.utils import to_categorical\n",
    "# Assuming model_6 is your original model\n",
    "base_model = contrastive_model.layers[0]\n",
    "# Here I assumed that base_model is the part that deals with content image only\n",
    "\n",
    "# Now, add a new Flatten layer to your base model\n",
    "flattened = Flatten()(base_model.output)\n",
    "\n",
    "# Add a new classification layer to the flattened output\n",
    "output_layer = Dense(3, activation='softmax')(flattened)\n",
    "\n",
    "# Create a new model\n",
    "classification_model = Model(inputs=base_model.input, outputs=output_layer)\n",
    "y_train = to_categorical(y_train, num_classes=3)\n",
    "y_test = to_categorical(y_test, num_classes=3)\n",
    "# Now you can compile and train this model\n",
    "classification_model.compile(optimizer='adam', loss='categorical_crossentropy', metrics=['accuracy'])\n",
    "classification_model.fit(X_train, y_train, epochs=10, validation_data=(X_test,y_test), batch_size=20)"
   ]
  }
 ],
 "metadata": {
  "kernelspec": {
   "display_name": "Python 3 (ipykernel)",
   "language": "python",
   "name": "python3"
  },
  "language_info": {
   "codemirror_mode": {
    "name": "ipython",
    "version": 3
   },
   "file_extension": ".py",
   "mimetype": "text/x-python",
   "name": "python",
   "nbconvert_exporter": "python",
   "pygments_lexer": "ipython3",
   "version": "3.10.9"
  }
 },
 "nbformat": 4,
 "nbformat_minor": 5
}
