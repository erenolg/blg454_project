{
 "cells": [
  {
   "cell_type": "markdown",
   "id": "715f09bf",
   "metadata": {},
   "source": [
    "Import necessary libraries"
   ]
  },
  {
   "cell_type": "code",
   "execution_count": 70,
   "id": "0041870f",
   "metadata": {},
   "outputs": [],
   "source": [
    "import pandas as pd\n",
    "import numpy as np\n",
    "import matplotlib.pyplot as plt\n",
    "import random\n",
    "\n",
    "import tensorflow as tf\n",
    "import tensorflow_hub as hub\n",
    "\n",
    "from tensorflow.keras.datasets import cifar10\n",
    "from tensorflow.keras import layers\n",
    "from tensorflow.keras.models import Model"
   ]
  },
  {
   "cell_type": "markdown",
   "id": "f250f2a5",
   "metadata": {},
   "source": [
    "# DATA PREPARATION"
   ]
  },
  {
   "cell_type": "markdown",
   "id": "0eabc982",
   "metadata": {},
   "source": [
    "Load Data"
   ]
  },
  {
   "cell_type": "code",
   "execution_count": 71,
   "id": "0f71e43c",
   "metadata": {},
   "outputs": [],
   "source": [
    "(X_train, y_train), (X_test, y_test) = cifar10.load_data()\n",
    "\n",
    "X_train, X_test = X_train/255, X_test/255"
   ]
  },
  {
   "cell_type": "markdown",
   "id": "656070cd",
   "metadata": {},
   "source": [
    "Orders of the class names in the dataset"
   ]
  },
  {
   "cell_type": "code",
   "execution_count": 72,
   "id": "4ce17217",
   "metadata": {},
   "outputs": [],
   "source": [
    "class_order = ['airplane', 'automobile', 'bird', 'cat', 'deer', 'dog', 'frog', 'horse', 'ship', 'truck']"
   ]
  },
  {
   "cell_type": "code",
   "execution_count": 73,
   "id": "4bbcf0ed",
   "metadata": {},
   "outputs": [],
   "source": [
    "# Create a list to store the ordered training items\n",
    "ordered_train_images = []\n",
    "ordered_train_labels = []\n",
    "\n",
    "# Iterate over the class order and extract the corresponding training items\n",
    "for i in range(len(class_order)):\n",
    "    class_name = class_order[i]\n",
    "    class_index = i\n",
    "    class_indices = np.where(y_train == class_index)[0]\n",
    "    class_images = X_train[class_indices]\n",
    "    class_labels = y_train[class_indices]\n",
    "    ordered_train_images.extend(class_images)\n",
    "    ordered_train_labels.extend(class_labels)\n",
    "# Convert the ordered training items back to numpy arrays\n",
    "X_train = np.array(ordered_train_images)\n",
    "y_train = np.array(ordered_train_labels)"
   ]
  },
  {
   "cell_type": "markdown",
   "id": "d96ded08",
   "metadata": {},
   "source": [
    "Select samples from train dataset"
   ]
  },
  {
   "cell_type": "code",
   "execution_count": 74,
   "id": "b4d50658",
   "metadata": {},
   "outputs": [],
   "source": [
    "ranges = [(0, 1000), (5000, 6000), (10000, 11000), (15000, 16000),\n",
    "          (20000, 21000), (25000, 26000), (30000, 31000),\n",
    "          (35000, 36000), (40000, 41000), (45000, 46000)]\n",
    "\n",
    "selected_indices = []\n",
    "for start, end in ranges:\n",
    "    selected_indices.extend(range(start, start + 2))\n",
    "\n",
    "X_train = X_train[selected_indices]\n",
    "y_train = y_train[selected_indices]"
   ]
  },
  {
   "cell_type": "markdown",
   "id": "e3f99dca",
   "metadata": {},
   "source": [
    "Select test samples"
   ]
  },
  {
   "cell_type": "code",
   "execution_count": 75,
   "id": "22bd3156",
   "metadata": {},
   "outputs": [],
   "source": [
    "X_test = X_test[:20]\n",
    "y_test = y_test[:20]"
   ]
  },
  {
   "cell_type": "markdown",
   "id": "b8be4a16",
   "metadata": {},
   "source": [
    "# step2"
   ]
  },
  {
   "cell_type": "markdown",
   "id": "4526fd41",
   "metadata": {},
   "source": [
    "Load model for style transfer"
   ]
  },
  {
   "cell_type": "code",
   "execution_count": 76,
   "id": "893e67c3",
   "metadata": {},
   "outputs": [],
   "source": [
    "model = hub.load('https://tfhub.dev/google/magenta/arbitrary-image-stylization-v1-256/2')"
   ]
  },
  {
   "cell_type": "markdown",
   "id": "77f3b15e",
   "metadata": {},
   "source": [
    "Load images"
   ]
  },
  {
   "cell_type": "code",
   "execution_count": 77,
   "id": "d11f95f3",
   "metadata": {},
   "outputs": [],
   "source": [
    "def load_image(img_path):\n",
    "    img = tf.io.read_file(img_path)\n",
    "    img = tf.image.decode_image(img, channels=3)\n",
    "    img = tf.image.convert_image_dtype(img, tf.float32)\n",
    "    img = img[tf.newaxis, :]\n",
    "    return img\n",
    "\n",
    "style_images = [load_image(\"../styles/a4.png\"), load_image(\"../styles/frida.jpg\"), load_image(\"../styles/p1.jpg\")]"
   ]
  },
  {
   "cell_type": "markdown",
   "id": "40743f9b",
   "metadata": {},
   "source": [
    "Add content images to an array"
   ]
  },
  {
   "cell_type": "code",
   "execution_count": 78,
   "id": "878e60ac",
   "metadata": {},
   "outputs": [],
   "source": [
    "content_images = []\n",
    "\n",
    "for i in range(20):\n",
    "    content = tf.image.convert_image_dtype(X_train[i], tf.float32)\n",
    "    content = content[tf.newaxis, :]\n",
    "    content_images.append(content)"
   ]
  },
  {
   "cell_type": "code",
   "execution_count": 79,
   "id": "b77c7c64",
   "metadata": {},
   "outputs": [],
   "source": [
    "def generate_samples(content_images, style_images, style_transfer_model):\n",
    "    \n",
    "    positive_samples = []\n",
    "    negative_samples = []\n",
    "    \n",
    "    # Generate positive samples\n",
    "    for content in content_images:\n",
    "        for style in style_images:\n",
    "            stylized_image = style_transfer_model(tf.constant(content), tf.constant(style))[0]\n",
    "            positive_samples.append((content, stylized_image))\n",
    "    \n",
    "    # Generate negative samples\n",
    "    for content1 in content_images:\n",
    "        for content2 in content_images:\n",
    "            if  not (np.array_equal(content1, content2)):\n",
    "                random_style = style_images[np.random.randint(0, len(style_images)-1)]\n",
    "                stylized_image = style_transfer_model(tf.constant(content1), tf.constant(random_style))[0]\n",
    "                negative_samples.append((content1, stylized_image))\n",
    "    \n",
    "    return positive_samples, negative_samples"
   ]
  },
  {
   "cell_type": "code",
   "execution_count": 80,
   "id": "0c170aaa",
   "metadata": {},
   "outputs": [],
   "source": [
    "# Define the contrastive model architecture\n",
    "def create_contrastive_model(input_shape_content, input_shape_style, embedding_dim):\n",
    "    input_content = tf.keras.Input(shape=input_shape_content)\n",
    "    input_style = tf.keras.Input(shape=input_shape_style)\n",
    "    \n",
    "    # Content branch\n",
    "    x_content = layers.Conv2D(32, (3, 3), activation='relu')(input_content)\n",
    "    x_content = layers.MaxPooling2D((2, 2))(x_content)\n",
    "    x_content = layers.Conv2D(64, (3, 3), activation='relu')(x_content)\n",
    "    x_content = layers.MaxPooling2D((2, 2))(x_content)\n",
    "    x_content = layers.Flatten()(x_content)\n",
    "    x_content = layers.Dense(embedding_dim, activation='relu')(x_content)\n",
    "    \n",
    "    # Style branch\n",
    "    x_style = layers.Conv2D(32, (3, 3), activation='relu')(input_style)\n",
    "    x_style = layers.MaxPooling2D((2, 2))(x_style)\n",
    "    x_style = layers.Conv2D(64, (3, 3), activation='relu')(x_style)\n",
    "    x_style = layers.MaxPooling2D((2, 2))(x_style)\n",
    "    x_style = layers.Flatten()(x_style)\n",
    "    x_style = layers.Dense(embedding_dim, activation='relu')(x_style)\n",
    "    \n",
    "    # Concatenate content and style embeddings\n",
    "    concatenated = layers.Concatenate()([x_content, x_style])\n",
    "    \n",
    "    flattened = layers.Flatten()(concatenated)\n",
    "    # Normalize the concatenated embeddings\n",
    "    normalized = layers.Lambda(lambda x: tf.math.l2_normalize(x, axis=1))(concatenated)\n",
    "    \n",
    "    # Create the model with inputs and outputs\n",
    "    model = tf.keras.Model(inputs=[input_content, input_style], outputs=normalized)\n",
    "    return model\n",
    "\n",
    "\n",
    "def contrastive_loss(y_true, y_pred, margin=1.0):\n",
    "    square_pred = tf.square(1 - y_pred)\n",
    "    margin_square = tf.square(tf.maximum(margin - y_pred, 0))\n",
    "    return tf.reduce_mean(y_true * square_pred + (1 - y_true) * margin_square)"
   ]
  },
  {
   "cell_type": "code",
   "execution_count": 81,
   "id": "d62d5098",
   "metadata": {},
   "outputs": [],
   "source": [
    "positive_samples, negative_samples = generate_samples(content_images, style_images, model)"
   ]
  },
  {
   "cell_type": "code",
   "execution_count": 82,
   "id": "e76e87c8",
   "metadata": {},
   "outputs": [],
   "source": [
    "contrastive_model = create_contrastive_model(input_shape_content=(32, 32, 3),\n",
    "                                             input_shape_style=(32, 32, 3),\n",
    "                                             embedding_dim=128)"
   ]
  },
  {
   "cell_type": "code",
   "execution_count": 83,
   "id": "c68c9243",
   "metadata": {},
   "outputs": [],
   "source": [
    "positive_samples = np.array(positive_samples)\n",
    "negative_samples = np.array(negative_samples)"
   ]
  },
  {
   "cell_type": "code",
   "execution_count": 84,
   "id": "bbf0ff6c",
   "metadata": {},
   "outputs": [
    {
     "name": "stdout",
     "output_type": "stream",
     "text": [
      "p:60 | n: 380\n"
     ]
    }
   ],
   "source": [
    "print(f\"p:{len(positive_samples)} | n: {len(negative_samples)}\")"
   ]
  },
  {
   "cell_type": "code",
   "execution_count": 85,
   "id": "8fa232b9",
   "metadata": {},
   "outputs": [],
   "source": [
    "content_images_positive = positive_samples[:, 0]\n",
    "stylized_images_positive = positive_samples[:, 1]\n",
    "content_images_negative = negative_samples[:, 0]\n",
    "stylized_images_negative = negative_samples[:, 1]"
   ]
  },
  {
   "cell_type": "code",
   "execution_count": 86,
   "id": "75baacfc",
   "metadata": {},
   "outputs": [],
   "source": [
    "positive_labels = np.ones(len(positive_samples))\n",
    "negative_labels = np.zeros(len(negative_samples))"
   ]
  },
  {
   "cell_type": "code",
   "execution_count": 88,
   "id": "aec1fdc6",
   "metadata": {},
   "outputs": [],
   "source": [
    "train_images_content = np.concatenate((content_images_positive, content_images_negative))\n",
    "train_images_style = np.concatenate((stylized_images_positive, stylized_images_negative))\n",
    "train_labels_content = np.concatenate((positive_labels, negative_labels))\n",
    "\n",
    "train_images_content = np.squeeze(train_images_content, axis=1)\n",
    "train_images_style = np.squeeze(train_images_style, axis=1)\n",
    "\n",
    "#test data\n",
    "# indices = np.random.permutation(len(20))\n",
    "# test_images_style = train_images_style[indices]\n",
    "\n",
    "# Shuffle the data\n",
    "indices = np.random.permutation(len(train_images_content))\n",
    "train_images_content = train_images_content[indices]\n",
    "train_images_style = train_images_style[indices]\n",
    "train_labels_content = train_labels_content[indices]\n",
    "\n",
    "\n",
    "\n",
    "# Prepare the training data\n",
    "train_data = ([train_images_content, train_images_style], train_labels_content)\n",
    "\n",
    "# Split the train_data into content and style inputs\n",
    "train_content_images = train_data[0][0]\n",
    "train_style_images = train_data[0][1]\n",
    "train_labels = train_data[1]\n"
   ]
  },
  {
   "cell_type": "code",
   "execution_count": 89,
   "id": "8e8cb36f",
   "metadata": {
    "scrolled": false
   },
   "outputs": [
    {
     "name": "stdout",
     "output_type": "stream",
     "text": [
      "Epoch 1/10\n",
      "14/14 [==============================] - 3s 77ms/step - loss: 0.9003\n",
      "Epoch 2/10\n",
      "14/14 [==============================] - 1s 74ms/step - loss: 0.8923\n",
      "Epoch 3/10\n",
      "14/14 [==============================] - 1s 73ms/step - loss: 0.8912\n",
      "Epoch 4/10\n",
      "14/14 [==============================] - 1s 84ms/step - loss: 0.8907\n",
      "Epoch 5/10\n",
      "14/14 [==============================] - 1s 88ms/step - loss: 0.8904\n",
      "Epoch 6/10\n",
      "14/14 [==============================] - 1s 78ms/step - loss: 0.8903\n",
      "Epoch 7/10\n",
      "14/14 [==============================] - 1s 89ms/step - loss: 0.8902\n",
      "Epoch 8/10\n",
      "14/14 [==============================] - 1s 91ms/step - loss: 0.8900\n",
      "Epoch 9/10\n",
      "14/14 [==============================] - 1s 79ms/step - loss: 0.8896\n",
      "Epoch 10/10\n",
      "14/14 [==============================] - 1s 82ms/step - loss: 0.8895\n"
     ]
    },
    {
     "data": {
      "text/plain": [
       "<keras.callbacks.History at 0x22a93ae0eb0>"
      ]
     },
     "execution_count": 89,
     "metadata": {},
     "output_type": "execute_result"
    }
   ],
   "source": [
    "contrastive_model.compile(optimizer='adam', loss=contrastive_loss)\n",
    "contrastive_model.fit([train_content_images, train_style_images], train_labels, epochs=10)"
   ]
  },
  {
   "cell_type": "code",
   "execution_count": 93,
   "id": "c1a88268",
   "metadata": {},
   "outputs": [
    {
     "data": {
      "text/plain": [
       "20"
      ]
     },
     "execution_count": 93,
     "metadata": {},
     "output_type": "execute_result"
    }
   ],
   "source": [
    "len(X_train)"
   ]
  },
  {
   "cell_type": "code",
   "execution_count": 91,
   "id": "25f8c12c",
   "metadata": {},
   "outputs": [],
   "source": [
    "train_images_style = train_images_style[:20]"
   ]
  },
  {
   "cell_type": "code",
   "execution_count": 92,
   "id": "4981b79f",
   "metadata": {},
   "outputs": [
    {
     "name": "stdout",
     "output_type": "stream",
     "text": [
      "Epoch 1/10\n",
      "14/14 [==============================] - 2s 47ms/step - loss: 2.0849 - accuracy: 0.8636 - val_loss: 2.3143 - val_accuracy: 0.1000\n",
      "Epoch 2/10\n",
      "14/14 [==============================] - 0s 26ms/step - loss: 1.7712 - accuracy: 0.8636 - val_loss: 2.3578 - val_accuracy: 0.1000\n",
      "Epoch 3/10\n",
      "14/14 [==============================] - 0s 23ms/step - loss: 1.4964 - accuracy: 0.8636 - val_loss: 2.4251 - val_accuracy: 0.1000\n",
      "Epoch 4/10\n",
      "14/14 [==============================] - 0s 25ms/step - loss: 1.2638 - accuracy: 0.8636 - val_loss: 2.5150 - val_accuracy: 0.1000\n",
      "Epoch 5/10\n",
      "14/14 [==============================] - 0s 23ms/step - loss: 1.0740 - accuracy: 0.8636 - val_loss: 2.6247 - val_accuracy: 0.1000\n",
      "Epoch 6/10\n",
      "14/14 [==============================] - 0s 24ms/step - loss: 0.9275 - accuracy: 0.8636 - val_loss: 2.7474 - val_accuracy: 0.1000\n",
      "Epoch 7/10\n",
      "14/14 [==============================] - 0s 26ms/step - loss: 0.8164 - accuracy: 0.8636 - val_loss: 2.8761 - val_accuracy: 0.1000\n",
      "Epoch 8/10\n",
      "14/14 [==============================] - 0s 26ms/step - loss: 0.7343 - accuracy: 0.8636 - val_loss: 3.0042 - val_accuracy: 0.1000\n",
      "Epoch 9/10\n",
      "14/14 [==============================] - 0s 25ms/step - loss: 0.6730 - accuracy: 0.8636 - val_loss: 3.1275 - val_accuracy: 0.1000\n",
      "Epoch 10/10\n",
      "14/14 [==============================] - 0s 23ms/step - loss: 0.6274 - accuracy: 0.8636 - val_loss: 3.2440 - val_accuracy: 0.1000\n"
     ]
    },
    {
     "data": {
      "text/plain": [
       "<keras.callbacks.History at 0x22a349e6a60>"
      ]
     },
     "execution_count": 92,
     "metadata": {},
     "output_type": "execute_result"
    }
   ],
   "source": [
    "# Freeze the encoder model\n",
    "contrastive_model.trainable = False\n",
    "\n",
    "# Add a new classifier layer\n",
    "output_layer = tf.keras.layers.Dense(10, activation='softmax')(contrastive_model.output)\n",
    "\n",
    "# Define the new model for classification\n",
    "classification_model = Model(contrastive_model.input, output_layer)\n",
    "\n",
    "classification_model.compile(optimizer='adam', loss='sparse_categorical_crossentropy', metrics=['accuracy'])\n",
    "\n",
    "# Train the classification model\n",
    "classification_model.fit(train_data[0], train_data[1], epochs=10,validation_data=([X_test,train_images_style],y_test))"
   ]
  },
  {
   "cell_type": "code",
   "execution_count": null,
   "id": "0659db03",
   "metadata": {},
   "outputs": [],
   "source": [
    ",validation_data=([X_test,train_images_style],y_test)"
   ]
  },
  {
   "cell_type": "code",
   "execution_count": 50,
   "id": "ebb0db9b",
   "metadata": {},
   "outputs": [],
   "source": []
  },
  {
   "cell_type": "code",
   "execution_count": 51,
   "id": "52594ceb",
   "metadata": {},
   "outputs": [
    {
     "data": {
      "text/plain": [
       "(20, 32, 32, 3)"
      ]
     },
     "execution_count": 51,
     "metadata": {},
     "output_type": "execute_result"
    }
   ],
   "source": [
    "train_images_style.shape"
   ]
  },
  {
   "cell_type": "code",
   "execution_count": 48,
   "id": "2ea08789",
   "metadata": {},
   "outputs": [
    {
     "name": "stdout",
     "output_type": "stream",
     "text": [
      "1/1 [==============================] - 0s 323ms/step - loss: 3.0514 - accuracy: 0.1000\n"
     ]
    }
   ],
   "source": [
    "loss, accuracy = classification_model.evaluate([X_test,train_images_style], y_test)"
   ]
  },
  {
   "cell_type": "code",
   "execution_count": null,
   "id": "9ca2a26b",
   "metadata": {},
   "outputs": [],
   "source": [
    "train_data[0][0][1]"
   ]
  },
  {
   "cell_type": "code",
   "execution_count": null,
   "id": "3da09a98",
   "metadata": {},
   "outputs": [],
   "source": [
    "len(train_data[1])"
   ]
  },
  {
   "cell_type": "code",
   "execution_count": null,
   "id": "e1fd0c67",
   "metadata": {},
   "outputs": [],
   "source": []
  },
  {
   "cell_type": "markdown",
   "id": "28826bc8",
   "metadata": {},
   "source": []
  },
  {
   "cell_type": "markdown",
   "id": "db1b0675",
   "metadata": {},
   "source": [
    "import tensorflow as tf\n",
    "from tensorflow.keras import layers\n",
    "\n",
    "# Define the contrastive model architecture\n",
    "def create_contrastive_model(input_shape, embedding_dim):\n",
    "    inputs = tf.keras.Input(shape=input_shape)\n",
    "    x = layers.Conv2D(32, (3, 3), activation='relu')(inputs)\n",
    "    x = layers.MaxPooling2D((2, 2))(x)\n",
    "    x = layers.Conv2D(64, (3, 3), activation='relu')(x)\n",
    "    x = layers.MaxPooling2D((2, 2))(x)\n",
    "    x = layers.Flatten()(x)\n",
    "    x = layers.Dense(embedding_dim, activation='relu')(x)\n",
    "    outputs = layers.Lambda(lambda x: tf.math.l2_normalize(x, axis=1))(x)\n",
    "    model = tf.keras.Model(inputs=inputs, outputs=outputs)\n",
    "    return model\n",
    "\n",
    "# Generate positive and negative samples\n",
    "positive_samples, negative_samples = generate_samples(a, style_images, model)\n",
    "\n",
    "# Combine positive and negative samples\n",
    "all_samples = positive_samples + negative_samples\n",
    "labels = [1] * len(positive_samples) + [0] * len(negative_samples)\n",
    "\n",
    "# Shuffle the samples and labels in the same order\n",
    "combined = list(zip(all_samples, labels))\n",
    "random.shuffle(combined)\n",
    "all_samples, labels = zip(*combined)\n",
    "\n",
    "# Convert samples and labels to TensorFlow tensors\n",
    "all_samples = tf.convert_to_tensor(all_samples)\n",
    "labels = tf.convert_to_tensor(labels)\n",
    "\n",
    "# Split the data into training and validation sets\n",
    "train_size = int(0.8 * len(all_samples))\n",
    "train_samples, val_samples = all_samples[:train_size], all_samples[train_size:]\n",
    "train_labels, val_labels = labels[:train_size], labels[train_size:]\n",
    "\n",
    "# Reshape the samples to remove the extra dimension\n",
    "train_samples = tf.reshape(train_samples, (-1,) + train_samples.shape[2:])\n",
    "val_samples = tf.reshape(val_samples, (-1,) + val_samples.shape[2:])\n",
    "\n",
    "# Create the contrastive model\n",
    "input_shape = (1,32, 32, 3)  # Modify according to your image shape\n",
    "embedding_dim = 128  # Modify according to your desired embedding dimension\n",
    "contrastive_model = create_contrastive_model(input_shape, embedding_dim)\n",
    "\n",
    "# Define the contrastive loss function\n",
    "def contrastive_loss(y_true, y_pred, margin=1.0):\n",
    "    square_pred = tf.square(1 - y_pred)\n",
    "    margin_square = tf.square(tf.maximum(margin - y_pred, 0))\n",
    "    return tf.reduce_mean(y_true * square_pred + (1 - y_true) * margin_square)\n",
    "\n",
    "# Compile the model\n",
    "contrastive_model.compile(optimizer='adam', loss=contrastive_loss)\n",
    "\n",
    "# Train the contrastive model\n",
    "contrastive_model.fit(train_samples, train_labels, validation_data=(val_samples, val_labels), epochs=10)"
   ]
  },
  {
   "cell_type": "markdown",
   "id": "fef0d23e",
   "metadata": {},
   "source": [
    "from tensorflow.keras.models import Model\n",
    "from tensorflow.keras.layers import Dense, GlobalAveragePooling2D\n",
    "from sklearn.preprocessing import LabelEncoder\n",
    "from sklearn.model_selection import train_test_split\n",
    "\n",
    "# Define base model for feature extraction (MobilenetV2 is used here)\n",
    "base_model = tf.keras.applications.MobileNetV2(\n",
    "    include_top=False, weights='imagenet', input_shape=(32, 32, 3), pooling='avg'\n",
    ")\n",
    "\n",
    "# Add a new projection head for contrastive learning\n",
    "projection_head = Dense(128, activation='relu')(base_model.output)\n",
    "\n",
    "# Define the projection model\n",
    "projection_model = Model(base_model.input, projection_head)\n",
    "\n",
    "# Define the encoder model\n",
    "encoder_model = Model(base_model.input, base_model.output)\n",
    "\n",
    "# Define the contrastive learning model\n",
    "contrastive_model = Model(base_model.input, projection_head)\n",
    "\n",
    "def contrastive_loss(y_true, embeddings_normalized, embeddings_projected):\n",
    "    # Expand the dimensions of y_true\n",
    "    y_true_expanded = tf.tile(tf.expand_dims(1 - y_true, axis=1), [1, embeddings_normalized.shape[1]])\n",
    "    \n",
    "    # Compute the contrastive loss\n",
    "    margin = 1.0\n",
    "    contrastive_loss = tf.reduce_mean(y_true_expanded * tf.square(embeddings_normalized - embeddings_projected) +\n",
    "                                      (1 - y_true_expanded) * tf.square(tf.maximum(margin - tf.norm(embeddings_normalized - embeddings_projected, axis=-1), 0)))\n",
    "    return contrastive_loss\n",
    "\n",
    "\n",
    "\n",
    "# Load and preprocess the data\n",
    "(X_train, y_train), (X_test, y_test) = tf.keras.datasets.cifar10.load_data()\n",
    "X_train = X_train / 255.0\n",
    "X_test = X_test / 255.0\n",
    "y_train = y_train.flatten()\n",
    "y_test = y_test.flatten()\n",
    "\n",
    "# Split the data into training and validation sets\n",
    "X_train, X_val, y_train, y_val = train_test_split(X_train, y_train, test_size=0.2, random_state=42)\n",
    "\n",
    "# Prepare the labels for contrastive learning\n",
    "labels_train_contrastive = tf.concat([tf.ones_like(y_train, dtype=tf.float32),\n",
    "                                      tf.zeros_like(y_train, dtype=tf.float32)], axis=0)\n",
    "labels_val_contrastive = tf.concat([tf.ones_like(y_val, dtype=tf.float32),\n",
    "                                    tf.zeros_like(y_val, dtype=tf.float32)], axis=0)\n",
    "\n",
    "# Encode the labels for classification\n",
    "label_encoder = LabelEncoder()\n",
    "y_train_encoded = label_encoder.fit_transform(y_train)\n",
    "y_val_encoded = label_encoder.transform(y_val)\n",
    "y_test_encoded = label_encoder.transform(y_test)\n",
    "\n",
    "# Define the contrastive learning optimizer\n",
    "contrastive_optimizer = tf.keras.optimizers.Adam()\n",
    "\n",
    "# Training loop for contrastive learning\n",
    "num_epochs_contrastive = 10\n",
    "batch_size_contrastive = 32\n",
    "num_steps_contrastive = len(X_train) // batch_size_contrastive\n",
    "\n",
    "for epoch in range(num_epochs_contrastive):\n",
    "    epoch_loss = 0.0\n",
    "\n",
    "    for step in range(num_steps_contrastive):\n",
    "        start = step * batch_size_contrastive\n",
    "        end = (step + 1) * batch_size_contrastive\n",
    "\n",
    "        batch_images = X_train[start:end]\n",
    "        batch_labels = labels_train_contrastive[start:end]\n",
    "\n",
    "        with tf.GradientTape() as tape:\n",
    "            embeddings_normalized = contrastive_model(batch_images, training=True)\n",
    "            embeddings_projected = projection_model(batch_images, training=True)\n",
    "            loss = contrastive_loss(batch_labels, embeddings_normalized, embeddings_projected)\n",
    "        \n",
    "        gradients = tape.gradient(loss, contrastive_model.trainable_variables + projection_model.trainable_variables)\n",
    "        contrastive_optimizer.apply_gradients(zip(gradients, contrastive_model.trainable_variables + projection_model.trainable_variables))\n",
    "\n",
    "        epoch_loss += loss.numpy()\n",
    "\n",
    "    avg_loss = epoch_loss / num_steps_contrastive\n",
    "    print(f\"Contrastive Learning - Epoch {epoch+1}/{num_epochs_contrastive}, Loss: {avg_loss}\")\n",
    "\n",
    "# Freeze the encoder model\n",
    "encoder_model.trainable = False\n",
    "\n",
    "# Add a new classifier layer\n",
    "output_layer = Dense(10, activation='softmax')(encoder_model.output)\n",
    "\n",
    "# Define the new model for classification\n",
    "classification_model = Model(encoder_model.input, output_layer)\n",
    "\n",
    "# Compile the classification model\n",
    "classification_model.compile(optimizer='adam', loss='sparse_categorical_crossentropy', metrics=['accuracy'])\n",
    "\n",
    "# Train the classification model\n",
    "classification_model.fit(X_train, y_train_encoded, epochs=10, validation_data=(X_val, y_val_encoded))\n",
    "\n",
    "# Evaluate the performance of the classification model\n",
    "test_loss, test_accuracy = classification_model.evaluate(X_test, y_test_encoded, verbose=2)\n",
    "print(f\"Classification Model - Test Loss: {test_loss}, Test Accuracy: {test_accuracy}\")"
   ]
  },
  {
   "cell_type": "code",
   "execution_count": null,
   "id": "ad6245f7",
   "metadata": {},
   "outputs": [],
   "source": []
  },
  {
   "cell_type": "code",
   "execution_count": null,
   "id": "cc2300be",
   "metadata": {},
   "outputs": [],
   "source": []
  }
 ],
 "metadata": {
  "kernelspec": {
   "display_name": "Python 3 (ipykernel)",
   "language": "python",
   "name": "python3"
  },
  "language_info": {
   "codemirror_mode": {
    "name": "ipython",
    "version": 3
   },
   "file_extension": ".py",
   "mimetype": "text/x-python",
   "name": "python",
   "nbconvert_exporter": "python",
   "pygments_lexer": "ipython3",
   "version": "3.9.12"
  }
 },
 "nbformat": 4,
 "nbformat_minor": 5
}
