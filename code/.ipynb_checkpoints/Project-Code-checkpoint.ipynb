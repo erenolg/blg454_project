{
 "cells": [
  {
   "cell_type": "markdown",
   "id": "6f750bc5",
   "metadata": {},
   "source": [
    "Import necessary libraries"
   ]
  },
  {
   "cell_type": "code",
   "execution_count": 71,
   "id": "36191d84",
   "metadata": {},
   "outputs": [],
   "source": [
    "import pandas as pd\n",
    "import numpy as np\n",
    "import matplotlib.pyplot as plt\n",
    "import random\n",
    "\n",
    "import tensorflow as tf\n",
    "import tensorflow_hub as hub\n",
    "\n",
    "from tensorflow.keras.datasets import cifar10\n",
    "from tensorflow.keras import layers\n",
    "from tensorflow.keras.models import Model"
   ]
  },
  {
   "cell_type": "markdown",
   "id": "d1318637",
   "metadata": {},
   "source": [
    "# Data Preparation"
   ]
  },
  {
   "cell_type": "markdown",
   "id": "d0641e3b",
   "metadata": {},
   "source": [
    "Load the dataset"
   ]
  },
  {
   "cell_type": "code",
   "execution_count": 72,
   "id": "e14bda4b",
   "metadata": {},
   "outputs": [],
   "source": [
    "(X_train, y_train), (X_test, y_test) = cifar10.load_data()"
   ]
  },
  {
   "cell_type": "code",
   "execution_count": 73,
   "id": "d4018564",
   "metadata": {},
   "outputs": [],
   "source": [
    "labels_to_keep = [i for i in range(3)]  # Replace with the labels you want to keep\n",
    "\n",
    "# Filter the training set\n",
    "train_mask = np.isin(y_train, labels_to_keep)\n",
    "X_train = X_train[train_mask.flatten()]\n",
    "y_train = y_train[train_mask]\n",
    "\n",
    "# Filter the test set\n",
    "test_mask = np.isin(y_test, labels_to_keep)\n",
    "X_test = X_test[test_mask.flatten()]\n",
    "y_test = y_test[test_mask]"
   ]
  },
  {
   "cell_type": "markdown",
   "id": "b262ca71",
   "metadata": {},
   "source": [
    "Normalize data"
   ]
  },
  {
   "cell_type": "code",
   "execution_count": 74,
   "id": "120a3828",
   "metadata": {},
   "outputs": [],
   "source": [
    "X_train, X_test = X_train/255, X_test/255"
   ]
  },
  {
   "cell_type": "markdown",
   "id": "061bbe8a",
   "metadata": {},
   "source": [
    "Select Samples"
   ]
  },
  {
   "cell_type": "markdown",
   "id": "b8d903f7",
   "metadata": {},
   "source": [
    "# Apply Style Transfer"
   ]
  },
  {
   "cell_type": "markdown",
   "id": "4ade9a8a",
   "metadata": {},
   "source": [
    "Load the Style Transfer Model"
   ]
  },
  {
   "cell_type": "code",
   "execution_count": 75,
   "id": "f35da45b",
   "metadata": {},
   "outputs": [],
   "source": [
    "model = hub.load('https://tfhub.dev/google/magenta/arbitrary-image-stylization-v1-256/2')"
   ]
  },
  {
   "cell_type": "markdown",
   "id": "75173197",
   "metadata": {},
   "source": [
    "Load Style Images"
   ]
  },
  {
   "cell_type": "code",
   "execution_count": 76,
   "id": "ff607a6b",
   "metadata": {},
   "outputs": [],
   "source": [
    "def load_image(img_path):\n",
    "    img = tf.io.read_file(img_path)\n",
    "    img = tf.image.decode_image(img, channels=3)\n",
    "    img = tf.image.convert_image_dtype(img, tf.float32)\n",
    "    img = img[tf.newaxis, :]\n",
    "    return img"
   ]
  },
  {
   "cell_type": "code",
   "execution_count": 77,
   "id": "0714c2f0",
   "metadata": {},
   "outputs": [],
   "source": [
    "style_images = []\n",
    "styles = [\"cola1.png\",\"Michael-Jackson.jpeg\",\"mumya.jpg\",\"Starry-Night.jpeg\"]\n",
    "for style in styles:\n",
    "    style_images.append(load_image(f\"../resized_styles//{style}\"))"
   ]
  },
  {
   "cell_type": "markdown",
   "id": "8ff83593",
   "metadata": {},
   "source": [
    "Convert Images to TensorFlow Type"
   ]
  },
  {
   "cell_type": "code",
   "execution_count": 78,
   "id": "c7d158f6",
   "metadata": {},
   "outputs": [],
   "source": [
    "content_images = []\n",
    "\n",
    "for i in range(20):\n",
    "    content = tf.image.convert_image_dtype(X_train[i], tf.float32)\n",
    "    content = content[tf.newaxis, :]\n",
    "    content_images.append(content)"
   ]
  },
  {
   "cell_type": "markdown",
   "id": "32dfa1f2",
   "metadata": {},
   "source": [
    "Generate Positive and Negative Samples"
   ]
  },
  {
   "cell_type": "code",
   "execution_count": 79,
   "id": "5ad2b342",
   "metadata": {},
   "outputs": [],
   "source": [
    "import random"
   ]
  },
  {
   "cell_type": "code",
   "execution_count": 80,
   "id": "a9a2de81",
   "metadata": {},
   "outputs": [],
   "source": [
    "def generate_samples(content_images, style_images, style_transfer_model):\n",
    "    negative_samples = []\n",
    "    positive_samples = []\n",
    "    # Generate positive samples\n",
    "    for content in content_images:\n",
    "        for style1 in style_images:\n",
    "            stylized_image1 = style_transfer_model(tf.constant(content), tf.constant(style1))[0]\n",
    "            for style2 in style_images:\n",
    "                if  not (np.array_equal(style1, style2)):\n",
    "                    stylized_image2 = style_transfer_model(tf.constant(content), tf.constant(style2))[0]\n",
    "                    positive_samples.append((stylized_image1, stylized_image2))\n",
    "    \n",
    "    # Generate negative samples\n",
    "    for content1 in content_images:\n",
    "        if random.choice([0,1]) == 0:\n",
    "            for content2 in content_images:\n",
    "                if  not (np.array_equal(content1, content2)):\n",
    "                    for style1 in style_images:\n",
    "                        stylized_image1 = style_transfer_model(tf.constant(content1), tf.constant(style1))[0]\n",
    "                        for style2 in style_images:\n",
    "                            stylized_image2 = style_transfer_model(tf.constant(content2), tf.constant(style2))[0]\n",
    "                            negative_samples.append((stylized_image1, stylized_image2))\n",
    "    \n",
    "    return positive_samples, negative_samples"
   ]
  },
  {
   "cell_type": "markdown",
   "id": "1090ff3b",
   "metadata": {},
   "source": [
    "# Contrastive Model"
   ]
  },
  {
   "cell_type": "code",
   "execution_count": 81,
   "id": "de37f74c",
   "metadata": {},
   "outputs": [],
   "source": [
    "# Define the contrastive model architecture\n",
    "def create_contrastive_model(input_shape_content, input_shape_style, embedding_dim):\n",
    "    input_content = tf.keras.Input(shape=input_shape_content)\n",
    "    input_style = tf.keras.Input(shape=input_shape_style)\n",
    "    \n",
    "    # Content branch\n",
    "    x_content = layers.Conv2D(32, (3, 3), activation='relu')(input_content)\n",
    "    x_content = layers.MaxPooling2D((2, 2))(x_content)\n",
    "    x_content = layers.Conv2D(64, (3, 3), activation='relu')(x_content)\n",
    "    x_content = layers.MaxPooling2D((2, 2))(x_content)\n",
    "    x_content = layers.Flatten()(x_content)\n",
    "    x_content = layers.Dense(embedding_dim, activation='relu')(x_content)\n",
    "    \n",
    "    # Style branch\n",
    "    x_style = layers.Conv2D(32, (3, 3), activation='relu')(input_style)\n",
    "    x_style = layers.MaxPooling2D((2, 2))(x_style)\n",
    "    x_style = layers.Conv2D(64, (3, 3), activation='relu')(x_style)\n",
    "    x_style = layers.MaxPooling2D((2, 2))(x_style)\n",
    "    x_style = layers.Flatten()(x_style)\n",
    "    x_style = layers.Dense(embedding_dim, activation='relu')(x_style)\n",
    "    \n",
    "    # Concatenate content and style embeddings\n",
    "    concatenated = layers.Concatenate()([x_content, x_style])\n",
    "    \n",
    "    flattened = layers.Flatten()(concatenated)\n",
    "    # Normalize the concatenated embeddings\n",
    "    normalized = layers.Lambda(lambda x: tf.math.l2_normalize(x, axis=1))(concatenated)\n",
    "    \n",
    "    # Create the model with inputs and outputs\n",
    "    model = tf.keras.Model(inputs=[input_content, input_style], outputs=normalized)\n",
    "    return model\n",
    "\n",
    "\n",
    "def contrastive_loss(y_true, y_pred, margin=1.0):\n",
    "    square_pred = tf.square(1 - y_pred)\n",
    "    margin_square = tf.square(tf.maximum(margin - y_pred, 0))\n",
    "    return tf.reduce_mean(y_true * square_pred + (1 - y_true) * margin_square)"
   ]
  },
  {
   "cell_type": "markdown",
   "id": "de2c01a9",
   "metadata": {},
   "source": [
    "Generate Samples"
   ]
  },
  {
   "cell_type": "code",
   "execution_count": null,
   "id": "d9137981",
   "metadata": {},
   "outputs": [],
   "source": [
    "positive_samples, negative_samples = generate_samples(content_images, style_images, model)"
   ]
  },
  {
   "cell_type": "markdown",
   "id": "d01d609a",
   "metadata": {},
   "source": [
    "Create Contrastive Model"
   ]
  },
  {
   "cell_type": "code",
   "execution_count": null,
   "id": "12b509ab",
   "metadata": {},
   "outputs": [],
   "source": [
    "contrastive_model = create_contrastive_model(input_shape_content=(32, 32, 3),\n",
    "                                             input_shape_style=(32, 32, 3),\n",
    "                                             embedding_dim=128)"
   ]
  },
  {
   "cell_type": "code",
   "execution_count": null,
   "id": "5146897f",
   "metadata": {},
   "outputs": [],
   "source": [
    "positive_samples = np.array(positive_samples)\n",
    "negative_samples = np.array(negative_samples)"
   ]
  },
  {
   "cell_type": "code",
   "execution_count": null,
   "id": "737558b1",
   "metadata": {},
   "outputs": [],
   "source": [
    "print(f\"p:{len(positive_samples)} | n: {len(negative_samples)}\")"
   ]
  },
  {
   "cell_type": "code",
   "execution_count": null,
   "id": "e0656b72",
   "metadata": {},
   "outputs": [],
   "source": [
    "content_images_positive = positive_samples[:, 0]\n",
    "stylized_images_positive = positive_samples[:, 1]\n",
    "content_images_negative = negative_samples[:, 0]\n",
    "stylized_images_negative = negative_samples[:, 1]\n",
    "positive_labels = np.ones(len(positive_samples))\n",
    "negative_labels = np.zeros(len(negative_samples))\n",
    "train_images_content = np.concatenate((content_images_positive, content_images_negative))\n",
    "train_images_style = np.concatenate((stylized_images_positive, stylized_images_negative))\n",
    "train_labels_content = np.concatenate((positive_labels, negative_labels))\n",
    "\n",
    "train_images_content = np.squeeze(train_images_content, axis=1)\n",
    "train_images_style = np.squeeze(train_images_style, axis=1)\n",
    "\n",
    "# Shuffle the data\n",
    "indices = np.random.permutation(len(train_images_content))\n",
    "train_images_content = train_images_content[indices]\n",
    "train_images_style = train_images_style[indices]\n",
    "train_labels_content = train_labels_content[indices]\n",
    "\n",
    "# Select random samples for test data\n",
    "num_test_samples = 400\n",
    "test_indices = np.random.choice(len(train_images_content), size=num_test_samples, replace=False)\n",
    "test_images_content = train_images_content[test_indices]\n",
    "test_images_style = train_images_style[test_indices]\n",
    "test_labels_content = train_labels_content[test_indices]\n",
    "\n",
    "# Remove the selected test samples from the training set\n",
    "train_images_content = np.delete(train_images_content, test_indices, axis=0)\n",
    "train_images_style = np.delete(train_images_style, test_indices, axis=0)\n",
    "train_labels_content = np.delete(train_labels_content, test_indices)\n",
    "\n",
    "# Prepare the training data\n",
    "train_data = ([train_images_content, train_images_style], train_labels_content)\n",
    "\n",
    "# Prepare the test data\n",
    "test_data = ([test_images_content, test_images_style], test_labels_content)\n",
    "\n",
    "# Split the train_data into content and style inputs\n",
    "train_content_images = train_data[0][0]\n",
    "train_style_images = train_data[0][1]\n",
    "train_labels = train_data[1]\n",
    "\n",
    "test_content_images = test_data[0][0]\n",
    "test_style_images = test_data[0][1]\n",
    "test_labels = test_data[1]"
   ]
  },
  {
   "cell_type": "markdown",
   "id": "514bce84",
   "metadata": {},
   "source": [
    "# TEST"
   ]
  },
  {
   "cell_type": "code",
   "execution_count": null,
   "id": "9db15782",
   "metadata": {},
   "outputs": [],
   "source": [
    "contrastive_model.compile(optimizer='adam', loss=contrastive_loss)\n",
    "contrastive_model.fit([train_content_images, train_style_images], train_labels, epochs=10)"
   ]
  },
  {
   "cell_type": "code",
   "execution_count": null,
   "id": "c329b2a0",
   "metadata": {},
   "outputs": [],
   "source": [
    "from keras.layers import Dense"
   ]
  },
  {
   "cell_type": "code",
   "execution_count": null,
   "id": "24320dc0",
   "metadata": {},
   "outputs": [],
   "source": [
    "# # Freeze the contrastive model\n",
    "# for layer in contrastive_model.layers:\n",
    "#     layer.trainable = False\n",
    "\n",
    "# # Remove the last layer (Lambda layer for l2 normalization)\n",
    "# contrastive_model = tf.keras.Model(contrastive_model.input, contrastive_model.layers[-2].output)\n",
    "\n",
    "# # Add a new classifier layer\n",
    "# output_layer = tf.keras.layers.Dense(3, activation='softmax')(contrastive_model.output)\n",
    "\n",
    "# # Define the new model for classification\n",
    "# classification_model = tf.keras.Model(contrastive_model.input, output_layer)\n",
    "\n",
    "# classification_model.compile(optimizer='adam', loss='sparse_categorical_crossentropy', metrics=['accuracy'])\n",
    "\n",
    "\n",
    "# # Train the classification model\n",
    "# classification_model.fit([X_train, X_train], y_train, epochs=10,validation_data=([X_test, X_test], y_test))"
   ]
  },
  {
   "cell_type": "code",
   "execution_count": null,
   "id": "db8697b2",
   "metadata": {},
   "outputs": [],
   "source": [
    "# classification_model.predict(X_test[0])"
   ]
  },
  {
   "cell_type": "code",
   "execution_count": null,
   "id": "91cef0c5",
   "metadata": {},
   "outputs": [],
   "source": [
    "from keras.layers import Flatten\n",
    "from keras.utils import to_categorical\n",
    "# Assuming model_6 is your original model\n",
    "base_model = contrastive_model.layers[0]\n",
    "# Here I assumed that base_model is the part that deals with content image only\n",
    "\n",
    "# Now, add a new Flatten layer to your base model\n",
    "flattened = Flatten()(base_model.output)\n",
    "\n",
    "# Add a new classification layer to the flattened output\n",
    "output_layer = Dense(3, activation='softmax')(flattened)\n",
    "\n",
    "# Create a new model\n",
    "classification_model = Model(inputs=base_model.input, outputs=output_layer)\n",
    "y_train = to_categorical(y_train, num_classes=3)\n",
    "y_test = to_categorical(y_test, num_classes=3)\n",
    "# Now you can compile and train this model\n",
    "classification_model.compile(optimizer='adam', loss='categorical_crossentropy', metrics=['accuracy'])\n",
    "classification_model.fit(X_train, y_train, epochs=10, validation_data=(X_test,y_test), batch_size=20)"
   ]
  },
  {
   "cell_type": "code",
   "execution_count": null,
   "id": "7fd3bf7a",
   "metadata": {},
   "outputs": [],
   "source": [
    "y_train[2]"
   ]
  },
  {
   "cell_type": "code",
   "execution_count": null,
   "id": "84b91165",
   "metadata": {},
   "outputs": [],
   "source": [
    "classification_model.predict(X_train)"
   ]
  }
 ],
 "metadata": {
  "kernelspec": {
   "display_name": "Python 3 (ipykernel)",
   "language": "python",
   "name": "python3"
  },
  "language_info": {
   "codemirror_mode": {
    "name": "ipython",
    "version": 3
   },
   "file_extension": ".py",
   "mimetype": "text/x-python",
   "name": "python",
   "nbconvert_exporter": "python",
   "pygments_lexer": "ipython3",
   "version": "3.9.12"
  }
 },
 "nbformat": 4,
 "nbformat_minor": 5
}
