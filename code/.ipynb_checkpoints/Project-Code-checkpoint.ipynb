{
 "cells": [
  {
   "cell_type": "markdown",
   "id": "6f750bc5",
   "metadata": {},
   "source": [
    "Import necessary libraries"
   ]
  },
  {
   "cell_type": "code",
   "execution_count": 1,
   "id": "36191d84",
   "metadata": {},
   "outputs": [],
   "source": [
    "import pandas as pd\n",
    "import numpy as np\n",
    "import matplotlib.pyplot as plt\n",
    "import random\n",
    "\n",
    "import tensorflow as tf\n",
    "import tensorflow_hub as hub\n",
    "\n",
    "from tensorflow.keras.datasets import cifar10\n",
    "from tensorflow.keras import layers\n",
    "from tensorflow.keras.models import Model"
   ]
  },
  {
   "cell_type": "markdown",
   "id": "d1318637",
   "metadata": {},
   "source": [
    "# Data Preparation"
   ]
  },
  {
   "cell_type": "markdown",
   "id": "d0641e3b",
   "metadata": {},
   "source": [
    "Load the dataset"
   ]
  },
  {
   "cell_type": "code",
   "execution_count": 2,
   "id": "e14bda4b",
   "metadata": {},
   "outputs": [],
   "source": [
    "(X_train, y_train), (X_test, y_test) = cifar10.load_data()"
   ]
  },
  {
   "cell_type": "markdown",
   "id": "b262ca71",
   "metadata": {},
   "source": [
    "Normalize data"
   ]
  },
  {
   "cell_type": "code",
   "execution_count": 3,
   "id": "120a3828",
   "metadata": {},
   "outputs": [],
   "source": [
    "X_train, X_test = X_train/255, X_test/255"
   ]
  },
  {
   "cell_type": "markdown",
   "id": "061bbe8a",
   "metadata": {},
   "source": [
    "Select Samples"
   ]
  },
  {
   "cell_type": "markdown",
   "id": "b8d903f7",
   "metadata": {},
   "source": [
    "# Apply Style Transfer"
   ]
  },
  {
   "cell_type": "markdown",
   "id": "4ade9a8a",
   "metadata": {},
   "source": [
    "Load the Style Transfer Model"
   ]
  },
  {
   "cell_type": "code",
   "execution_count": 4,
   "id": "f35da45b",
   "metadata": {},
   "outputs": [],
   "source": [
    "model = hub.load('https://tfhub.dev/google/magenta/arbitrary-image-stylization-v1-256/2')"
   ]
  },
  {
   "cell_type": "markdown",
   "id": "75173197",
   "metadata": {},
   "source": [
    "Load Style Images"
   ]
  },
  {
   "cell_type": "code",
   "execution_count": 5,
   "id": "ff607a6b",
   "metadata": {},
   "outputs": [],
   "source": [
    "def load_image(img_path):\n",
    "    img = tf.io.read_file(img_path)\n",
    "    img = tf.image.decode_image(img, channels=3)\n",
    "    img = tf.image.convert_image_dtype(img, tf.float32)\n",
    "    img = img[tf.newaxis, :]\n",
    "    return img"
   ]
  },
  {
   "cell_type": "code",
   "execution_count": 6,
   "id": "0714c2f0",
   "metadata": {},
   "outputs": [],
   "source": [
    "style_images = []\n",
    "styles = [\"Frida.jpeg\",\"Michael-Jackson.jpeg\",\"Starry-Night.jpeg\", \"mumya.jpg\"]\n",
    "for style in styles:\n",
    "    style_images.append(load_image(f\"../styles/{style}\"))"
   ]
  },
  {
   "cell_type": "markdown",
   "id": "8ff83593",
   "metadata": {},
   "source": [
    "Convert Images to TensorFlow Type"
   ]
  },
  {
   "cell_type": "code",
   "execution_count": 7,
   "id": "c7d158f6",
   "metadata": {},
   "outputs": [],
   "source": [
    "content_images = []\n",
    "\n",
    "for i in range(20):\n",
    "    content = tf.image.convert_image_dtype(X_train[i], tf.float32)\n",
    "    content = content[tf.newaxis, :]\n",
    "    content_images.append(content)"
   ]
  },
  {
   "cell_type": "markdown",
   "id": "32dfa1f2",
   "metadata": {},
   "source": [
    "Generate Positive and Negative Samples"
   ]
  },
  {
   "cell_type": "code",
   "execution_count": 8,
   "id": "a9a2de81",
   "metadata": {},
   "outputs": [],
   "source": [
    "def generate_samples(content_images, style_images, style_transfer_model):\n",
    "    negative_samples = []\n",
    "    positive_samples = []\n",
    "    # Generate positive samples\n",
    "    for content in content_images:\n",
    "\n",
    "        for style in style_images:\n",
    "            stylized_image = style_transfer_model(tf.constant(content), tf.constant(style))[0]\n",
    "            positive_samples.append((content, stylized_image))\n",
    "    \n",
    "    # Generate negative samples\n",
    "    for content1 in content_images:\n",
    "        for content2 in content_images:\n",
    "            if  not (np.array_equal(content1, content2)):\n",
    "                random_style = style_images[np.random.randint(0, len(style_images)-1)]\n",
    "                stylized_image = style_transfer_model(tf.constant(content1), tf.constant(random_style))[0]\n",
    "                negative_samples.append((content1, stylized_image))\n",
    "    \n",
    "    return positive_samples, negative_samples"
   ]
  },
  {
   "cell_type": "markdown",
   "id": "1090ff3b",
   "metadata": {},
   "source": [
    "# Constrastive Model"
   ]
  },
  {
   "cell_type": "code",
   "execution_count": 9,
   "id": "de37f74c",
   "metadata": {},
   "outputs": [],
   "source": [
    "# Define the contrastive model architecture\n",
    "def create_contrastive_model(input_shape_content, input_shape_style, embedding_dim):\n",
    "    input_content = tf.keras.Input(shape=input_shape_content)\n",
    "    input_style = tf.keras.Input(shape=input_shape_style)\n",
    "    \n",
    "    # Content branch\n",
    "    x_content = layers.Conv2D(32, (3, 3), activation='relu')(input_content)\n",
    "    x_content = layers.MaxPooling2D((2, 2))(x_content)\n",
    "    x_content = layers.Conv2D(64, (3, 3), activation='relu')(x_content)\n",
    "    x_content = layers.MaxPooling2D((2, 2))(x_content)\n",
    "    x_content = layers.Flatten()(x_content)\n",
    "    x_content = layers.Dense(embedding_dim, activation='relu')(x_content)\n",
    "    \n",
    "    # Style branch\n",
    "    x_style = layers.Conv2D(32, (3, 3), activation='relu')(input_style)\n",
    "    x_style = layers.MaxPooling2D((2, 2))(x_style)\n",
    "    x_style = layers.Conv2D(64, (3, 3), activation='relu')(x_style)\n",
    "    x_style = layers.MaxPooling2D((2, 2))(x_style)\n",
    "    x_style = layers.Flatten()(x_style)\n",
    "    x_style = layers.Dense(embedding_dim, activation='relu')(x_style)\n",
    "    \n",
    "    # Concatenate content and style embeddings\n",
    "    concatenated = layers.Concatenate()([x_content, x_style])\n",
    "    \n",
    "    flattened = layers.Flatten()(concatenated)\n",
    "    # Normalize the concatenated embeddings\n",
    "    normalized = layers.Lambda(lambda x: tf.math.l2_normalize(x, axis=1))(concatenated)\n",
    "    \n",
    "    # Create the model with inputs and outputs\n",
    "    model = tf.keras.Model(inputs=[input_content, input_style], outputs=normalized)\n",
    "    return model\n",
    "\n",
    "\n",
    "def contrastive_loss(y_true, y_pred, margin=1.0):\n",
    "    square_pred = tf.square(1 - y_pred)\n",
    "    margin_square = tf.square(tf.maximum(margin - y_pred, 0))\n",
    "    return tf.reduce_mean(y_true * square_pred + (1 - y_true) * margin_square)"
   ]
  },
  {
   "cell_type": "markdown",
   "id": "de2c01a9",
   "metadata": {},
   "source": [
    "Generate Samples"
   ]
  },
  {
   "cell_type": "code",
   "execution_count": 10,
   "id": "d9137981",
   "metadata": {},
   "outputs": [],
   "source": [
    "positive_samples, negative_samples = generate_samples(content_images, style_images, model)"
   ]
  },
  {
   "cell_type": "markdown",
   "id": "d01d609a",
   "metadata": {},
   "source": [
    "Create Contrastive Model"
   ]
  },
  {
   "cell_type": "code",
   "execution_count": 11,
   "id": "12b509ab",
   "metadata": {},
   "outputs": [],
   "source": [
    "contrastive_model = create_contrastive_model(input_shape_content=(32, 32, 3),\n",
    "                                             input_shape_style=(32, 32, 3),\n",
    "                                             embedding_dim=128)"
   ]
  },
  {
   "cell_type": "code",
   "execution_count": 12,
   "id": "5146897f",
   "metadata": {},
   "outputs": [],
   "source": [
    "positive_samples = np.array(positive_samples)\n",
    "negative_samples = np.array(negative_samples)"
   ]
  },
  {
   "cell_type": "code",
   "execution_count": 13,
   "id": "737558b1",
   "metadata": {},
   "outputs": [
    {
     "name": "stdout",
     "output_type": "stream",
     "text": [
      "p:80 | n: 380\n"
     ]
    }
   ],
   "source": [
    "print(f\"p:{len(positive_samples)} | n: {len(negative_samples)}\")"
   ]
  },
  {
   "cell_type": "code",
   "execution_count": 14,
   "id": "e0656b72",
   "metadata": {},
   "outputs": [],
   "source": [
    "content_images_positive = positive_samples[:, 0]\n",
    "stylized_images_positive = positive_samples[:, 1]\n",
    "content_images_negative = negative_samples[:, 0]\n",
    "stylized_images_negative = negative_samples[:, 1]\n",
    "positive_labels = np.ones(len(positive_samples))\n",
    "negative_labels = np.zeros(len(negative_samples))\n",
    "train_images_content = np.concatenate((content_images_positive, content_images_negative))\n",
    "train_images_style = np.concatenate((stylized_images_positive, stylized_images_negative))\n",
    "train_labels_content = np.concatenate((positive_labels, negative_labels))\n",
    "\n",
    "train_images_content = np.squeeze(train_images_content, axis=1)\n",
    "train_images_style = np.squeeze(train_images_style, axis=1)\n",
    "\n",
    "# Shuffle the data\n",
    "indices = np.random.permutation(len(train_images_content))\n",
    "train_images_content = train_images_content[indices]\n",
    "train_images_style = train_images_style[indices]\n",
    "train_labels_content = train_labels_content[indices]\n",
    "\n",
    "# Select random samples for test data\n",
    "num_test_samples = 50\n",
    "test_indices = np.random.choice(len(train_images_content), size=num_test_samples, replace=False)\n",
    "test_images_content = train_images_content[test_indices]\n",
    "test_images_style = train_images_style[test_indices]\n",
    "test_labels_content = train_labels_content[test_indices]\n",
    "\n",
    "# Remove the selected test samples from the training set\n",
    "train_images_content = np.delete(train_images_content, test_indices, axis=0)\n",
    "train_images_style = np.delete(train_images_style, test_indices, axis=0)\n",
    "train_labels_content = np.delete(train_labels_content, test_indices)\n",
    "\n",
    "# Prepare the training data\n",
    "train_data = ([train_images_content, train_images_style], train_labels_content)\n",
    "\n",
    "# Prepare the test data\n",
    "test_data = ([test_images_content, test_images_style], test_labels_content)\n",
    "\n",
    "# Split the train_data into content and style inputs\n",
    "train_content_images = train_data[0][0]\n",
    "train_style_images = train_data[0][1]\n",
    "train_labels = train_data[1]\n",
    "\n",
    "test_content_images = test_data[0][0]\n",
    "test_style_images = test_data[0][1]\n",
    "test_labels = test_data[1]"
   ]
  },
  {
   "cell_type": "markdown",
   "id": "514bce84",
   "metadata": {},
   "source": [
    "# TEST"
   ]
  },
  {
   "cell_type": "code",
   "execution_count": 15,
   "id": "9db15782",
   "metadata": {},
   "outputs": [
    {
     "name": "stdout",
     "output_type": "stream",
     "text": [
      "Epoch 1/10\n",
      "13/13 [==============================] - 3s 57ms/step - loss: 0.8999\n",
      "Epoch 2/10\n",
      "13/13 [==============================] - 1s 64ms/step - loss: 0.8907\n",
      "Epoch 3/10\n",
      "13/13 [==============================] - 1s 60ms/step - loss: 0.8898\n",
      "Epoch 4/10\n",
      "13/13 [==============================] - 1s 58ms/step - loss: 0.8894\n",
      "Epoch 5/10\n",
      "13/13 [==============================] - 1s 48ms/step - loss: 0.8892\n",
      "Epoch 6/10\n",
      "13/13 [==============================] - 1s 52ms/step - loss: 0.8891\n",
      "Epoch 7/10\n",
      "13/13 [==============================] - 1s 61ms/step - loss: 0.8889\n",
      "Epoch 8/10\n",
      "13/13 [==============================] - 1s 51ms/step - loss: 0.8888\n",
      "Epoch 9/10\n",
      "13/13 [==============================] - 1s 53ms/step - loss: 0.8887\n",
      "Epoch 10/10\n",
      "13/13 [==============================] - 1s 53ms/step - loss: 0.8887\n"
     ]
    },
    {
     "data": {
      "text/plain": [
       "<keras.callbacks.History at 0x1f841cb6ee0>"
      ]
     },
     "execution_count": 15,
     "metadata": {},
     "output_type": "execute_result"
    }
   ],
   "source": [
    "contrastive_model.compile(optimizer='adam', loss=contrastive_loss)\n",
    "contrastive_model.fit([train_content_images, train_style_images], train_labels, epochs=10)"
   ]
  },
  {
   "cell_type": "code",
   "execution_count": 16,
   "id": "c329b2a0",
   "metadata": {},
   "outputs": [],
   "source": [
    "from keras.layers import Dense"
   ]
  },
  {
   "cell_type": "code",
   "execution_count": null,
   "id": "e58dcf4e",
   "metadata": {},
   "outputs": [
    {
     "name": "stdout",
     "output_type": "stream",
     "text": [
      "Epoch 1/10\n",
      "1563/1563 [==============================] - 30s 19ms/step - loss: 2.1743 - accuracy: 0.1844 - val_loss: 2.1061 - val_accuracy: 0.2091\n",
      "Epoch 2/10\n",
      " 596/1563 [==========>...................] - ETA: 17s - loss: 2.1317 - accuracy: 0.2036"
     ]
    }
   ],
   "source": [
    "# Freeze the contrastive model\n",
    "for layer in contrastive_model.layers:\n",
    "    layer.trainable = False\n",
    "\n",
    "# Remove the last layer (Lambda layer for l2 normalization)\n",
    "contrastive_model = tf.keras.Model(contrastive_model.input, contrastive_model.layers[-2].output)\n",
    "\n",
    "# Add a new classifier layer\n",
    "output_layer = tf.keras.layers.Dense(10, activation='softmax')(contrastive_model.output)\n",
    "\n",
    "# Define the new model for classification\n",
    "classification_model = tf.keras.Model(contrastive_model.input, output_layer)\n",
    "\n",
    "classification_model.compile(optimizer='adam', loss='sparse_categorical_crossentropy', metrics=['accuracy'])\n",
    "\n",
    "\n",
    "# Train the classification model\n",
    "classification_model.fit([X_train, X_train], y_train, epochs=10,validation_data=([X_test, X_test], y_test))\n"
   ]
  },
  {
   "cell_type": "code",
   "execution_count": null,
   "id": "91cef0c5",
   "metadata": {},
   "outputs": [],
   "source": [
    "# from keras.layers import Flatten\n",
    "# from keras.utils import to_categorical\n",
    "# # Assuming model_6 is your original model\n",
    "# base_model = contrastive_model.layers[0]\n",
    "# # Here I assumed that base_model is the part that deals with content image only\n",
    "\n",
    "# # Now, add a new Flatten layer to your base model\n",
    "# flattened = Flatten()(base_model.output)\n",
    "\n",
    "# # Add a new classification layer to the flattened output\n",
    "# output_layer = Dense(10, activation='softmax')(flattened)\n",
    "\n",
    "# # Create a new model\n",
    "# classification_model = Model(inputs=base_model.input, outputs=output_layer)\n",
    "# y_train = to_categorical(y_train, num_classes=10)\n",
    "# y_test = to_categorical(y_test, num_classes=10)\n",
    "# # Now you can compile and train this model\n",
    "# classification_model.compile(optimizer='adam', loss='categorical_crossentropy', metrics=['accuracy'])\n",
    "# classification_model.fit(X_train, y_train, epochs=10, validation_data=(X_test,y_test), batch_size=20)\n"
   ]
  }
 ],
 "metadata": {
  "kernelspec": {
   "display_name": "Python 3 (ipykernel)",
   "language": "python",
   "name": "python3"
  },
  "language_info": {
   "codemirror_mode": {
    "name": "ipython",
    "version": 3
   },
   "file_extension": ".py",
   "mimetype": "text/x-python",
   "name": "python",
   "nbconvert_exporter": "python",
   "pygments_lexer": "ipython3",
   "version": "3.9.12"
  }
 },
 "nbformat": 4,
 "nbformat_minor": 5
}
