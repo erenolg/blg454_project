{
 "cells": [
  {
   "cell_type": "markdown",
   "id": "6f750bc5",
   "metadata": {},
   "source": [
    "Import necessary libraries"
   ]
  },
  {
   "cell_type": "code",
   "execution_count": 24,
   "id": "36191d84",
   "metadata": {},
   "outputs": [],
   "source": [
    "import pandas as pd\n",
    "import numpy as np\n",
    "import matplotlib.pyplot as plt\n",
    "import random\n",
    "\n",
    "import tensorflow as tf\n",
    "import tensorflow_hub as hub\n",
    "\n",
    "from tensorflow.keras.datasets import cifar10\n",
    "from tensorflow.keras import layers\n",
    "from tensorflow.keras.models import Model"
   ]
  },
  {
   "cell_type": "markdown",
   "id": "d1318637",
   "metadata": {},
   "source": [
    "# Data Preparation"
   ]
  },
  {
   "cell_type": "markdown",
   "id": "d0641e3b",
   "metadata": {},
   "source": [
    "Load the dataset"
   ]
  },
  {
   "cell_type": "code",
   "execution_count": 25,
   "id": "e14bda4b",
   "metadata": {},
   "outputs": [],
   "source": [
    "(X_train, y_train), (X_test, y_test) = cifar10.load_data()"
   ]
  },
  {
   "cell_type": "markdown",
   "id": "b262ca71",
   "metadata": {},
   "source": [
    "Normalize data"
   ]
  },
  {
   "cell_type": "code",
   "execution_count": 26,
   "id": "120a3828",
   "metadata": {},
   "outputs": [],
   "source": [
    "X_train, X_test = X_train/255, X_test/255"
   ]
  },
  {
   "cell_type": "markdown",
   "id": "061bbe8a",
   "metadata": {},
   "source": [
    "Select Samples"
   ]
  },
  {
   "cell_type": "markdown",
   "id": "b8d903f7",
   "metadata": {},
   "source": [
    "# Apply Style Transfer"
   ]
  },
  {
   "cell_type": "markdown",
   "id": "4ade9a8a",
   "metadata": {},
   "source": [
    "Load the Style Transfer Model"
   ]
  },
  {
   "cell_type": "code",
   "execution_count": 27,
   "id": "f35da45b",
   "metadata": {},
   "outputs": [],
   "source": [
    "model = hub.load('https://tfhub.dev/google/magenta/arbitrary-image-stylization-v1-256/2')"
   ]
  },
  {
   "cell_type": "markdown",
   "id": "75173197",
   "metadata": {},
   "source": [
    "Load Style Images"
   ]
  },
  {
   "cell_type": "code",
   "execution_count": 28,
   "id": "ff607a6b",
   "metadata": {},
   "outputs": [],
   "source": [
    "def load_image(img_path):\n",
    "    img = tf.io.read_file(img_path)\n",
    "    img = tf.image.decode_image(img, channels=3)\n",
    "    img = tf.image.convert_image_dtype(img, tf.float32)\n",
    "    img = img[tf.newaxis, :]\n",
    "    return img"
   ]
  },
  {
   "cell_type": "code",
   "execution_count": null,
   "id": "0714c2f0",
   "metadata": {},
   "outputs": [],
   "source": [
    "style_images = []\n",
    "styles = [\"Frida\",\"Michael-Jackson\",\"Starry-Night\"]\n",
    "for style in styles:\n",
    "    style_images.append(load(f\"../styles/{style}.jpeg\"))"
   ]
  },
  {
   "cell_type": "markdown",
   "id": "8ff83593",
   "metadata": {},
   "source": [
    "Convert Images to TensorFlow Type"
   ]
  },
  {
   "cell_type": "code",
   "execution_count": 29,
   "id": "c7d158f6",
   "metadata": {},
   "outputs": [],
   "source": [
    "content_images = []\n",
    "\n",
    "for i in range(300):\n",
    "    content = tf.image.convert_image_dtype(X_train[i], tf.float32)\n",
    "    content = content[tf.newaxis, :]\n",
    "    content_images.append(content)"
   ]
  },
  {
   "cell_type": "markdown",
   "id": "32dfa1f2",
   "metadata": {},
   "source": [
    "Generate Positive and Negative Samples"
   ]
  },
  {
   "cell_type": "code",
   "execution_count": 30,
   "id": "a9a2de81",
   "metadata": {},
   "outputs": [],
   "source": [
    "def generate_samples(content_images, style_images, style_transfer_model):\n",
    "    negative_samples = []\n",
    "    positive_samples = []\n",
    "    # Generate positive samples\n",
    "    for content in content_images:\n",
    "\n",
    "        for style in style_images:\n",
    "            stylized_image = style_transfer_model(tf.constant(content), tf.constant(style))[0]\n",
    "            positive_samples.append((content, stylized_image))\n",
    "    \n",
    "    # Generate negative samples\n",
    "    for content1 in content_images:\n",
    "        for content2 in content_images:\n",
    "            if  not (np.array_equal(content1, content2)):\n",
    "                random_style = style_images[np.random.randint(0, len(style_images)-1)]\n",
    "                stylized_image = style_transfer_model(tf.constant(content1), tf.constant(random_style))[0]\n",
    "                negative_samples.append((content1, stylized_image))\n",
    "    \n",
    "    return positive_samples, negative_samples"
   ]
  },
  {
   "cell_type": "markdown",
   "id": "1090ff3b",
   "metadata": {},
   "source": [
    "# Constrastive Model"
   ]
  },
  {
   "cell_type": "code",
   "execution_count": 31,
   "id": "de37f74c",
   "metadata": {},
   "outputs": [],
   "source": [
    "# Define the contrastive model architecture\n",
    "def create_contrastive_model(input_shape_content, input_shape_style, embedding_dim):\n",
    "    input_content = tf.keras.Input(shape=input_shape_content)\n",
    "    input_style = tf.keras.Input(shape=input_shape_style)\n",
    "    \n",
    "    # Content branch\n",
    "    x_content = layers.Conv2D(32, (3, 3), activation='relu')(input_content)\n",
    "    x_content = layers.MaxPooling2D((2, 2))(x_content)\n",
    "    x_content = layers.Conv2D(64, (3, 3), activation='relu')(x_content)\n",
    "    x_content = layers.MaxPooling2D((2, 2))(x_content)\n",
    "    x_content = layers.Flatten()(x_content)\n",
    "    x_content = layers.Dense(embedding_dim, activation='relu')(x_content)\n",
    "    \n",
    "    # Style branch\n",
    "    x_style = layers.Conv2D(32, (3, 3), activation='relu')(input_style)\n",
    "    x_style = layers.MaxPooling2D((2, 2))(x_style)\n",
    "    x_style = layers.Conv2D(64, (3, 3), activation='relu')(x_style)\n",
    "    x_style = layers.MaxPooling2D((2, 2))(x_style)\n",
    "    x_style = layers.Flatten()(x_style)\n",
    "    x_style = layers.Dense(embedding_dim, activation='relu')(x_style)\n",
    "    \n",
    "    # Concatenate content and style embeddings\n",
    "    concatenated = layers.Concatenate()([x_content, x_style])\n",
    "    \n",
    "    flattened = layers.Flatten()(concatenated)\n",
    "    # Normalize the concatenated embeddings\n",
    "    normalized = layers.Lambda(lambda x: tf.math.l2_normalize(x, axis=1))(concatenated)\n",
    "    \n",
    "    # Create the model with inputs and outputs\n",
    "    model = tf.keras.Model(inputs=[input_content, input_style], outputs=normalized)\n",
    "    return model\n",
    "\n",
    "\n",
    "def contrastive_loss(y_true, y_pred, margin=1.0):\n",
    "    square_pred = tf.square(1 - y_pred)\n",
    "    margin_square = tf.square(tf.maximum(margin - y_pred, 0))\n",
    "    return tf.reduce_mean(y_true * square_pred + (1 - y_true) * margin_square)"
   ]
  },
  {
   "cell_type": "markdown",
   "id": "de2c01a9",
   "metadata": {},
   "source": [
    "Generate Samples"
   ]
  },
  {
   "cell_type": "code",
   "execution_count": 32,
   "id": "d9137981",
   "metadata": {},
   "outputs": [],
   "source": [
    "positive_samples, negative_samples = generate_samples(content_images, style_images, model)"
   ]
  },
  {
   "cell_type": "markdown",
   "id": "d01d609a",
   "metadata": {},
   "source": [
    "Create Contrastive Model"
   ]
  },
  {
   "cell_type": "code",
   "execution_count": 33,
   "id": "12b509ab",
   "metadata": {},
   "outputs": [],
   "source": [
    "contrastive_model = create_contrastive_model(input_shape_content=(32, 32, 3),\n",
    "                                             input_shape_style=(32, 32, 3),\n",
    "                                             embedding_dim=128)"
   ]
  },
  {
   "cell_type": "code",
   "execution_count": 34,
   "id": "5146897f",
   "metadata": {},
   "outputs": [],
   "source": [
    "positive_samples = np.array(positive_samples)\n",
    "negative_samples = np.array(negative_samples)"
   ]
  },
  {
   "cell_type": "code",
   "execution_count": 35,
   "id": "737558b1",
   "metadata": {},
   "outputs": [
    {
     "name": "stdout",
     "output_type": "stream",
     "text": [
      "p:180 | n: 3540\n"
     ]
    }
   ],
   "source": [
    "print(f\"p:{len(positive_samples)} | n: {len(negative_samples)}\")"
   ]
  },
  {
   "cell_type": "code",
   "execution_count": 36,
   "id": "e0656b72",
   "metadata": {},
   "outputs": [],
   "source": [
    "content_images_positive = positive_samples[:, 0]\n",
    "stylized_images_positive = positive_samples[:, 1]\n",
    "content_images_negative = negative_samples[:, 0]\n",
    "stylized_images_negative = negative_samples[:, 1]\n",
    "positive_labels = np.ones(len(positive_samples))\n",
    "negative_labels = np.zeros(len(negative_samples))\n",
    "train_images_content = np.concatenate((content_images_positive, content_images_negative))\n",
    "train_images_style = np.concatenate((stylized_images_positive, stylized_images_negative))\n",
    "train_labels_content = np.concatenate((positive_labels, negative_labels))\n",
    "\n",
    "train_images_content = np.squeeze(train_images_content, axis=1)\n",
    "train_images_style = np.squeeze(train_images_style, axis=1)\n",
    "\n",
    "# Shuffle the data\n",
    "indices = np.random.permutation(len(train_images_content))\n",
    "train_images_content = train_images_content[indices]\n",
    "train_images_style = train_images_style[indices]\n",
    "train_labels_content = train_labels_content[indices]\n",
    "\n",
    "# Select random samples for test data\n",
    "num_test_samples = 50\n",
    "test_indices = np.random.choice(len(train_images_content), size=num_test_samples, replace=False)\n",
    "test_images_content = train_images_content[test_indices]\n",
    "test_images_style = train_images_style[test_indices]\n",
    "test_labels_content = train_labels_content[test_indices]\n",
    "\n",
    "# Remove the selected test samples from the training set\n",
    "train_images_content = np.delete(train_images_content, test_indices, axis=0)\n",
    "train_images_style = np.delete(train_images_style, test_indices, axis=0)\n",
    "train_labels_content = np.delete(train_labels_content, test_indices)\n",
    "\n",
    "# Prepare the training data\n",
    "train_data = ([train_images_content, train_images_style], train_labels_content)\n",
    "\n",
    "# Prepare the test data\n",
    "test_data = ([test_images_content, test_images_style], test_labels_content)\n",
    "\n",
    "# Split the train_data into content and style inputs\n",
    "train_content_images = train_data[0][0]\n",
    "train_style_images = train_data[0][1]\n",
    "train_labels = train_data[1]\n",
    "\n",
    "test_content_images = test_data[0][0]\n",
    "test_style_images = test_data[0][1]\n",
    "test_labels = test_data[1]"
   ]
  },
  {
   "cell_type": "markdown",
   "id": "514bce84",
   "metadata": {},
   "source": [
    "# TEST"
   ]
  },
  {
   "cell_type": "code",
   "execution_count": 37,
   "id": "9db15782",
   "metadata": {},
   "outputs": [
    {
     "name": "stdout",
     "output_type": "stream",
     "text": [
      "Epoch 1/10\n",
      "116/116 [==============================] - 9s 60ms/step - loss: 0.8937\n",
      "Epoch 2/10\n",
      "116/116 [==============================] - 7s 59ms/step - loss: 0.8919\n",
      "Epoch 3/10\n",
      "116/116 [==============================] - 7s 58ms/step - loss: 0.8918\n",
      "Epoch 4/10\n",
      "116/116 [==============================] - 7s 58ms/step - loss: 0.8918\n",
      "Epoch 5/10\n",
      "116/116 [==============================] - 7s 60ms/step - loss: 0.8918\n",
      "Epoch 6/10\n",
      "116/116 [==============================] - 7s 63ms/step - loss: 0.8918\n",
      "Epoch 7/10\n",
      "116/116 [==============================] - 9s 77ms/step - loss: 0.8918\n",
      "Epoch 8/10\n",
      "116/116 [==============================] - 7s 59ms/step - loss: 0.8916\n",
      "Epoch 9/10\n",
      "116/116 [==============================] - 7s 58ms/step - loss: 0.8903\n",
      "Epoch 10/10\n",
      "116/116 [==============================] - 7s 63ms/step - loss: 0.8864\n"
     ]
    },
    {
     "data": {
      "text/plain": [
       "<keras.callbacks.History at 0x203f62ae940>"
      ]
     },
     "execution_count": 37,
     "metadata": {},
     "output_type": "execute_result"
    }
   ],
   "source": [
    "contrastive_model.compile(optimizer='adam', loss=contrastive_loss)\n",
    "contrastive_model.fit([train_content_images, train_style_images], train_labels, epochs=10)"
   ]
  },
  {
   "cell_type": "code",
   "execution_count": 41,
   "id": "19be2453",
   "metadata": {},
   "outputs": [
    {
     "data": {
      "text/plain": [
       "array([0., 0., 0., 0., 0., 0., 0., 0., 0., 0., 0., 0., 0., 0., 0., 0., 0.,\n",
       "       0., 0., 0.])"
      ]
     },
     "execution_count": 41,
     "metadata": {},
     "output_type": "execute_result"
    }
   ],
   "source": [
    "test_data[1]"
   ]
  },
  {
   "cell_type": "code",
   "execution_count": 54,
   "id": "c1c9d3d2",
   "metadata": {},
   "outputs": [
    {
     "data": {
      "text/plain": [
       "(50000, 1)"
      ]
     },
     "execution_count": 54,
     "metadata": {},
     "output_type": "execute_result"
    }
   ],
   "source": [
    "y_train.shape"
   ]
  },
  {
   "cell_type": "code",
   "execution_count": 51,
   "id": "9ba8d40a",
   "metadata": {},
   "outputs": [
    {
     "data": {
      "text/plain": [
       "(3700, 32, 32, 3)"
      ]
     },
     "execution_count": 51,
     "metadata": {},
     "output_type": "execute_result"
    }
   ],
   "source": [
    "train_data[0][0].shape"
   ]
  },
  {
   "cell_type": "code",
   "execution_count": 58,
   "id": "c329b2a0",
   "metadata": {},
   "outputs": [],
   "source": [
    "from keras.layers import Dense"
   ]
  },
  {
   "cell_type": "code",
   "execution_count": 64,
   "id": "fb5ce72c",
   "metadata": {},
   "outputs": [
    {
     "data": {
      "text/plain": [
       "(50000, 32, 32, 3)"
      ]
     },
     "execution_count": 64,
     "metadata": {},
     "output_type": "execute_result"
    }
   ],
   "source": [
    "X_train.shape"
   ]
  },
  {
   "cell_type": "code",
   "execution_count": 65,
   "id": "7584def4",
   "metadata": {},
   "outputs": [
    {
     "data": {
      "text/plain": [
       "(50000, 1)"
      ]
     },
     "execution_count": 65,
     "metadata": {},
     "output_type": "execute_result"
    }
   ],
   "source": [
    "y_train.shape"
   ]
  },
  {
   "cell_type": "code",
   "execution_count": 67,
   "id": "95a535a2",
   "metadata": {},
   "outputs": [
    {
     "data": {
      "text/plain": [
       "(10000, 32, 32, 3)"
      ]
     },
     "execution_count": 67,
     "metadata": {},
     "output_type": "execute_result"
    }
   ],
   "source": [
    "X_test.shape"
   ]
  },
  {
   "cell_type": "code",
   "execution_count": 66,
   "id": "ce4a9e7d",
   "metadata": {},
   "outputs": [
    {
     "data": {
      "text/plain": [
       "(10000, 1)"
      ]
     },
     "execution_count": 66,
     "metadata": {},
     "output_type": "execute_result"
    }
   ],
   "source": [
    "y_test.shape"
   ]
  },
  {
   "cell_type": "code",
   "execution_count": 68,
   "id": "8c2f463f",
   "metadata": {},
   "outputs": [
    {
     "data": {
      "text/plain": [
       "<KerasTensor: shape=(None, 32, 32, 10) dtype=float32 (created by layer 'dense_9')>"
      ]
     },
     "execution_count": 68,
     "metadata": {},
     "output_type": "execute_result"
    }
   ],
   "source": [
    "output_layer"
   ]
  },
  {
   "cell_type": "code",
   "execution_count": 75,
   "id": "91cef0c5",
   "metadata": {},
   "outputs": [
    {
     "name": "stdout",
     "output_type": "stream",
     "text": [
      "Epoch 1/10\n",
      "2500/2500 [==============================] - 9s 3ms/step - loss: 2.0083 - accuracy: 0.3104 - val_loss: 1.8263 - val_accuracy: 0.3564\n",
      "Epoch 2/10\n",
      "2500/2500 [==============================] - 9s 3ms/step - loss: 1.9242 - accuracy: 0.3445 - val_loss: 2.1374 - val_accuracy: 0.2889\n",
      "Epoch 3/10\n",
      "2500/2500 [==============================] - 8s 3ms/step - loss: 1.9104 - accuracy: 0.3554 - val_loss: 2.0024 - val_accuracy: 0.3118\n",
      "Epoch 4/10\n",
      "2500/2500 [==============================] - 9s 4ms/step - loss: 1.8885 - accuracy: 0.3648 - val_loss: 1.9112 - val_accuracy: 0.3548\n",
      "Epoch 5/10\n",
      "2500/2500 [==============================] - 8s 3ms/step - loss: 1.8822 - accuracy: 0.3644 - val_loss: 1.9181 - val_accuracy: 0.3635\n",
      "Epoch 6/10\n",
      "2500/2500 [==============================] - 10s 4ms/step - loss: 1.8613 - accuracy: 0.3735 - val_loss: 1.9878 - val_accuracy: 0.3178\n",
      "Epoch 7/10\n",
      "2500/2500 [==============================] - 9s 4ms/step - loss: 1.8597 - accuracy: 0.3722 - val_loss: 2.0140 - val_accuracy: 0.3241\n",
      "Epoch 8/10\n",
      "2500/2500 [==============================] - 10s 4ms/step - loss: 1.8523 - accuracy: 0.3781 - val_loss: 1.8512 - val_accuracy: 0.3619\n",
      "Epoch 9/10\n",
      "2500/2500 [==============================] - 9s 4ms/step - loss: 1.8610 - accuracy: 0.3744 - val_loss: 1.8498 - val_accuracy: 0.3618\n",
      "Epoch 10/10\n",
      "2500/2500 [==============================] - 8s 3ms/step - loss: 1.8380 - accuracy: 0.3809 - val_loss: 1.9346 - val_accuracy: 0.3522\n"
     ]
    },
    {
     "data": {
      "text/plain": [
       "<keras.callbacks.History at 0x203f7692c70>"
      ]
     },
     "execution_count": 75,
     "metadata": {},
     "output_type": "execute_result"
    }
   ],
   "source": [
    "from keras.layers import Flatten\n",
    "from keras.utils import to_categorical\n",
    "# Assuming model_6 is your original model\n",
    "base_model = contrastive_model.layers[0]\n",
    "# Here I assumed that base_model is the part that deals with content image only\n",
    "\n",
    "# Now, add a new Flatten layer to your base model\n",
    "flattened = Flatten()(base_model.output)\n",
    "\n",
    "# Add a new classification layer to the flattened output\n",
    "output_layer = Dense(10, activation='softmax')(flattened)\n",
    "\n",
    "# Create a new model\n",
    "classification_model = Model(inputs=base_model.input, outputs=output_layer)\n",
    "y_train = to_categorical(y_train, num_classes=10)\n",
    "y_test = to_categorical(y_test, num_classes=10)\n",
    "# Now you can compile and train this model\n",
    "classification_model.compile(optimizer='adam', loss='categorical_crossentropy', metrics=['accuracy'])\n",
    "classification_model.fit(X_train, y_train, epochs=10, validation_data=(X_test,y_test), batch_size=20)\n"
   ]
  },
  {
   "cell_type": "code",
   "execution_count": 56,
   "id": "c83d6691",
   "metadata": {},
   "outputs": [
    {
     "name": "stdout",
     "output_type": "stream",
     "text": [
      "Epoch 1/10\n"
     ]
    },
    {
     "ename": "ValueError",
     "evalue": "in user code:\n\n    File \"C:\\Users\\Hp\\anaconda3\\lib\\site-packages\\keras\\engine\\training.py\", line 1284, in train_function  *\n        return step_function(self, iterator)\n    File \"C:\\Users\\Hp\\anaconda3\\lib\\site-packages\\keras\\engine\\training.py\", line 1268, in step_function  **\n        outputs = model.distribute_strategy.run(run_step, args=(data,))\n    File \"C:\\Users\\Hp\\anaconda3\\lib\\site-packages\\keras\\engine\\training.py\", line 1249, in run_step  **\n        outputs = model.train_step(data)\n    File \"C:\\Users\\Hp\\anaconda3\\lib\\site-packages\\keras\\engine\\training.py\", line 1050, in train_step\n        y_pred = self(x, training=True)\n    File \"C:\\Users\\Hp\\anaconda3\\lib\\site-packages\\keras\\utils\\traceback_utils.py\", line 70, in error_handler\n        raise e.with_traceback(filtered_tb) from None\n    File \"C:\\Users\\Hp\\anaconda3\\lib\\site-packages\\keras\\engine\\input_spec.py\", line 219, in assert_input_compatibility\n        raise ValueError(\n\n    ValueError: Layer \"model_6\" expects 2 input(s), but it received 1 input tensors. Inputs received: [<tf.Tensor 'IteratorGetNext:0' shape=(None, 32, 32, 3) dtype=float32>]\n",
     "output_type": "error",
     "traceback": [
      "\u001b[1;31m---------------------------------------------------------------------------\u001b[0m",
      "\u001b[1;31mValueError\u001b[0m                                Traceback (most recent call last)",
      "Input \u001b[1;32mIn [56]\u001b[0m, in \u001b[0;36m<cell line: 13>\u001b[1;34m()\u001b[0m\n\u001b[0;32m     10\u001b[0m classification_model\u001b[38;5;241m.\u001b[39mcompile(optimizer\u001b[38;5;241m=\u001b[39m\u001b[38;5;124m'\u001b[39m\u001b[38;5;124madam\u001b[39m\u001b[38;5;124m'\u001b[39m, loss\u001b[38;5;241m=\u001b[39m\u001b[38;5;124m'\u001b[39m\u001b[38;5;124msparse_categorical_crossentropy\u001b[39m\u001b[38;5;124m'\u001b[39m, metrics\u001b[38;5;241m=\u001b[39m[\u001b[38;5;124m'\u001b[39m\u001b[38;5;124maccuracy\u001b[39m\u001b[38;5;124m'\u001b[39m])\n\u001b[0;32m     12\u001b[0m \u001b[38;5;66;03m# Train the classification model\u001b[39;00m\n\u001b[1;32m---> 13\u001b[0m \u001b[43mclassification_model\u001b[49m\u001b[38;5;241;43m.\u001b[39;49m\u001b[43mfit\u001b[49m\u001b[43m(\u001b[49m\u001b[43mX_train\u001b[49m\u001b[43m,\u001b[49m\u001b[43m \u001b[49m\u001b[43my_train\u001b[49m\u001b[43m,\u001b[49m\u001b[43m \u001b[49m\u001b[43mepochs\u001b[49m\u001b[38;5;241;43m=\u001b[39;49m\u001b[38;5;241;43m10\u001b[39;49m\u001b[43m,\u001b[49m\u001b[43m\\\u001b[49m\n\u001b[0;32m     14\u001b[0m \u001b[43m                         \u001b[49m\u001b[43mvalidation_data\u001b[49m\u001b[38;5;241;43m=\u001b[39;49m\u001b[43m(\u001b[49m\u001b[43mX_test\u001b[49m\u001b[43m,\u001b[49m\u001b[43my_test\u001b[49m\u001b[43m)\u001b[49m\u001b[43m,\u001b[49m\u001b[43m\\\u001b[49m\n\u001b[0;32m     15\u001b[0m \u001b[43m                         \u001b[49m\u001b[43mvalidation_batch_size\u001b[49m\u001b[43m \u001b[49m\u001b[38;5;241;43m=\u001b[39;49m\u001b[38;5;241;43m20\u001b[39;49m\u001b[43m)\u001b[49m\n",
      "File \u001b[1;32m~\\anaconda3\\lib\\site-packages\\keras\\utils\\traceback_utils.py:70\u001b[0m, in \u001b[0;36mfilter_traceback.<locals>.error_handler\u001b[1;34m(*args, **kwargs)\u001b[0m\n\u001b[0;32m     67\u001b[0m     filtered_tb \u001b[38;5;241m=\u001b[39m _process_traceback_frames(e\u001b[38;5;241m.\u001b[39m__traceback__)\n\u001b[0;32m     68\u001b[0m     \u001b[38;5;66;03m# To get the full stack trace, call:\u001b[39;00m\n\u001b[0;32m     69\u001b[0m     \u001b[38;5;66;03m# `tf.debugging.disable_traceback_filtering()`\u001b[39;00m\n\u001b[1;32m---> 70\u001b[0m     \u001b[38;5;28;01mraise\u001b[39;00m e\u001b[38;5;241m.\u001b[39mwith_traceback(filtered_tb) \u001b[38;5;28;01mfrom\u001b[39;00m \u001b[38;5;28mNone\u001b[39m\n\u001b[0;32m     71\u001b[0m \u001b[38;5;28;01mfinally\u001b[39;00m:\n\u001b[0;32m     72\u001b[0m     \u001b[38;5;28;01mdel\u001b[39;00m filtered_tb\n",
      "File \u001b[1;32m~\\AppData\\Local\\Temp\\__autograph_generated_filein73g8tq.py:15\u001b[0m, in \u001b[0;36mouter_factory.<locals>.inner_factory.<locals>.tf__train_function\u001b[1;34m(iterator)\u001b[0m\n\u001b[0;32m     13\u001b[0m \u001b[38;5;28;01mtry\u001b[39;00m:\n\u001b[0;32m     14\u001b[0m     do_return \u001b[38;5;241m=\u001b[39m \u001b[38;5;28;01mTrue\u001b[39;00m\n\u001b[1;32m---> 15\u001b[0m     retval_ \u001b[38;5;241m=\u001b[39m ag__\u001b[38;5;241m.\u001b[39mconverted_call(ag__\u001b[38;5;241m.\u001b[39mld(step_function), (ag__\u001b[38;5;241m.\u001b[39mld(\u001b[38;5;28mself\u001b[39m), ag__\u001b[38;5;241m.\u001b[39mld(iterator)), \u001b[38;5;28;01mNone\u001b[39;00m, fscope)\n\u001b[0;32m     16\u001b[0m \u001b[38;5;28;01mexcept\u001b[39;00m:\n\u001b[0;32m     17\u001b[0m     do_return \u001b[38;5;241m=\u001b[39m \u001b[38;5;28;01mFalse\u001b[39;00m\n",
      "\u001b[1;31mValueError\u001b[0m: in user code:\n\n    File \"C:\\Users\\Hp\\anaconda3\\lib\\site-packages\\keras\\engine\\training.py\", line 1284, in train_function  *\n        return step_function(self, iterator)\n    File \"C:\\Users\\Hp\\anaconda3\\lib\\site-packages\\keras\\engine\\training.py\", line 1268, in step_function  **\n        outputs = model.distribute_strategy.run(run_step, args=(data,))\n    File \"C:\\Users\\Hp\\anaconda3\\lib\\site-packages\\keras\\engine\\training.py\", line 1249, in run_step  **\n        outputs = model.train_step(data)\n    File \"C:\\Users\\Hp\\anaconda3\\lib\\site-packages\\keras\\engine\\training.py\", line 1050, in train_step\n        y_pred = self(x, training=True)\n    File \"C:\\Users\\Hp\\anaconda3\\lib\\site-packages\\keras\\utils\\traceback_utils.py\", line 70, in error_handler\n        raise e.with_traceback(filtered_tb) from None\n    File \"C:\\Users\\Hp\\anaconda3\\lib\\site-packages\\keras\\engine\\input_spec.py\", line 219, in assert_input_compatibility\n        raise ValueError(\n\n    ValueError: Layer \"model_6\" expects 2 input(s), but it received 1 input tensors. Inputs received: [<tf.Tensor 'IteratorGetNext:0' shape=(None, 32, 32, 3) dtype=float32>]\n"
     ]
    }
   ],
   "source": [
    "# Freeze the encoder model\n",
    "contrastive_model.trainable = False\n",
    "\n",
    "# Add a new classifier layer\n",
    "output_layer = tf.keras.layers.Dense(10, activation='softmax')(contrastive_model.output)\n",
    "\n",
    "# Define the new model for classification\n",
    "classification_model = Model(contrastive_model.input, output_layer)\n",
    "\n",
    "classification_model.compile(optimizer='adam', loss='sparse_categorical_crossentropy', metrics=['accuracy'])\n",
    "\n",
    "# Train the classification model\n",
    "classification_model.fit(X_train, y_train, epochs=10,\\\n",
    "                         validation_data=(X_test,y_test),\\\n",
    "                         validation_batch_size =20)"
   ]
  },
  {
   "cell_type": "code",
   "execution_count": 46,
   "id": "f72920e6",
   "metadata": {},
   "outputs": [
    {
     "data": {
      "text/plain": [
       "(20, 32, 32, 3)"
      ]
     },
     "execution_count": 46,
     "metadata": {},
     "output_type": "execute_result"
    }
   ],
   "source": [
    "test_data[0][0].shape"
   ]
  }
 ],
 "metadata": {
  "kernelspec": {
   "display_name": "Python 3 (ipykernel)",
   "language": "python",
   "name": "python3"
  },
  "language_info": {
   "codemirror_mode": {
    "name": "ipython",
    "version": 3
   },
   "file_extension": ".py",
   "mimetype": "text/x-python",
   "name": "python",
   "nbconvert_exporter": "python",
   "pygments_lexer": "ipython3",
   "version": "3.9.12"
  }
 },
 "nbformat": 4,
 "nbformat_minor": 5
}
